{
 "cells": [
  {
   "cell_type": "code",
   "execution_count": null,
   "id": "afb77847-cc0b-4223-9de5-07bd285b101e",
   "metadata": {},
   "outputs": [],
   "source": [
    "# Redis"
   ]
  },
  {
   "cell_type": "markdown",
   "id": "ebe7286f-40aa-4d07-b35c-7bde345c03f0",
   "metadata": {},
   "source": [
    "## Save ordered dict to file"
   ]
  },
  {
   "cell_type": "code",
   "execution_count": 20,
   "id": "646feb8b-156b-4a1e-b098-bc47172d2763",
   "metadata": {},
   "outputs": [
    {
     "name": "stdout",
     "output_type": "stream",
     "text": [
      "[[\"a\", 1], [\"b\", 2], [\"c\", 3]]\n",
      "[['a', 1], ['b', 2], ['c', 3]]\n"
     ]
    }
   ],
   "source": [
    "import json\n",
    "import collections\n",
    "\n",
    "d = collections.OrderedDict([('a', 1), ('b', 2), ('c', 3)])\n",
    "\n",
    "s = json.dumps(list(d.items()))\n",
    "print(s)\n",
    "\n",
    "value = json.loads(s)\n",
    "print(value)"
   ]
  },
  {
   "cell_type": "code",
   "execution_count": 22,
   "id": "47472f71-f83e-4e98-9bbf-e058f07692a9",
   "metadata": {},
   "outputs": [
    {
     "name": "stdout",
     "output_type": "stream",
     "text": [
      "{'hello': 'what up'}\n",
      "{'hey, second': 'Nothing is up'}\n"
     ]
    }
   ],
   "source": [
    "from collections import OrderedDict\n",
    "import json\n",
    "dic = OrderedDict()\n",
    "dic['hello'] = 'what up'\n",
    "dic_2 = OrderedDict()\n",
    "dic_2['hey, second'] = 'Nothing is up'\n",
    "\n",
    "with open('./tmp/file.json', 'w') as f:\n",
    "    dictionaries = [dic, dic_2]\n",
    "    f.write(json.dumps(dictionaries))\n",
    "with open('./tmp/file.json', 'r') as read_file:\n",
    "    loaded_dictionaries = json.loads(read_file.read())\n",
    "    print(loaded_dictionaries[0])\n",
    "    print(loaded_dictionaries[1])"
   ]
  },
  {
   "cell_type": "code",
   "execution_count": null,
   "id": "feae7ae2-bed1-42b8-bdc1-a7cb9e645eef",
   "metadata": {},
   "outputs": [],
   "source": []
  },
  {
   "cell_type": "code",
   "execution_count": 16,
   "id": "712a5a42-ff28-49fb-8f60-b14503d1084c",
   "metadata": {},
   "outputs": [],
   "source": [
    "import redis\n",
    "import json\n",
    "\n",
    "def touchredis(r, redis_key_name, dict_src):\n",
    "    # set\n",
    "    json_dict = json.dumps(dict_src, ensure_ascii=False).encode('utf-8')\n",
    "    r.set(redis_key_name, json_dict)\n",
    "\n",
    "    # get\n",
    "    json_dict_ret = r.get(redis_key_name).decode('utf-8')\n",
    "    dict_ret = dict(json.loads(json_dict_ret))\n",
    "    \n",
    "    print(dict_ret)\n"
   ]
  },
  {
   "cell_type": "code",
   "execution_count": 17,
   "id": "1630c4d1-04d7-4be7-a0f8-07ded5801a36",
   "metadata": {},
   "outputs": [
    {
     "name": "stdout",
     "output_type": "stream",
     "text": [
      "{'foo': '안녕', 'goo': ['헬로', '월드']}\n"
     ]
    }
   ],
   "source": [
    "r = redis.StrictRedis(host=\"localhost\", port=6379, db=0)\n",
    "dict_src = {\n",
    "    \"foo\": \"안녕\",\n",
    "    \"goo\": [\"헬로\", \"월드\"]\n",
    "}\n",
    "touchredis(r, 'dict_src', dict_src)\n"
   ]
  },
  {
   "cell_type": "code",
   "execution_count": 19,
   "id": "d74f265b-93e8-4368-abbd-d610bd973672",
   "metadata": {},
   "outputs": [
    {
     "name": "stdout",
     "output_type": "stream",
     "text": [
      "This is a Dict:\n",
      "\n",
      "{'foo': '안녕', 'goo': ['헬로', '월드']}\n",
      "a 1\n",
      "b 2\n",
      "c 3\n",
      "d 4\n",
      "\n",
      "This is an Ordered Dict:\n",
      "\n",
      "{'foo': '안녕', 'goo': ['헬로', '월드']}\n",
      "a 1\n",
      "b 2\n",
      "c 3\n",
      "d 4\n"
     ]
    }
   ],
   "source": [
    "# A Python program to demonstrate working of OrderedDict\n",
    "from collections import OrderedDict\n",
    "\n",
    "\n",
    "print(\"This is a Dict:\\n\")\n",
    "d = {}\n",
    "d['a'] = 1\n",
    "d['b'] = 2\n",
    "d['c'] = 3\n",
    "d['d'] = 4\n",
    "\n",
    "touchredis(r, 'dict_normal', dict_src)\n",
    "for key, value in d.items():\n",
    "    print(key, value)\n",
    "\n",
    "\n",
    "print(\"\\nThis is an Ordered Dict:\\n\")\n",
    "od = OrderedDict()\n",
    "od['a'] = 1\n",
    "od['b'] = 2\n",
    "od['c'] = 3\n",
    "od['d'] = 4\n",
    "\n",
    "touchredis(r, 'dict_ordered', dict_src)\n",
    "for key, value in od.items():\n",
    "    print(key, value)\n"
   ]
  },
  {
   "cell_type": "code",
   "execution_count": null,
   "id": "6b101c44-bd80-43b7-ae96-77f6762faa1c",
   "metadata": {},
   "outputs": [],
   "source": []
  }
 ],
 "metadata": {
  "kernelspec": {
   "display_name": "dl4cv",
   "language": "python",
   "name": "dl4cv"
  },
  "language_info": {
   "codemirror_mode": {
    "name": "ipython",
    "version": 3
   },
   "file_extension": ".py",
   "mimetype": "text/x-python",
   "name": "python",
   "nbconvert_exporter": "python",
   "pygments_lexer": "ipython3",
   "version": "3.8.10"
  }
 },
 "nbformat": 4,
 "nbformat_minor": 5
}
