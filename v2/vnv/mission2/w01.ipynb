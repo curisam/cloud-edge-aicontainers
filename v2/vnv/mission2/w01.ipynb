{
 "cells": [
  {
   "cell_type": "markdown",
   "id": "f5a09739",
   "metadata": {},
   "source": [
    "# VnV \n",
    "\n",
    "- JPark\n"
   ]
  },
  {
   "cell_type": "markdown",
   "id": "f28fbc8b-e6d4-4593-8f3c-d3c717f69b74",
   "metadata": {},
   "source": [
    "## 1. Config"
   ]
  },
  {
   "cell_type": "code",
   "execution_count": 1,
   "id": "1e9e7931-5994-40ea-b06a-c4a16183f2f7",
   "metadata": {},
   "outputs": [],
   "source": [
    "# Test images\n",
    "\n",
    "zip_images_url = 'http://keticmr.iptime.org:22080/edgeai/images/imagenet-mini-val.zip'\n",
    "zip_images = 'imagenet-mini-val.zip'\n",
    "dataset_root = './dataset'\n",
    "fpath_zip_images = dataset_root + '/' + zip_images\n",
    "fpath_testimages = dataset_root + '/imagenet-mini-val/'\n",
    "\n",
    "# Models\n",
    "#names = ['res18_weights.pth', 'res34_weights.pth', 'res50_weights.pth', 'res101_weights.pth', 'res152_weights.pth']\n",
    "names = ['resnet18-dict.pth', 'resnet34-dict.pth', 'resnet50-dict.pth', 'resnet101-dict.pth', 'resnet152-dict.pth']\n",
    "urlroot = 'http://keticmr.iptime.org:22080/edgeai/models_jpark/'\n",
    "modeldir = './checkpoint/'\n",
    "\n",
    "urlmodels = []\n",
    "for name in names:\n",
    "    urlmodels.append( urlroot + name )\n"
   ]
  },
  {
   "cell_type": "code",
   "execution_count": 2,
   "id": "0ddd6ecd-6152-41b3-ae6d-56fcc92a17ed",
   "metadata": {},
   "outputs": [
    {
     "data": {
      "text/plain": [
       "'./dataset/imagenet-mini-val.zip'"
      ]
     },
     "execution_count": 2,
     "metadata": {},
     "output_type": "execute_result"
    }
   ],
   "source": [
    "fpath_zip_images"
   ]
  },
  {
   "cell_type": "code",
   "execution_count": 3,
   "id": "db7797a7-f2f4-4a98-b685-6c95ad7fa50f",
   "metadata": {},
   "outputs": [
    {
     "data": {
      "text/plain": [
       "'./dataset/imagenet-mini-val/'"
      ]
     },
     "execution_count": 3,
     "metadata": {},
     "output_type": "execute_result"
    }
   ],
   "source": [
    "fpath_testimages"
   ]
  },
  {
   "cell_type": "code",
   "execution_count": 4,
   "id": "a54451c7-92f2-41f6-bd08-f98174837d53",
   "metadata": {},
   "outputs": [
    {
     "data": {
      "text/plain": [
       "['http://keticmr.iptime.org:22080/edgeai/models_jpark/resnet18-dict.pth',\n",
       " 'http://keticmr.iptime.org:22080/edgeai/models_jpark/resnet34-dict.pth',\n",
       " 'http://keticmr.iptime.org:22080/edgeai/models_jpark/resnet50-dict.pth',\n",
       " 'http://keticmr.iptime.org:22080/edgeai/models_jpark/resnet101-dict.pth',\n",
       " 'http://keticmr.iptime.org:22080/edgeai/models_jpark/resnet152-dict.pth']"
      ]
     },
     "execution_count": 4,
     "metadata": {},
     "output_type": "execute_result"
    }
   ],
   "source": [
    "urlmodels"
   ]
  },
  {
   "cell_type": "markdown",
   "id": "7da7b4c7",
   "metadata": {},
   "source": [
    "## 2. import"
   ]
  },
  {
   "cell_type": "code",
   "execution_count": 5,
   "id": "7132770d",
   "metadata": {},
   "outputs": [],
   "source": [
    "import torch"
   ]
  },
  {
   "cell_type": "markdown",
   "id": "8d1cea09-0f69-4d0b-8cd3-815f4d8c663d",
   "metadata": {},
   "source": [
    "## 3. download data"
   ]
  },
  {
   "cell_type": "code",
   "execution_count": 227,
   "id": "d64ffe56-e5be-492a-93b9-556c809f248f",
   "metadata": {},
   "outputs": [],
   "source": [
    "import os\n",
    "\n",
    "# make download directory\n",
    "def makedir(path): \n",
    "    try: \n",
    "        os.makedirs(path)\n",
    "    except OSError: \n",
    "        if not os.path.isdir(path): \n",
    "            raise\n",
    "    return os.path.abspath(path)\n",
    "\n",
    "# Download images\n",
    "import urllib, os\n",
    "\n",
    "d = makedir(dataset_root) # 저장 공간 생성\n",
    "url, fname = (zip_images_url, fpath_zip_images)\n",
    "try: \n",
    "    urllib.URLopener().retrieve(url, fname)\n",
    "except: \n",
    "    urllib.request.urlretrieve(url, fname)\n"
   ]
  },
  {
   "cell_type": "code",
   "execution_count": 228,
   "id": "3156edce-b0a6-4022-9e00-f6f4f582567f",
   "metadata": {},
   "outputs": [
    {
     "name": "stdout",
     "output_type": "stream",
     "text": [
      "unzip ./dataset/imagenet-mini-val.zip -d ./dataset\n",
      "Archive:  ./dataset/imagenet-mini-val.zip\n"
     ]
    },
    {
     "name": "stderr",
     "output_type": "stream",
     "text": [
      "replace ./dataset/__MACOSX/._imagenet-mini-val? [y]es, [n]o, [A]ll, [N]one, [r]ename:  NULL\n",
      "(EOF or read error, treating as \"[N]one\" ...)\n"
     ]
    },
    {
     "data": {
      "text/plain": [
       "256"
      ]
     },
     "execution_count": 228,
     "metadata": {},
     "output_type": "execute_result"
    }
   ],
   "source": [
    "\n",
    "# Unzip\n",
    "cmd = 'unzip ' + fpath_zip_images + ' -d ' + dataset_root\n",
    "print(cmd)\n",
    "os.system(cmd)"
   ]
  },
  {
   "cell_type": "markdown",
   "id": "2e73d6b4-49f6-4879-8618-0e0e3ce8fee6",
   "metadata": {},
   "source": [
    "## 4. Load model"
   ]
  },
  {
   "cell_type": "code",
   "execution_count": 229,
   "id": "3a5e8c22-1472-4504-bea1-fba3fdf71cae",
   "metadata": {},
   "outputs": [
    {
     "data": {
      "application/vnd.jupyter.widget-view+json": {
       "model_id": "4e509a211ae749329ab5bd16008badf9",
       "version_major": 2,
       "version_minor": 0
      },
      "text/plain": [
       "HBox(children=(FloatProgress(value=0.0, max=46834317.0), HTML(value='')))"
      ]
     },
     "metadata": {},
     "output_type": "display_data"
    },
    {
     "name": "stdout",
     "output_type": "stream",
     "text": [
      "\n"
     ]
    },
    {
     "data": {
      "application/vnd.jupyter.widget-view+json": {
       "model_id": "288db61c0a294a0cbc24ae07b5b80f52",
       "version_major": 2,
       "version_minor": 0
      },
      "text/plain": [
       "HBox(children=(FloatProgress(value=0.0, max=87326861.0), HTML(value='')))"
      ]
     },
     "metadata": {},
     "output_type": "display_data"
    },
    {
     "name": "stdout",
     "output_type": "stream",
     "text": [
      "\n"
     ]
    },
    {
     "data": {
      "application/vnd.jupyter.widget-view+json": {
       "model_id": "0fd84bb9484049b2acd03fcc6a9de236",
       "version_major": 2,
       "version_minor": 0
      },
      "text/plain": [
       "HBox(children=(FloatProgress(value=0.0, max=102540417.0), HTML(value='')))"
      ]
     },
     "metadata": {},
     "output_type": "display_data"
    },
    {
     "name": "stdout",
     "output_type": "stream",
     "text": [
      "\n"
     ]
    },
    {
     "data": {
      "application/vnd.jupyter.widget-view+json": {
       "model_id": "babe57722d0542c78a83645fa08a0818",
       "version_major": 2,
       "version_minor": 0
      },
      "text/plain": [
       "HBox(children=(FloatProgress(value=0.0, max=178814045.0), HTML(value='')))"
      ]
     },
     "metadata": {},
     "output_type": "display_data"
    },
    {
     "name": "stdout",
     "output_type": "stream",
     "text": [
      "\n"
     ]
    },
    {
     "data": {
      "application/vnd.jupyter.widget-view+json": {
       "model_id": "884582de37e94981b63dbc363aba5a4b",
       "version_major": 2,
       "version_minor": 0
      },
      "text/plain": [
       "HBox(children=(FloatProgress(value=0.0, max=241669177.0), HTML(value='')))"
      ]
     },
     "metadata": {},
     "output_type": "display_data"
    },
    {
     "name": "stdout",
     "output_type": "stream",
     "text": [
      "\n"
     ]
    }
   ],
   "source": [
    "# download models\n",
    "makedir(modeldir)\n",
    "\n",
    "for name in names:\n",
    "    torch.hub.download_url_to_file(urlroot+name, modeldir+name)\n",
    "    "
   ]
  },
  {
   "cell_type": "code",
   "execution_count": 6,
   "id": "e0d84dbe-d009-4d47-825d-65508155bf6b",
   "metadata": {},
   "outputs": [
    {
     "data": {
      "text/plain": [
       "['./checkpoint/resnet18-dict.pth',\n",
       " './checkpoint/resnet34-dict.pth',\n",
       " './checkpoint/resnet50-dict.pth',\n",
       " './checkpoint/resnet101-dict.pth',\n",
       " './checkpoint/resnet152-dict.pth']"
      ]
     },
     "execution_count": 6,
     "metadata": {},
     "output_type": "execute_result"
    }
   ],
   "source": [
    "\n",
    "model_fpaths = []\n",
    "for name in names:\n",
    "    model_fpaths.append(modeldir + name)\n",
    "\n",
    "model_fpaths\n",
    "#print(model_fpaths)\n",
    "#print(urlroot+name)\n",
    "#print(modeldir+name)"
   ]
  },
  {
   "cell_type": "code",
   "execution_count": 7,
   "id": "2e2e5985-bf26-42b2-b782-26a4b09adcae",
   "metadata": {},
   "outputs": [
    {
     "name": "stderr",
     "output_type": "stream",
     "text": [
      "Using cache found in /home/jpark/.cache/torch/hub/pytorch_vision_v0.10.0\n",
      "Using cache found in /home/jpark/.cache/torch/hub/pytorch_vision_v0.10.0\n",
      "Using cache found in /home/jpark/.cache/torch/hub/pytorch_vision_v0.10.0\n",
      "Using cache found in /home/jpark/.cache/torch/hub/pytorch_vision_v0.10.0\n",
      "Using cache found in /home/jpark/.cache/torch/hub/pytorch_vision_v0.10.0\n"
     ]
    }
   ],
   "source": [
    "# initial models\n",
    "\n",
    "model_names = ['resnet18', 'resnet34', 'resnet50', 'resnet101', 'resnet152']\n",
    "models = []\n",
    "\n",
    "for model_name in model_names:\n",
    "    m = torch.hub.load('pytorch/vision:v0.10.0', model_name, pretrained=False)\n",
    "    models.append(m)\n",
    "    m.eval()"
   ]
  },
  {
   "cell_type": "code",
   "execution_count": 8,
   "id": "90279bb6-892d-40eb-87fe-8c8aa5ebe37c",
   "metadata": {},
   "outputs": [
    {
     "data": {
      "text/plain": [
       "5"
      ]
     },
     "execution_count": 8,
     "metadata": {},
     "output_type": "execute_result"
    }
   ],
   "source": [
    "len(models)"
   ]
  },
  {
   "cell_type": "code",
   "execution_count": 9,
   "id": "9e6e5544-aaa8-42eb-a810-a05892c33f2c",
   "metadata": {},
   "outputs": [
    {
     "name": "stdout",
     "output_type": "stream",
     "text": [
      "0\n",
      "1\n",
      "2\n",
      "3\n",
      "4\n"
     ]
    }
   ],
   "source": [
    "# load saved weigts to the initial model\n",
    "for idx, model in enumerate(models):\n",
    "    checkpoint = urlmodels[idx]\n",
    "    model.load_state_dict(torch.hub.load_state_dict_from_url(checkpoint, progress=False))\n",
    "    model.eval()\n",
    "    print(idx)\n",
    "    \n",
    "    "
   ]
  },
  {
   "cell_type": "markdown",
   "id": "d77f07d7-965a-4646-875a-95c22f62b671",
   "metadata": {},
   "source": [
    "## Test data"
   ]
  },
  {
   "cell_type": "code",
   "execution_count": 10,
   "id": "c593b31d-38b3-4c0e-a778-87084e3c1ad4",
   "metadata": {},
   "outputs": [
    {
     "data": {
      "text/plain": [
       "'./dataset/imagenet-mini-val/'"
      ]
     },
     "execution_count": 10,
     "metadata": {},
     "output_type": "execute_result"
    }
   ],
   "source": [
    "fpath_testimages"
   ]
  },
  {
   "cell_type": "code",
   "execution_count": 11,
   "id": "c0cd75cf-7e1c-4643-b67f-354f88f0c69d",
   "metadata": {},
   "outputs": [
    {
     "data": {
      "text/plain": [
       "1000"
      ]
     },
     "execution_count": 11,
     "metadata": {},
     "output_type": "execute_result"
    }
   ],
   "source": [
    "import os\n",
    "dirs = os.listdir(fpath_testimages)\n",
    "len(dirs[:])"
   ]
  },
  {
   "cell_type": "code",
   "execution_count": 12,
   "id": "d1703d30-b54d-4ba2-8f8c-c9471f0c8207",
   "metadata": {},
   "outputs": [],
   "source": [
    "from glob import iglob\n",
    "\n",
    "'''\n",
    "# read test files\n",
    "testfiles = []\n",
    "for fname in sorted( iglob(fpath_testimages + '**/*.JPEG', recursive=True) ):\n",
    "    testfiles.append(fname)\n",
    "'''\n",
    "\n",
    "idx_gt = []\n",
    "idx = 0\n",
    "testfiles = []\n",
    "for d in sorted( iglob(fpath_testimages + 'n*', recursive=False) ):\n",
    "    for fname in sorted( iglob(d + '/*.JPEG', recursive=True) ):\n",
    "        testfiles.append(fname)\n",
    "        idx_gt.append( idx )\n",
    "    idx += 1\n"
   ]
  },
  {
   "cell_type": "code",
   "execution_count": 13,
   "id": "0e02cbba-058a-45c6-9d6f-29840aee1341",
   "metadata": {},
   "outputs": [
    {
     "data": {
      "text/plain": [
       "3923"
      ]
     },
     "execution_count": 13,
     "metadata": {},
     "output_type": "execute_result"
    }
   ],
   "source": [
    "len(idx_gt)"
   ]
  },
  {
   "cell_type": "code",
   "execution_count": 14,
   "id": "8841beb1-f23c-4dfa-8f2a-84ff16c8f99e",
   "metadata": {},
   "outputs": [
    {
     "data": {
      "text/plain": [
       "3923"
      ]
     },
     "execution_count": 14,
     "metadata": {},
     "output_type": "execute_result"
    }
   ],
   "source": [
    "len(testfiles)"
   ]
  },
  {
   "cell_type": "code",
   "execution_count": 15,
   "id": "483298b2-f985-4fba-8686-c3756ef2a156",
   "metadata": {},
   "outputs": [
    {
     "data": {
      "text/plain": [
       "['./dataset/imagenet-mini-val/n01440764/ILSVRC2012_val_00009111.JPEG',\n",
       " './dataset/imagenet-mini-val/n01440764/ILSVRC2012_val_00030740.JPEG']"
      ]
     },
     "execution_count": 15,
     "metadata": {},
     "output_type": "execute_result"
    }
   ],
   "source": [
    "testfiles[:2]"
   ]
  },
  {
   "cell_type": "code",
   "execution_count": 16,
   "id": "25aacc45-d173-493d-9a2d-90f68160bf99",
   "metadata": {},
   "outputs": [],
   "source": [
    "\n",
    "# Read the categories\n",
    "with open(\"imagenet_classes.txt\", \"r\") as f:\n",
    "    categories = [s.strip() for s in f.readlines()]\n",
    "\n"
   ]
  },
  {
   "cell_type": "code",
   "execution_count": 17,
   "id": "4646811a-2136-4a6a-b035-fc547e10e7c2",
   "metadata": {},
   "outputs": [
    {
     "data": {
      "text/plain": [
       "1000"
      ]
     },
     "execution_count": 17,
     "metadata": {},
     "output_type": "execute_result"
    }
   ],
   "source": [
    "len(categories)"
   ]
  },
  {
   "cell_type": "code",
   "execution_count": 18,
   "id": "812f2e25-fd8f-4d96-a1d7-e1acbe9fe3a6",
   "metadata": {},
   "outputs": [
    {
     "data": {
      "text/plain": [
       "['tench',\n",
       " 'goldfish',\n",
       " 'great white shark',\n",
       " 'tiger shark',\n",
       " 'hammerhead',\n",
       " 'electric ray',\n",
       " 'stingray',\n",
       " 'cock',\n",
       " 'hen',\n",
       " 'ostrich']"
      ]
     },
     "execution_count": 18,
     "metadata": {},
     "output_type": "execute_result"
    }
   ],
   "source": [
    "categories[0:10]"
   ]
  },
  {
   "cell_type": "code",
   "execution_count": 21,
   "id": "796b3e54-8600-410e-b26e-0bd439eb8b50",
   "metadata": {},
   "outputs": [
    {
     "name": "stderr",
     "output_type": "stream",
     "text": [
      "100%|██████████| 3923/3923 [00:37<00:00, 103.60it/s]"
     ]
    },
    {
     "name": "stdout",
     "output_type": "stream",
     "text": [
      "n =  3923\n",
      "top1_cnt =  3299\n",
      "top1_cnt/n =  0.8409380576089728\n",
      "time =  37.87246131896973\n"
     ]
    },
    {
     "name": "stderr",
     "output_type": "stream",
     "text": [
      "\n"
     ]
    }
   ],
   "source": [
    "# sample execution (requires torchvision)\n",
    "from PIL import Image\n",
    "from torchvision import transforms\n",
    "import time\n",
    "from tqdm import tqdm\n",
    "\n",
    "start = time.time()\n",
    "\n",
    "'''\n",
    "preprocess = transforms.Compose([\n",
    "        transforms.Resize(256),\n",
    "        transforms.CenterCrop(224),\n",
    "        transforms.ToTensor(),\n",
    "        transforms.Normalize(mean=[0.485, 0.456, 0.406], std=[0.229, 0.224, 0.225]),\n",
    "])\n",
    "'''\n",
    "\n",
    "# Define transforms for the evaluation phase\n",
    "preprocess = transforms.Compose([transforms.Resize(256),\n",
    "                                      transforms.CenterCrop(224),\n",
    "                                      transforms.ToTensor(),\n",
    "                                      transforms.Normalize((0.5, 0.5, 0.5), (0.5, 0.5, 0.5))\n",
    "                                ])\n",
    "\n",
    "model = models[0]\n",
    "\n",
    "top1_cnt = 0\n",
    "top5_cnt = 0\n",
    "\n",
    "testset = testfiles[:]\n",
    "n = len(testset)\n",
    "idx = 0\n",
    "for fpath in tqdm( testset ):\n",
    "    #print( fpath )\n",
    "    input_image = Image.open(fpath)\n",
    "\n",
    "    try:\n",
    "        input_tensor = preprocess(input_image)\n",
    "    except:\n",
    "        input_image = Image.open(testset[0])\n",
    "        input_tensor = preprocess(input_image)\n",
    "    input_batch = input_tensor.unsqueeze(0) # create a mini-batch as expected by the model\n",
    "\n",
    "    # move the input and model to GPU for speed if available\n",
    "    if torch.cuda.is_available():\n",
    "        input_batch = input_batch.to('cuda')\n",
    "        model.to('cuda')\n",
    "\n",
    "    with torch.no_grad():\n",
    "        output = model(input_batch)\n",
    "        \n",
    "    # Tensor of shape 1000, with confidence scores over Imagenet's 1000 classes\n",
    "    #print(output[0])\n",
    "    \n",
    "    # The output has unnormalized scores. To get probabilities, you can run a softmax on it.\n",
    "    probabilities = torch.nn.functional.softmax(output[0], dim=0)\n",
    "    #print(probabilities)\n",
    "\n",
    "    \n",
    "    # Show top categories per image\n",
    "    top5_prob, top5_catid = torch.topk(probabilities, 5)\n",
    "    for i in range(top5_prob.size(0)):\n",
    "        #print(top5_catid[i])\n",
    "        #pass\n",
    "        #print(categories[top5_catid[i]], top5_prob[i].item())\n",
    "        \n",
    "        if( top5_catid[i] == idx_gt[idx] ):\n",
    "            top1_cnt += 1\n",
    "        \n",
    "    #print('')\n",
    "    idx += 1\n",
    "\n",
    "end = time.time()\n",
    "print('n = ', n)\n",
    "print('top1_cnt = ', top1_cnt)\n",
    "print('top1_cnt/n = ', top1_cnt/n)\n",
    "print('time = ', end - start)"
   ]
  },
  {
   "cell_type": "code",
   "execution_count": null,
   "id": "d02d211f-ecec-4e87-b7ec-c510cc0e6d3e",
   "metadata": {},
   "outputs": [],
   "source": [
    "n =  3923\n",
    "top1_cnt =  3519\n",
    "top1_cnt/n =  0.8970175885801682\n",
    "time =  99.26183104515076"
   ]
  },
  {
   "cell_type": "code",
   "execution_count": null,
   "id": "71abef25-1608-4e42-884f-cd099daaa740",
   "metadata": {},
   "outputs": [],
   "source": [
    "n =  3923\n",
    "top1_cnt =  3299\n",
    "top1_cnt/n =  0.8409380576089728\n",
    "time =  37.87246131896973"
   ]
  },
  {
   "cell_type": "code",
   "execution_count": null,
   "id": "f265d22a-a55b-49e2-8fe2-c5c6a117e6b7",
   "metadata": {},
   "outputs": [],
   "source": []
  },
  {
   "cell_type": "code",
   "execution_count": null,
   "id": "843e599f-52f1-497e-b1d7-51b2206ca744",
   "metadata": {},
   "outputs": [],
   "source": []
  },
  {
   "cell_type": "code",
   "execution_count": null,
   "id": "e21433d7-28c4-456b-a63a-9ecb6bf4c7bf",
   "metadata": {},
   "outputs": [],
   "source": []
  },
  {
   "cell_type": "code",
   "execution_count": null,
   "id": "23509e23-a47b-4d4f-8c13-a47bba898209",
   "metadata": {},
   "outputs": [],
   "source": []
  },
  {
   "cell_type": "code",
   "execution_count": null,
   "id": "2d625968-575a-4ff9-85e6-faf985cc41a2",
   "metadata": {},
   "outputs": [],
   "source": []
  },
  {
   "cell_type": "markdown",
   "id": "91debd37",
   "metadata": {},
   "source": [
    "## 3. Load data for inference"
   ]
  },
  {
   "cell_type": "code",
   "execution_count": 3,
   "id": "e2328bf7",
   "metadata": {},
   "outputs": [
    {
     "name": "stdout",
     "output_type": "stream",
     "text": [
      "Files already downloaded and verified\n"
     ]
    }
   ],
   "source": [
    "test_preprocess = torchvision.transforms.Compose([\n",
    "    transforms.Resize(256),\n",
    "    transforms.CenterCrop(224),\n",
    "    transforms.ToTensor(),\n",
    "    transforms.Normalize(mean=[0.485, 0.456, 0.406], std=[0.229, 0.224, 0.225]),\n",
    "])\n",
    "\n",
    "batch_size = 1\n",
    "\n",
    "cifar10_test = torchvision.datasets.CIFAR10('./dataset',\n",
    "                                            train=False,\n",
    "                                            download=True,\n",
    "                                            transform=test_preprocess)\n",
    "test_loader = DataLoader(cifar10_test, batch_size=batch_size, shuffle=False)\n",
    "\n",
    "classes = ['plane', 'car', 'bird', 'cat',\n",
    "           'deer', 'dog', 'frog', 'horse', 'ship', 'truck']"
   ]
  },
  {
   "cell_type": "code",
   "execution_count": 4,
   "id": "a2c044ff",
   "metadata": {},
   "outputs": [
    {
     "name": "stderr",
     "output_type": "stream",
     "text": [
      "Clipping input data to the valid range for imshow with RGB data ([0..1] for floats or [0..255] for integers).\n"
     ]
    },
    {
     "data": {
      "image/png": "[encoded data removed]",
      "text/plain": [
       "<Figure size 432x288 with 1 Axes>"
      ]
     },
     "metadata": {
      "needs_background": "light"
     },
     "output_type": "display_data"
    },
    {
     "name": "stdout",
     "output_type": "stream",
     "text": [
      "cat  \n"
     ]
    }
   ],
   "source": [
    "# 이미지를 보여주기 위한 함수\n",
    "\n",
    "def imshow(img):\n",
    "    img = img / 2 + 0.5     # unnormalize\n",
    "    npimg = img.numpy()\n",
    "    plt.imshow(np.transpose(npimg, (1, 2, 0)))\n",
    "    plt.show()\n",
    "\n",
    "# 학습용 이미지를 무작위로 가져오기\n",
    "dataiter = iter(test_loader)\n",
    "images, labels = dataiter.next()\n",
    "\n",
    "# 이미지 보여주기\n",
    "imshow(torchvision.utils.make_grid(images, 10))\n",
    "# 정답(label) 출력\n",
    "print(' '.join(f'{classes[labels[j]]:5s}' for j in range(batch_size)))"
   ]
  },
  {
   "cell_type": "markdown",
   "id": "7ddf5410",
   "metadata": {},
   "source": [
    "## Model load"
   ]
  },
  {
   "cell_type": "markdown",
   "id": "08ed32ed",
   "metadata": {},
   "source": [
    "### Load initial model from hub"
   ]
  },
  {
   "cell_type": "code",
   "execution_count": 4,
   "id": "f7e59ab9-f3a9-41d1-a1e4-96383b17a6d9",
   "metadata": {},
   "outputs": [
    {
     "name": "stdout",
     "output_type": "stream",
     "text": [
      "pytorch-lightning                 1.2.1\n",
      "torch                             1.12.1\n",
      "torchaudio                        0.12.1+cu113\n",
      "torchmetrics                      0.7.3\n",
      "torchvision                       0.13.1\n"
     ]
    }
   ],
   "source": [
    "!pip list | grep torch"
   ]
  },
  {
   "cell_type": "code",
   "execution_count": 5,
   "id": "12c246fc",
   "metadata": {},
   "outputs": [
    {
     "name": "stderr",
     "output_type": "stream",
     "text": [
      "Using cache found in /home/jpark/.cache/torch/hub/pytorch_vision_v0.10.0\n",
      "/home/jpark/.local/lib/python3.8/site-packages/torchvision/models/_utils.py:208: UserWarning: The parameter 'pretrained' is deprecated since 0.13 and will be removed in 0.15, please use 'weights' instead.\n",
      "  warnings.warn(\n",
      "/home/jpark/.local/lib/python3.8/site-packages/torchvision/models/_utils.py:223: UserWarning: Arguments other than a weight enum or `None` for 'weights' are deprecated since 0.13 and will be removed in 0.15. The current behavior is equivalent to passing `weights=None`.\n",
      "  warnings.warn(msg)\n",
      "Using cache found in /home/jpark/.cache/torch/hub/pytorch_vision_v0.10.0\n",
      "Using cache found in /home/jpark/.cache/torch/hub/pytorch_vision_v0.10.0\n",
      "Using cache found in /home/jpark/.cache/torch/hub/pytorch_vision_v0.10.0\n",
      "Using cache found in /home/jpark/.cache/torch/hub/pytorch_vision_v0.10.0\n"
     ]
    }
   ],
   "source": [
    "## initial models\n",
    "res18 = torch.hub.load('pytorch/vision:v0.10.0',\n",
    "                       'resnet18', pretrained=False)\n",
    "res34 = torch.hub.load('pytorch/vision:v0.10.0',\n",
    "                       'resnet34', pretrained=False)\n",
    "res50 = torch.hub.load('pytorch/vision:v0.10.0',\n",
    "                       'resnet50', pretrained=False)\n",
    "res101 = torch.hub.load('pytorch/vision:v0.10.0',\n",
    "                        'resnet101', pretrained=False)\n",
    "res152 = torch.hub.load('pytorch/vision:v0.10.0',\n",
    "                        'resnet152', pretrained=False)"
   ]
  },
  {
   "cell_type": "markdown",
   "id": "d08dd560-3c63-4864-a4ed-adcf6f42b9d2",
   "metadata": {},
   "source": [
    "## download model"
   ]
  },
  {
   "cell_type": "code",
   "execution_count": 7,
   "id": "e22f4437-468f-4937-abd6-843ccc34563b",
   "metadata": {},
   "outputs": [],
   "source": [
    "\n",
    "names = ['res18_weights.pth', 'res34_weights.pth', 'res50_weights.pth', 'res101_weights.pth', 'res152_weights.pth']\n",
    "urlroot = 'http://keticmr.iptime.org:22080/edgeai/vnv_models/resnet/'\n",
    "localdir = './checkpoint/'\n"
   ]
  },
  {
   "cell_type": "code",
   "execution_count": 8,
   "id": "856abf0f-0bed-45c9-b128-f44bad7409ba",
   "metadata": {},
   "outputs": [
    {
     "data": {
      "text/plain": [
       "['./checkpoint/res18_weights.pth',\n",
       " './checkpoint/res34_weights.pth',\n",
       " './checkpoint/res50_weights.pth',\n",
       " './checkpoint/res101_weights.pth',\n",
       " './checkpoint/res152_weights.pth']"
      ]
     },
     "execution_count": 8,
     "metadata": {},
     "output_type": "execute_result"
    }
   ],
   "source": [
    "\n",
    "paths = []\n",
    "for name in names:\n",
    "    paths.append( localdir+name )\n",
    "    \n",
    "paths\n",
    "\n",
    "\n",
    "for name in names:\n",
    "    torch.hub.download_url_to_file(urlroot+name, localdir+name)\n",
    "    \n",
    "\n"
   ]
  },
  {
   "cell_type": "code",
   "execution_count": null,
   "id": "f365a0cb-4177-4c20-bbc9-71535f411ddc",
   "metadata": {},
   "outputs": [],
   "source": [
    "\n"
   ]
  },
  {
   "cell_type": "markdown",
   "id": "f3dc4688",
   "metadata": {},
   "source": [
    "### Load saved weights to the model\n",
    "별도 선언해준 구조까지 모두 적용 후 저장된 가중치 파일을 적용<br>\n",
    "<br>\n",
    "**ResNet18**"
   ]
  },
  {
   "cell_type": "code",
   "execution_count": 9,
   "id": "69540ea1",
   "metadata": {},
   "outputs": [],
   "source": [
    "device = torch.device(\"cuda:0\" if torch.cuda.is_available() else \"cpu\")\n",
    "\n",
    "model_ft = res18\n",
    "num_ftrs = model_ft.fc.in_features\n",
    "# Here the size of each output sample is set to 2.\n",
    "# Alternatively, it can be generalized to nn.Linear(num_ftrs, len(class_names)).\n",
    "model_ft.fc = nn.Linear(num_ftrs, len(classes))\n"
   ]
  },
  {
   "cell_type": "code",
   "execution_count": 10,
   "id": "7a4fb8a6-cbb4-4cb3-83ae-8a6848721051",
   "metadata": {},
   "outputs": [],
   "source": [
    "\n",
    "## load saved weigts to the initial model\n",
    "path = paths[0]\n",
    "saved_weights = torch.load(path)\n",
    "model_ft.load_state_dict(saved_weights)\n",
    "\n",
    "res18_ft = model_ft.to(device)"
   ]
  },
  {
   "cell_type": "markdown",
   "id": "6364c4f5",
   "metadata": {},
   "source": [
    "**ResNet34**"
   ]
  },
  {
   "cell_type": "code",
   "execution_count": 11,
   "id": "20a1a61a",
   "metadata": {},
   "outputs": [],
   "source": [
    "model_ft = res34\n",
    "num_ftrs = model_ft.fc.in_features\n",
    "# Here the size of each output sample is set to 2.\n",
    "# Alternatively, it can be generalized to nn.Linear(num_ftrs, len(class_names)).\n",
    "model_ft.fc = nn.Linear(num_ftrs, len(classes))\n",
    "\n",
    "## load saved weigts to the initial model\n",
    "path = paths[1]\n",
    "saved_weights = torch.load(path)\n",
    "model_ft.load_state_dict(saved_weights)\n",
    "\n",
    "res34_ft = model_ft.to(device)"
   ]
  },
  {
   "cell_type": "markdown",
   "id": "4d5c4e1d",
   "metadata": {},
   "source": [
    "**ResNet50**"
   ]
  },
  {
   "cell_type": "code",
   "execution_count": 12,
   "id": "ee4e6d51",
   "metadata": {},
   "outputs": [],
   "source": [
    "model_ft = res50\n",
    "num_ftrs = model_ft.fc.in_features\n",
    "# Here the size of each output sample is set to 2.\n",
    "# Alternatively, it can be generalized to nn.Linear(num_ftrs, len(class_names)).\n",
    "model_ft.fc = nn.Linear(num_ftrs, len(classes))\n",
    "\n",
    "## load saved weigts to the initial model\n",
    "path = paths[2]\n",
    "saved_weights = torch.load(path)\n",
    "model_ft.load_state_dict(saved_weights)\n",
    "\n",
    "res50_ft = model_ft.to(device)"
   ]
  },
  {
   "cell_type": "markdown",
   "id": "adf5ddaf",
   "metadata": {},
   "source": [
    "**ResNet101**"
   ]
  },
  {
   "cell_type": "code",
   "execution_count": 13,
   "id": "77a01cec",
   "metadata": {},
   "outputs": [],
   "source": [
    "model_ft = res101\n",
    "num_ftrs = model_ft.fc.in_features\n",
    "# Here the size of each output sample is set to 2.\n",
    "# Alternatively, it can be generalized to nn.Linear(num_ftrs, len(class_names)).\n",
    "model_ft.fc = nn.Linear(num_ftrs, len(classes))\n",
    "\n",
    "## load saved weigts to the initial model\n",
    "path = paths[3]\n",
    "saved_weights = torch.load(path)\n",
    "model_ft.load_state_dict(saved_weights)\n",
    "\n",
    "res101_ft = model_ft.to(device)"
   ]
  },
  {
   "cell_type": "markdown",
   "id": "112af74e",
   "metadata": {},
   "source": [
    "**ResNet152**"
   ]
  },
  {
   "cell_type": "code",
   "execution_count": 14,
   "id": "2639345b",
   "metadata": {},
   "outputs": [],
   "source": [
    "model_ft = res152\n",
    "num_ftrs = model_ft.fc.in_features\n",
    "# Here the size of each output sample is set to 2.\n",
    "# Alternatively, it can be generalized to nn.Linear(num_ftrs, len(class_names)).\n",
    "model_ft.fc = nn.Linear(num_ftrs, len(classes))\n",
    "\n",
    "## load saved weigts to the initial model\n",
    "path = paths[4]\n",
    "saved_weights = torch.load(path)\n",
    "model_ft.load_state_dict(saved_weights)\n",
    "\n",
    "res152_ft = model_ft.to(device)"
   ]
  },
  {
   "cell_type": "markdown",
   "id": "d8ada766",
   "metadata": {},
   "source": [
    "## Inference\n",
    "불러온 가중치로 업데이트된 모델들에 대한 추론 시간 비교<br>"
   ]
  },
  {
   "cell_type": "markdown",
   "id": "e330c9c8",
   "metadata": {},
   "source": [
    "### ResNet18\n",
    "#### GPU : RTX 3080 ti (w01 node)"
   ]
  },
  {
   "cell_type": "code",
   "execution_count": 16,
   "id": "a111b722",
   "metadata": {},
   "outputs": [
    {
     "name": "stderr",
     "output_type": "stream",
     "text": [
      "100%|██████████| 10000/10000 [00:44<00:00, 223.00it/s]"
     ]
    },
    {
     "name": "stdout",
     "output_type": "stream",
     "text": [
      "모델명 : model_res18\n",
      "Accuracy of the model on the test images: 10.0 %\n",
      "소요시간 :  44.8457465171814\n"
     ]
    },
    {
     "name": "stderr",
     "output_type": "stream",
     "text": [
      "\n"
     ]
    }
   ],
   "source": [
    "# gpu set\n",
    "device = torch.device('cuda' if torch.cuda.is_available() else 'cpu')\n",
    "\n",
    "# Test the model\n",
    "if torch.cuda.is_available():\n",
    "    res18_ft.to('cuda')\n",
    "\n",
    "with torch.no_grad():\n",
    "    start = time.time()\n",
    "    correct = 0\n",
    "    total = 0\n",
    "    for data in tqdm(test_loader, mininterval=0.01):\n",
    "        images, labels = data\n",
    "        images = images.to(device)\n",
    "        labels = labels.to(device)\n",
    "        outputs = res18_ft(images)\n",
    "        _, predicted = torch.max(outputs.data, 1)\n",
    "        total += labels.size(0)\n",
    "        correct += (predicted == labels).sum().item()\n",
    "        \n",
    "    print(\"모델명 : model_res18\")\n",
    "    print('Accuracy of the model on the test images: {} %'.format(100 * correct / total))\n",
    "    print(\"소요시간 : \", time.time() - start)"
   ]
  },
  {
   "cell_type": "markdown",
   "id": "015614e3",
   "metadata": {},
   "source": [
    "#### CPU (w01 node)"
   ]
  },
  {
   "cell_type": "code",
   "execution_count": 36,
   "id": "895658da",
   "metadata": {},
   "outputs": [
    {
     "name": "stderr",
     "output_type": "stream",
     "text": [
      "100%|█████████████████████████████████████████████████████████████████████████████████████████████████████████████████████████████████████████████████████| 313/313 [01:11<00:00,  4.38it/s]"
     ]
    },
    {
     "name": "stdout",
     "output_type": "stream",
     "text": [
      "모델명 : model_res18\n",
      "Accuracy of the model on the test images: 91.04 %\n",
      "소요시간 :  71.54424023628235\n"
     ]
    },
    {
     "name": "stderr",
     "output_type": "stream",
     "text": [
      "\n"
     ]
    }
   ],
   "source": [
    "# gpu set\n",
    "device = torch.device('cpu')\n",
    "\n",
    "# Test the model\n",
    "if torch.cuda.is_available():\n",
    "    res18_ft.to('cpu')\n",
    "\n",
    "with torch.no_grad():\n",
    "    start = time.time()\n",
    "    correct = 0\n",
    "    total = 0\n",
    "    for data in tqdm(test_loader, mininterval=0.01):\n",
    "        images, labels = data\n",
    "        images = images.to(device)\n",
    "        labels = labels.to(device)\n",
    "        outputs = res18_ft(images)\n",
    "        _, predicted = torch.max(outputs.data, 1)\n",
    "        total += labels.size(0)\n",
    "        correct += (predicted == labels).sum().item()\n",
    "        \n",
    "    print(\"모델명 : model_res18\")\n",
    "    print('Accuracy of the model on the test images: {} %'.format(100 * correct / total))\n",
    "    print(\"소요시간 : \", time.time() - start)"
   ]
  },
  {
   "cell_type": "markdown",
   "id": "6cfc1e8b",
   "metadata": {},
   "source": [
    "### ResNet34\n",
    "#### GPU"
   ]
  },
  {
   "cell_type": "code",
   "execution_count": 12,
   "id": "a443c591",
   "metadata": {},
   "outputs": [
    {
     "name": "stderr",
     "output_type": "stream",
     "text": [
      "100%|█████████████████████████████████████████████████| 313/313 [00:17<00:00, 18.26it/s]"
     ]
    },
    {
     "name": "stdout",
     "output_type": "stream",
     "text": [
      "모델명 : model_res34\n",
      "Accuracy of the model on the test images: 92.84 %\n",
      "소요시간 :  17.141077518463135\n"
     ]
    },
    {
     "name": "stderr",
     "output_type": "stream",
     "text": [
      "\n"
     ]
    }
   ],
   "source": [
    "# gpu set\n",
    "device = torch.device('cuda' if torch.cuda.is_available() else 'cpu')\n",
    "\n",
    "# Test the model\n",
    "if torch.cuda.is_available():\n",
    "    res34_ft.to('cuda')\n",
    "\n",
    "with torch.no_grad():\n",
    "    start = time.time()\n",
    "    correct = 0\n",
    "    total = 0\n",
    "    for data in tqdm(test_loader, mininterval=0.01):\n",
    "        images, labels = data\n",
    "        images = images.to(device)\n",
    "        labels = labels.to(device)\n",
    "        outputs = res34_ft(images)\n",
    "        _, predicted = torch.max(outputs.data, 1)\n",
    "        total += labels.size(0)\n",
    "        correct += (predicted == labels).sum().item()\n",
    "        \n",
    "    print(\"모델명 : model_res34\")\n",
    "    print('Accuracy of the model on the test images: {} %'.format(100 * correct / total))\n",
    "    print(\"소요시간 : \", time.time() - start)"
   ]
  },
  {
   "cell_type": "markdown",
   "id": "f38698c0",
   "metadata": {},
   "source": [
    "#### CPU"
   ]
  },
  {
   "cell_type": "code",
   "execution_count": 13,
   "id": "2c9a9256",
   "metadata": {},
   "outputs": [
    {
     "name": "stderr",
     "output_type": "stream",
     "text": [
      "100%|█████████████████████████████████████████████████| 313/313 [04:40<00:00,  1.12it/s]"
     ]
    },
    {
     "name": "stdout",
     "output_type": "stream",
     "text": [
      "모델명 : model_res34\n",
      "Accuracy of the model on the test images: 92.84 %\n",
      "소요시간 :  280.5474326610565\n"
     ]
    },
    {
     "name": "stderr",
     "output_type": "stream",
     "text": [
      "\n"
     ]
    }
   ],
   "source": [
    "# gpu set\n",
    "device = torch.device('cpu')\n",
    "\n",
    "# Test the model\n",
    "if torch.cuda.is_available():\n",
    "    res34_ft.to('cpu')\n",
    "\n",
    "with torch.no_grad():\n",
    "    start = time.time()\n",
    "    correct = 0\n",
    "    total = 0\n",
    "    for data in tqdm(test_loader, mininterval=0.01):\n",
    "        images, labels = data\n",
    "        images = images.to(device)\n",
    "        labels = labels.to(device)\n",
    "        outputs = res34_ft(images)\n",
    "        _, predicted = torch.max(outputs.data, 1)\n",
    "        total += labels.size(0)\n",
    "        correct += (predicted == labels).sum().item()\n",
    "        \n",
    "    print(\"모델명 : model_res34\")\n",
    "    print('Accuracy of the model on the test images: {} %'.format(100 * correct / total))\n",
    "    print(\"소요시간 : \", time.time() - start)"
   ]
  },
  {
   "cell_type": "markdown",
   "id": "f9ceee60",
   "metadata": {},
   "source": [
    "### ResNet50\n",
    "#### GPU"
   ]
  },
  {
   "cell_type": "code",
   "execution_count": 14,
   "id": "1e737762",
   "metadata": {},
   "outputs": [
    {
     "name": "stderr",
     "output_type": "stream",
     "text": [
      "100%|█████████████████████████████████████████████████| 313/313 [00:19<00:00, 15.65it/s]"
     ]
    },
    {
     "name": "stdout",
     "output_type": "stream",
     "text": [
      "모델명 : model_res50\n",
      "Accuracy of the model on the test images: 93.37 %\n",
      "소요시간 :  19.997405767440796\n"
     ]
    },
    {
     "name": "stderr",
     "output_type": "stream",
     "text": [
      "\n"
     ]
    }
   ],
   "source": [
    "# gpu set\n",
    "device = torch.device('cuda' if torch.cuda.is_available() else 'cpu')\n",
    "\n",
    "# Test the model\n",
    "if torch.cuda.is_available():\n",
    "    res50_ft.to('cuda')\n",
    "\n",
    "with torch.no_grad():\n",
    "    start = time.time()\n",
    "    correct = 0\n",
    "    total = 0\n",
    "    for data in tqdm(test_loader, mininterval=0.01):\n",
    "        images, labels = data\n",
    "        images = images.to(device)\n",
    "        labels = labels.to(device)\n",
    "        outputs = res50_ft(images)\n",
    "        _, predicted = torch.max(outputs.data, 1)\n",
    "        total += labels.size(0)\n",
    "        correct += (predicted == labels).sum().item()\n",
    "        \n",
    "    print(\"모델명 : model_res50\")\n",
    "    print('Accuracy of the model on the test images: {} %'.format(100 * correct / total))\n",
    "    print(\"소요시간 : \", time.time() - start)"
   ]
  },
  {
   "cell_type": "markdown",
   "id": "8b1e2016",
   "metadata": {},
   "source": [
    "#### CPU"
   ]
  },
  {
   "cell_type": "code",
   "execution_count": 15,
   "id": "726c3818",
   "metadata": {},
   "outputs": [
    {
     "name": "stderr",
     "output_type": "stream",
     "text": [
      "100%|█████████████████████████████████████████████████| 313/313 [08:43<00:00,  1.67s/it]"
     ]
    },
    {
     "name": "stdout",
     "output_type": "stream",
     "text": [
      "모델명 : model_res50\n",
      "Accuracy of the model on the test images: 93.37 %\n",
      "소요시간 :  523.9516932964325\n"
     ]
    },
    {
     "name": "stderr",
     "output_type": "stream",
     "text": [
      "\n"
     ]
    }
   ],
   "source": [
    "# gpu set\n",
    "device = torch.device('cpu')\n",
    "\n",
    "# Test the model\n",
    "if torch.cuda.is_available():\n",
    "    res50_ft.to('cpu')\n",
    "\n",
    "with torch.no_grad():\n",
    "    start = time.time()\n",
    "    correct = 0\n",
    "    total = 0\n",
    "    for data in tqdm(test_loader, mininterval=0.01):\n",
    "        images, labels = data\n",
    "        images = images.to(device)\n",
    "        labels = labels.to(device)\n",
    "        outputs = res50_ft(images)\n",
    "        _, predicted = torch.max(outputs.data, 1)\n",
    "        total += labels.size(0)\n",
    "        correct += (predicted == labels).sum().item()\n",
    "        \n",
    "    print(\"모델명 : model_res50\")\n",
    "    print('Accuracy of the model on the test images: {} %'.format(100 * correct / total))\n",
    "    print(\"소요시간 : \", time.time() - start)"
   ]
  },
  {
   "cell_type": "markdown",
   "id": "0cef1086",
   "metadata": {},
   "source": [
    "### ResNet101\n",
    "#### GPU"
   ]
  },
  {
   "cell_type": "code",
   "execution_count": 16,
   "id": "8554c057",
   "metadata": {},
   "outputs": [
    {
     "name": "stderr",
     "output_type": "stream",
     "text": [
      "100%|█████████████████████████████████████████████████| 313/313 [00:25<00:00, 12.10it/s]"
     ]
    },
    {
     "name": "stdout",
     "output_type": "stream",
     "text": [
      "모델명 : model_res101\n",
      "Accuracy of the model on the test images: 94.4 %\n",
      "소요시간 :  25.875438451766968\n"
     ]
    },
    {
     "name": "stderr",
     "output_type": "stream",
     "text": [
      "\n"
     ]
    }
   ],
   "source": [
    "# gpu set\n",
    "device = torch.device('cuda' if torch.cuda.is_available() else 'cpu')\n",
    "\n",
    "# Test the model\n",
    "if torch.cuda.is_available():\n",
    "    res101_ft.to('cuda')\n",
    "\n",
    "with torch.no_grad():\n",
    "    start = time.time()\n",
    "    correct = 0\n",
    "    total = 0\n",
    "    for data in tqdm(test_loader, mininterval=0.01):\n",
    "        images, labels = data\n",
    "        images = images.to(device)\n",
    "        labels = labels.to(device)\n",
    "        outputs = res101_ft(images)\n",
    "        _, predicted = torch.max(outputs.data, 1)\n",
    "        total += labels.size(0)\n",
    "        correct += (predicted == labels).sum().item()\n",
    "        \n",
    "    print(\"모델명 : model_res101\")\n",
    "    print('Accuracy of the model on the test images: {} %'.format(100 * correct / total))\n",
    "    print(\"소요시간 : \", time.time() - start)"
   ]
  },
  {
   "cell_type": "markdown",
   "id": "27734c87",
   "metadata": {},
   "source": [
    "#### CPU"
   ]
  },
  {
   "cell_type": "code",
   "execution_count": 17,
   "id": "0afe50ef",
   "metadata": {},
   "outputs": [
    {
     "name": "stderr",
     "output_type": "stream",
     "text": [
      "100%|█████████████████████████████████████████████████| 313/313 [13:25<00:00,  2.57s/it]"
     ]
    },
    {
     "name": "stdout",
     "output_type": "stream",
     "text": [
      "모델명 : model_res101\n",
      "Accuracy of the model on the test images: 94.41 %\n",
      "소요시간 :  805.4357748031616\n"
     ]
    },
    {
     "name": "stderr",
     "output_type": "stream",
     "text": [
      "\n"
     ]
    }
   ],
   "source": [
    "# gpu set\n",
    "device = torch.device('cpu')\n",
    "\n",
    "# Test the model\n",
    "if torch.cuda.is_available():\n",
    "    res101_ft.to('cpu')\n",
    "\n",
    "with torch.no_grad():\n",
    "    start = time.time()\n",
    "    correct = 0\n",
    "    total = 0\n",
    "    for data in tqdm(test_loader, mininterval=0.01):\n",
    "        images, labels = data\n",
    "        images = images.to(device)\n",
    "        labels = labels.to(device)\n",
    "        outputs = res101_ft(images)\n",
    "        _, predicted = torch.max(outputs.data, 1)\n",
    "        total += labels.size(0)\n",
    "        correct += (predicted == labels).sum().item()\n",
    "        \n",
    "    print(\"모델명 : model_res101\")\n",
    "    print('Accuracy of the model on the test images: {} %'.format(100 * correct / total))\n",
    "    print(\"소요시간 : \", time.time() - start)"
   ]
  },
  {
   "cell_type": "markdown",
   "id": "9569c065",
   "metadata": {},
   "source": [
    "### ResNet152\n",
    "#### GPU"
   ]
  },
  {
   "cell_type": "code",
   "execution_count": 17,
   "id": "d6887317",
   "metadata": {},
   "outputs": [
    {
     "name": "stderr",
     "output_type": "stream",
     "text": [
      "100%|██████████| 10000/10000 [03:15<00:00, 51.24it/s]"
     ]
    },
    {
     "name": "stdout",
     "output_type": "stream",
     "text": [
      "모델명 : model_res152\n",
      "Accuracy of the model on the test images: 20.45 %\n",
      "소요시간 :  195.15411520004272\n"
     ]
    },
    {
     "name": "stderr",
     "output_type": "stream",
     "text": [
      "\n"
     ]
    }
   ],
   "source": [
    "# gpu set\n",
    "device = torch.device('cuda' if torch.cuda.is_available() else 'cpu')\n",
    "\n",
    "# Test the model\n",
    "if torch.cuda.is_available():\n",
    "    res152_ft.to('cuda')\n",
    "\n",
    "with torch.no_grad():\n",
    "    start = time.time()\n",
    "    correct = 0\n",
    "    total = 0\n",
    "    for data in tqdm(test_loader, mininterval=0.01):\n",
    "        images, labels = data\n",
    "        images = images.to(device)\n",
    "        labels = labels.to(device)\n",
    "        outputs = res152_ft(images)\n",
    "        _, predicted = torch.max(outputs.data, 1)\n",
    "        total += labels.size(0)\n",
    "        correct += (predicted == labels).sum().item()\n",
    "        \n",
    "    print(\"모델명 : model_res152\")\n",
    "    print('Accuracy of the model on the test images: {} %'.format(100 * correct / total))\n",
    "    print(\"소요시간 : \", time.time() - start)"
   ]
  },
  {
   "cell_type": "markdown",
   "id": "9f05483c",
   "metadata": {},
   "source": [
    "#### CPU"
   ]
  },
  {
   "cell_type": "code",
   "execution_count": 20,
   "id": "db4061ef",
   "metadata": {},
   "outputs": [
    {
     "name": "stderr",
     "output_type": "stream",
     "text": [
      "100%|█████████████████████████████████████████████████| 313/313 [18:41<00:00,  3.58s/it]"
     ]
    },
    {
     "name": "stdout",
     "output_type": "stream",
     "text": [
      "모델명 : model_res152\n",
      "Accuracy of the model on the test images: 95.11 %\n",
      "소요시간 :  1121.0137231349945\n"
     ]
    },
    {
     "name": "stderr",
     "output_type": "stream",
     "text": [
      "\n"
     ]
    }
   ],
   "source": [
    "# gpu set\n",
    "device = torch.device('cpu')\n",
    "\n",
    "# Test the model\n",
    "if torch.cuda.is_available():\n",
    "    res152_ft.to('cpu')\n",
    "\n",
    "with torch.no_grad():\n",
    "    start = time.time()\n",
    "    correct = 0\n",
    "    total = 0\n",
    "    for data in tqdm(test_loader, mininterval=0.01):\n",
    "        images, labels = data\n",
    "        images = images.to(device)\n",
    "        labels = labels.to(device)\n",
    "        outputs = res152_ft(images)\n",
    "        _, predicted = torch.max(outputs.data, 1)\n",
    "        total += labels.size(0)\n",
    "        correct += (predicted == labels).sum().item()\n",
    "        \n",
    "    print(\"모델명 : model_res152\")\n",
    "    print('Accuracy of the model on the test images: {} %'.format(100 * correct / total))\n",
    "    print(\"소요시간 : \", time.time() - start)"
   ]
  },
  {
   "cell_type": "code",
   "execution_count": null,
   "id": "37964cc4",
   "metadata": {},
   "outputs": [],
   "source": []
  }
 ],
 "metadata": {
  "kernelspec": {
   "display_name": "dl4cv",
   "language": "python",
   "name": "dl4cv"
  },
  "language_info": {
   "codemirror_mode": {
    "name": "ipython",
    "version": 3
   },
   "file_extension": ".py",
   "mimetype": "text/x-python",
   "name": "python",
   "nbconvert_exporter": "python",
   "pygments_lexer": "ipython3",
   "version": "3.8.10"
  }
 },
 "nbformat": 4,
 "nbformat_minor": 5
}
