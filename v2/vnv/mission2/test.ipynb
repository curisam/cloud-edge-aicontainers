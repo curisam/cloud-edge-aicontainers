{
 "cells": [
  {
   "cell_type": "markdown",
   "id": "68ce651a-7df4-490f-add6-20d3b984147c",
   "metadata": {},
   "source": [
    "# test"
   ]
  },
  {
   "cell_type": "code",
   "execution_count": 2,
   "id": "0efdf00d-3c96-4e65-be19-13a54d7e0271",
   "metadata": {},
   "outputs": [
    {
     "data": {
      "text/plain": [
       "1"
      ]
     },
     "execution_count": 2,
     "metadata": {},
     "output_type": "execute_result"
    }
   ],
   "source": [
    "minval = min(1, 3)\n",
    "minval"
   ]
  },
  {
   "cell_type": "code",
   "execution_count": 3,
   "id": "bfe7c8e5-9669-473b-8dfc-92379c14a29a",
   "metadata": {},
   "outputs": [
    {
     "data": {
      "text/plain": [
       "3"
      ]
     },
     "execution_count": 3,
     "metadata": {},
     "output_type": "execute_result"
    }
   ],
   "source": [
    "maxval = max(1, 3)\n",
    "maxval"
   ]
  },
  {
   "cell_type": "code",
   "execution_count": 4,
   "id": "a8e67c7d-8a32-4b68-aece-ac0af7f29bc5",
   "metadata": {},
   "outputs": [
    {
     "data": {
      "text/plain": [
       "0.25"
      ]
     },
     "execution_count": 4,
     "metadata": {},
     "output_type": "execute_result"
    }
   ],
   "source": [
    "32 / 128"
   ]
  },
  {
   "cell_type": "code",
   "execution_count": 9,
   "id": "560b0662-3cad-4224-a022-9dbc1fa6e5d9",
   "metadata": {},
   "outputs": [],
   "source": [
    "\n",
    "class ModelSelection():\n",
    "    def __init__(self):\n",
    "        # Models\n",
    "        self.urlroot = 'http://keticmr.iptime.org:22080/edgeai/models_jpark/'\n",
    "\n",
    "        self.model_names_resnet = [ \n",
    "            'resnet18',\n",
    "            'resnet34',\n",
    "            'resnet50',\n",
    "            'resnet101',\n",
    "            'resnet152',\n",
    "        ]\n",
    "        self.repo_resnet = 'pytorch/vision:v0.10.0'\n",
    "\n",
    "        self.model_names_mobnet = [\n",
    "            'mobilenet_v3_small',\n",
    "            'mobilenet_v3_large',\n",
    "        ]\n",
    "        self.repo_mobnet = 'pytorch/vision:v0.10.0'\n",
    "\n",
    "        self.model_names_effnet = [ \n",
    "            'nvidia_efficientnet_b0',\n",
    "            'nvidia_efficientnet_b4',\n",
    "            'nvidia_efficientnet_widese_b0',\n",
    "            'nvidia_efficientnet_widese_b4',\n",
    "        ]\n",
    "        self.repo_effnet = 'NVIDIA/DeepLearningExamples:torchhub'\n",
    "\n",
    "        model_names = self.model_names_resnet + self.model_names_effnet + self.model_names_mobnet\n",
    "        pth_names = [ model_name + '-dict.pth' for model_name in model_names ]\n",
    "\n",
    "        self.urlmodels = []\n",
    "        for pth_name in pth_names:\n",
    "            self.urlmodels.append(self.urlroot + pth_name)\n",
    "\n",
    "    def hi(self):\n",
    "        return 'hi'\n",
    "\n",
    "    def showAllModels(self):\n",
    "        print( self.urlmodels )\n",
    "\n",
    "    def greedModelSelection(self):\n",
    "        return 'resnet152'\n",
    "\n",
    "    def advancedModelSelection(self):\n",
    "        return 'resnet101'"
   ]
  },
  {
   "cell_type": "code",
   "execution_count": 10,
   "id": "75772a3f-57cf-4566-b2aa-64d4ece0fafa",
   "metadata": {},
   "outputs": [],
   "source": [
    "m = ModelSelection()"
   ]
  },
  {
   "cell_type": "code",
   "execution_count": 11,
   "id": "ad925833-a942-4845-a359-6e3bbc32d810",
   "metadata": {},
   "outputs": [
    {
     "name": "stdout",
     "output_type": "stream",
     "text": [
      "['http://keticmr.iptime.org:22080/edgeai/models_jpark/resnet18-dict.pth', 'http://keticmr.iptime.org:22080/edgeai/models_jpark/resnet34-dict.pth', 'http://keticmr.iptime.org:22080/edgeai/models_jpark/resnet50-dict.pth', 'http://keticmr.iptime.org:22080/edgeai/models_jpark/resnet101-dict.pth', 'http://keticmr.iptime.org:22080/edgeai/models_jpark/resnet152-dict.pth', 'http://keticmr.iptime.org:22080/edgeai/models_jpark/nvidia_efficientnet_b0-dict.pth', 'http://keticmr.iptime.org:22080/edgeai/models_jpark/nvidia_efficientnet_b4-dict.pth', 'http://keticmr.iptime.org:22080/edgeai/models_jpark/nvidia_efficientnet_widese_b0-dict.pth', 'http://keticmr.iptime.org:22080/edgeai/models_jpark/nvidia_efficientnet_widese_b4-dict.pth', 'http://keticmr.iptime.org:22080/edgeai/models_jpark/mobilenet_v3_small-dict.pth', 'http://keticmr.iptime.org:22080/edgeai/models_jpark/mobilenet_v3_large-dict.pth']\n"
     ]
    }
   ],
   "source": [
    "m.showAllModels()"
   ]
  },
  {
   "cell_type": "code",
   "execution_count": 18,
   "id": "09ffa6a1-898e-4270-a8a9-3b7f231ad5db",
   "metadata": {},
   "outputs": [
    {
     "data": {
      "text/plain": [
       "True"
      ]
     },
     "execution_count": 18,
     "metadata": {},
     "output_type": "execute_result"
    }
   ],
   "source": [
    "s = 'hello world'\n",
    "\n",
    "\"hello\" in s"
   ]
  },
  {
   "cell_type": "code",
   "execution_count": 23,
   "id": "1a9054db-2f8e-4a0b-9f6e-cbdd3d592c59",
   "metadata": {},
   "outputs": [
    {
     "name": "stdout",
     "output_type": "stream",
     "text": [
      "{\"is_cuda_available\" : True}\n"
     ]
    }
   ],
   "source": [
    "import torch\n",
    "print('{' + f'\"is_cuda_available\" : {torch.cuda.is_available()}' + '}')\n"
   ]
  },
  {
   "cell_type": "code",
   "execution_count": null,
   "id": "2a75c66d-1e75-4e47-b3e2-46d96ca82567",
   "metadata": {},
   "outputs": [],
   "source": []
  }
 ],
 "metadata": {
  "kernelspec": {
   "display_name": "Python 3 (ipykernel)",
   "language": "python",
   "name": "python3"
  },
  "language_info": {
   "codemirror_mode": {
    "name": "ipython",
    "version": 3
   },
   "file_extension": ".py",
   "mimetype": "text/x-python",
   "name": "python",
   "nbconvert_exporter": "python",
   "pygments_lexer": "ipython3",
   "version": "3.8.10"
  }
 },
 "nbformat": 4,
 "nbformat_minor": 5
}
