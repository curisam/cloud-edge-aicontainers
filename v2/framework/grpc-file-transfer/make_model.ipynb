{
 "cells": [
  {
   "cell_type": "markdown",
   "id": "4757315b-a1e5-4df8-ba8f-1181237afe40",
   "metadata": {},
   "source": [
    "# Make NN model\n",
    "\n",
    "- gRPC로 신경망 모델을 전달하는 실험을 위해 기 학습된 모델을 저장합니다.\n",
    "- 서버와 클라이언트 상호간에 전달을 수행하며, \"Netron\" 유틸리티로 확인합니다."
   ]
  },
  {
   "cell_type": "markdown",
   "id": "7f5ff216-9ba0-42b4-9534-ce6755992988",
   "metadata": {},
   "source": [
    "## samll text data"
   ]
  },
  {
   "cell_type": "code",
   "execution_count": 10,
   "id": "319f47d1-06cd-479c-a03e-0e1268f30ffc",
   "metadata": {},
   "outputs": [],
   "source": [
    "! cal 2022 > \"server/dataset/cal2022.txt\""
   ]
  },
  {
   "cell_type": "markdown",
   "id": "b3f8e8ee-bf52-4e00-a3f0-9dbe9b6067bf",
   "metadata": {},
   "source": [
    "## vgg16"
   ]
  },
  {
   "cell_type": "code",
   "execution_count": 7,
   "id": "e49b61b3-17f3-417f-a451-9fef27340e40",
   "metadata": {},
   "outputs": [],
   "source": [
    "import torch\n",
    "import torchvision\n",
    "import torch.onnx\n",
    "\n",
    "# 1. 실제 사용하는 custom model을 불러와서 저장 가능\n",
    "model = torchvision.models.vgg16(pretrained=False)\n",
    "\n",
    "# 2. model의 파라미터를 OrderedDict 형태로 저장\n",
    "params = model.state_dict()\n",
    "\n",
    "# 3. 동적 그래프 형태의 pytorch model을 위하여 data를 model로 흘려주기 위한 더미 데이터 주입\n",
    "dummy_data = torch.empty(1, 3, 224, 224, dtype = torch.float32)\n",
    "\n",
    "# 4. onnx 파일을 export 함. 함수에는 차례대로 model, data, 저장할 파일명 순서대로 입력\n",
    "torch.onnx.export(model, dummy_data, \"server/dataset/vgg16.onnx\")"
   ]
  },
  {
   "cell_type": "markdown",
   "id": "b862cfb3-3724-48ce-a476-a604b98d8c52",
   "metadata": {},
   "source": [
    "## Resnet, pth file"
   ]
  },
  {
   "cell_type": "code",
   "execution_count": 8,
   "id": "1877a93a-fc75-4d91-867e-36ac52b7ecbf",
   "metadata": {},
   "outputs": [
    {
     "name": "stderr",
     "output_type": "stream",
     "text": [
      "Using cache found in /Users/jpark/.cache/torch/hub/pytorch_vision_v0.10.0\n",
      "Using cache found in /Users/jpark/.cache/torch/hub/pytorch_vision_v0.10.0\n",
      "Using cache found in /Users/jpark/.cache/torch/hub/pytorch_vision_v0.10.0\n"
     ]
    }
   ],
   "source": [
    "# Save pth file\n",
    "import torch\n",
    "\n",
    "# model_names = ['resnet18', 'resnet34', 'resnet50', 'resnet101', 'resnet152']\n",
    "model_names = ['resnet18', 'resnet34', 'resnet50']\n",
    "\n",
    "for name in model_names:\n",
    "    model = torch.hub.load('pytorch/vision:v0.10.0', name, pretrained=True)\n",
    "\n",
    "    PATH = \"server/dataset/\" + name + '.pth'\n",
    "    torch.save(model.state_dict(), PATH)"
   ]
  },
  {
   "cell_type": "markdown",
   "id": "6f1019ce-8c37-4aec-8fcd-a1a1748d92d2",
   "metadata": {},
   "source": [
    "## Resnet, onnx file"
   ]
  },
  {
   "cell_type": "code",
   "execution_count": 9,
   "id": "f39db42e-4132-40dc-bf46-268f4be488e2",
   "metadata": {},
   "outputs": [
    {
     "name": "stderr",
     "output_type": "stream",
     "text": [
      "Using cache found in /Users/jpark/.cache/torch/hub/pytorch_vision_v0.10.0\n",
      "Using cache found in /Users/jpark/.cache/torch/hub/pytorch_vision_v0.10.0\n",
      "Using cache found in /Users/jpark/.cache/torch/hub/pytorch_vision_v0.10.0\n"
     ]
    }
   ],
   "source": [
    "# Save onnx file\n",
    "import torch\n",
    "import torch.onnx \n",
    "\n",
    "# model_names = ['resnet18', 'resnet34', 'resnet50', 'resnet101', 'resnet152']\n",
    "model_names = ['resnet18', 'resnet34', 'resnet50']\n",
    "\n",
    "for name in model_names:\n",
    "    PATH = \"server/dataset/\" + name + '.onnx'\n",
    "    \n",
    "    model = torch.hub.load('pytorch/vision:v0.10.0', name, pretrained=True)\n",
    "    #model.eval()\n",
    "\n",
    "    # 동적 그래프 형태의 pytorch model을 위하여 data를 model로 흘려주기 위한 더미 데이터 주입\n",
    "    dummy_data = torch.empty(1, 3, 224, 224, dtype = torch.float32)\n",
    "\n",
    "    # onnx 파일을 export 함. 함수에는 차례대로 model, data, 저장할 파일명 순서대로 입력\n",
    "    torch.onnx.export(model, dummy_data, PATH)\n",
    "\n",
    "\n",
    "\n",
    "\n",
    "\n"
   ]
  },
  {
   "cell_type": "code",
   "execution_count": null,
   "id": "1485889d-95d1-4a51-9297-f78ffa83cdeb",
   "metadata": {},
   "outputs": [],
   "source": []
  }
 ],
 "metadata": {
  "kernelspec": {
   "display_name": "Python 3 (ipykernel)",
   "language": "python",
   "name": "python3"
  },
  "language_info": {
   "codemirror_mode": {
    "name": "ipython",
    "version": 3
   },
   "file_extension": ".py",
   "mimetype": "text/x-python",
   "name": "python",
   "nbconvert_exporter": "python",
   "pygments_lexer": "ipython3",
   "version": "3.8.10"
  }
 },
 "nbformat": 4,
 "nbformat_minor": 5
}
