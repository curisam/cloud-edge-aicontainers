{
 "cells": [
  {
   "cell_type": "markdown",
   "id": "4757315b-a1e5-4df8-ba8f-1181237afe40",
   "metadata": {},
   "source": [
    "# Make torch model\n",
    "\n",
    "- gRPC로 신경망 모델을 전달하는 실험을 위해 기 학습된 모델을 저장합니다.\n",
    "- 서버와 클라이언트 상호간에 전달을 수행하며, \"Netron\" 유틸리티로 확인합니다."
   ]
  },
  {
   "cell_type": "code",
   "execution_count": null,
   "id": "1877a93a-fc75-4d91-867e-36ac52b7ecbf",
   "metadata": {},
   "outputs": [
    {
     "name": "stderr",
     "output_type": "stream",
     "text": [
      "Using cache found in /Users/jpark/.cache/torch/hub/pytorch_vision_v0.10.0\n",
      "Using cache found in /Users/jpark/.cache/torch/hub/pytorch_vision_v0.10.0\n",
      "Using cache found in /Users/jpark/.cache/torch/hub/pytorch_vision_v0.10.0\n"
     ]
    }
   ],
   "source": [
    "import torch\n",
    "\n",
    "# model_names = ['resnet18', 'resnet34', 'resnet50', 'resnet101', 'resnet152']\n",
    "model_names = ['resnet18', 'resnet34', 'resnet50']\n",
    "\n",
    "for name in model_names:\n",
    "    model = torch.hub.load('pytorch/vision:v0.10.0', name, pretrained=True)\n",
    "    #model.eval()\n",
    "    PATH = \"server/dataset/\" + name + '.pth'\n",
    "    torch.save(model.state_dict(), PATH)"
   ]
  }
 ],
 "metadata": {
  "kernelspec": {
   "display_name": "Python 3 (ipykernel)",
   "language": "python",
   "name": "python3"
  },
  "language_info": {
   "codemirror_mode": {
    "name": "ipython",
    "version": 3
   },
   "file_extension": ".py",
   "mimetype": "text/x-python",
   "name": "python",
   "nbconvert_exporter": "python",
   "pygments_lexer": "ipython3",
   "version": "3.9.13"
  }
 },
 "nbformat": 4,
 "nbformat_minor": 5
}
