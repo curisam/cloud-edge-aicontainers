{
 "cells": [
  {
   "cell_type": "markdown",
   "id": "7c0a0762-d87f-4308-a015-a4ce1317bd35",
   "metadata": {},
   "source": [
    "# Routing\n",
    "\n",
    "- 참고 (2018년 국문 번역문) : https://blog.storyg.co/rabbitmqs/tutorials/python/04-routing\n",
    "\n",
    "- 참고 (최신 정식 문서) : https://www.rabbitmq.com/tutorials/tutorial-four-python.html\n"
   ]
  },
  {
   "cell_type": "code",
   "execution_count": 93,
   "id": "3d0430fa-9aef-4665-8688-e203050ccf78",
   "metadata": {},
   "outputs": [
    {
     "name": "stdout",
     "output_type": "stream",
     "text": [
      "3.10.7\n"
     ]
    }
   ],
   "source": [
    "! rabbitmqctl --version"
   ]
  },
  {
   "cell_type": "code",
   "execution_count": 94,
   "id": "589d4391-a4e8-44d3-91b1-4d9f6a9cd57e",
   "metadata": {},
   "outputs": [
    {
     "name": "stdout",
     "output_type": "stream",
     "text": [
      "Listing exchanges for vhost / ...\n",
      "name\ttype\n",
      "amq.headers\theaders\n",
      "amq.match\theaders\n",
      "logs\tfanout\n",
      "amq.rabbitmq.trace\ttopic\n",
      "amq.direct\tdirect\n",
      "amq.topic\ttopic\n",
      "amq.fanout\tfanout\n",
      "\tdirect\n"
     ]
    }
   ],
   "source": [
    "! rabbitmqctl list_exchanges"
   ]
  },
  {
   "cell_type": "code",
   "execution_count": 95,
   "id": "0d738234-4529-49fd-9b8e-ed3e05516a01",
   "metadata": {},
   "outputs": [
    {
     "name": "stdout",
     "output_type": "stream",
     "text": [
      "+--------------------+---------+\n",
      "|        name        |  type   |\n",
      "+--------------------+---------+\n",
      "|                    | direct  |\n",
      "| amq.direct         | direct  |\n",
      "| amq.fanout         | fanout  |\n",
      "| amq.headers        | headers |\n",
      "| amq.match          | headers |\n",
      "| amq.rabbitmq.trace | topic   |\n",
      "| amq.topic          | topic   |\n",
      "| logs               | fanout  |\n",
      "+--------------------+---------+\n"
     ]
    }
   ],
   "source": [
    "! rabbitmqadmin list exchanges"
   ]
  },
  {
   "cell_type": "code",
   "execution_count": 96,
   "id": "bde312b7-4d6b-44f2-a20e-521bf62757f7",
   "metadata": {},
   "outputs": [
    {
     "name": "stdout",
     "output_type": "stream",
     "text": [
      "Listing bindings for vhost /...\n",
      "source_name\tsource_kind\tdestination_name\tdestination_kind\trouting_key\targuments\n",
      "\texchange\tlog_queue\tqueue\tlog_queue\t[]\n",
      "\texchange\tamq.gen-b40As3H2aeUm8Z2f6buFxQ\tqueue\tamq.gen-b40As3H2aeUm8Z2f6buFxQ\t[]\n",
      "\texchange\ttask_queue\tqueue\ttask_queue\t[]\n",
      "\texchange\tamq.gen-UFOhCq9P19yhtbN6G98Xnw\tqueue\tamq.gen-UFOhCq9P19yhtbN6G98Xnw\t[]\n",
      "\texchange\thello\tqueue\thello\t[]\n",
      "\texchange\tamq.gen-oD3kH8VIyDwZkYzF95athQ\tqueue\tamq.gen-oD3kH8VIyDwZkYzF95athQ\t[]\n",
      "logs\texchange\tamq.gen-UFOhCq9P19yhtbN6G98Xnw\tqueue\tamq.gen-UFOhCq9P19yhtbN6G98Xnw\t[]\n",
      "logs\texchange\tamq.gen-b40As3H2aeUm8Z2f6buFxQ\tqueue\tamq.gen-b40As3H2aeUm8Z2f6buFxQ\t[]\n",
      "logs\texchange\tamq.gen-oD3kH8VIyDwZkYzF95athQ\tqueue\tamq.gen-oD3kH8VIyDwZkYzF95athQ\t[]\n",
      "logs\texchange\tlog_queue\tqueue\tlog_queue\t[]\n"
     ]
    }
   ],
   "source": [
    "! rabbitmqctl list_bindings"
   ]
  },
  {
   "cell_type": "code",
   "execution_count": 97,
   "id": "aca9b6a1-cab6-4ec9-9454-a1fb0499816e",
   "metadata": {},
   "outputs": [
    {
     "name": "stdout",
     "output_type": "stream",
     "text": [
      "+--------+--------------------------------+--------------------------------+\n",
      "| source |          destination           |          routing_key           |\n",
      "+--------+--------------------------------+--------------------------------+\n",
      "|        | amq.gen-UFOhCq9P19yhtbN6G98Xnw | amq.gen-UFOhCq9P19yhtbN6G98Xnw |\n",
      "|        | amq.gen-b40As3H2aeUm8Z2f6buFxQ | amq.gen-b40As3H2aeUm8Z2f6buFxQ |\n",
      "|        | amq.gen-oD3kH8VIyDwZkYzF95athQ | amq.gen-oD3kH8VIyDwZkYzF95athQ |\n",
      "|        | hello                          | hello                          |\n",
      "|        | log_queue                      | log_queue                      |\n",
      "|        | task_queue                     | task_queue                     |\n",
      "| logs   | amq.gen-UFOhCq9P19yhtbN6G98Xnw | amq.gen-UFOhCq9P19yhtbN6G98Xnw |\n",
      "| logs   | amq.gen-b40As3H2aeUm8Z2f6buFxQ | amq.gen-b40As3H2aeUm8Z2f6buFxQ |\n",
      "| logs   | amq.gen-oD3kH8VIyDwZkYzF95athQ | amq.gen-oD3kH8VIyDwZkYzF95athQ |\n",
      "| logs   | log_queue                      | log_queue                      |\n",
      "+--------+--------------------------------+--------------------------------+\n"
     ]
    }
   ],
   "source": [
    "! rabbitmqadmin list bindings"
   ]
  },
  {
   "cell_type": "markdown",
   "id": "fe592820-3223-4352-aabd-dd1f99c5ba7e",
   "metadata": {},
   "source": [
    "##  emit_log_direct.py \n",
    "\n",
    "https://github.com/rabbitmq/rabbitmq-tutorials/blob/master/python/emit_log_direct.pyhttps://github.com/rabbitmq/rabbitmq-tutorials/blob/master/python/emit_log_direct.py\n"
   ]
  },
  {
   "cell_type": "code",
   "execution_count": 98,
   "id": "5b3bfd91-8543-4ca2-9a9b-425f083cb9b2",
   "metadata": {},
   "outputs": [
    {
     "name": "stdout",
     "output_type": "stream",
     "text": [
      " [x] Sent '-f':'/Users/jpark/Library/Jupyter/runtime/kernel-a0e368d5-e61e-43a1-91a5-742b4475709c.json'\n"
     ]
    }
   ],
   "source": [
    "import pika\n",
    "import sys\n",
    "\n",
    "connection = pika.BlockingConnection(\n",
    "    pika.ConnectionParameters(host='localhost'))\n",
    "channel = connection.channel()\n",
    "\n",
    "channel.exchange_declare(exchange='direct_logs', exchange_type='direct')\n",
    "\n",
    "severity = sys.argv[1] if len(sys.argv) > 2 else 'info'\n",
    "message = ' '.join(sys.argv[2:]) or 'Hello World!'\n",
    "channel.basic_publish(\n",
    "    exchange='direct_logs', routing_key=severity, body=message)\n",
    "print(\" [x] Sent %r:%r\" % (severity, message))\n",
    "connection.close()"
   ]
  },
  {
   "cell_type": "code",
   "execution_count": 99,
   "id": "824ae18a-90be-4224-a07e-d837b56ad1ad",
   "metadata": {},
   "outputs": [
    {
     "name": "stdout",
     "output_type": "stream",
     "text": [
      "+--------------------+---------+\n",
      "|        name        |  type   |\n",
      "+--------------------+---------+\n",
      "|                    | direct  |\n",
      "| amq.direct         | direct  |\n",
      "| amq.fanout         | fanout  |\n",
      "| amq.headers        | headers |\n",
      "| amq.match          | headers |\n",
      "| amq.rabbitmq.trace | topic   |\n",
      "| amq.topic          | topic   |\n",
      "| direct_logs        | direct  |\n",
      "| logs               | fanout  |\n",
      "+--------------------+---------+\n"
     ]
    }
   ],
   "source": [
    "! rabbitmqadmin list exchanges"
   ]
  },
  {
   "cell_type": "code",
   "execution_count": 100,
   "id": "dcb2e167-eff8-4d1d-a248-9dff3bf62531",
   "metadata": {},
   "outputs": [
    {
     "name": "stdout",
     "output_type": "stream",
     "text": [
      "+--------------------------------+----------+\n",
      "|              name              | messages |\n",
      "+--------------------------------+----------+\n",
      "| amq.gen-UFOhCq9P19yhtbN6G98Xnw | 0        |\n",
      "| amq.gen-b40As3H2aeUm8Z2f6buFxQ | 0        |\n",
      "| amq.gen-oD3kH8VIyDwZkYzF95athQ | 0        |\n",
      "| hello                          | 0        |\n",
      "| log_queue                      | 15       |\n",
      "| task_queue                     | 0        |\n",
      "+--------------------------------+----------+\n"
     ]
    }
   ],
   "source": [
    "! rabbitmqadmin list queues"
   ]
  },
  {
   "cell_type": "code",
   "execution_count": 101,
   "id": "be54cf55-0dfb-4547-bdd7-4e3827f38660",
   "metadata": {},
   "outputs": [
    {
     "name": "stdout",
     "output_type": "stream",
     "text": [
      "+--------+--------------------------------+--------------------------------+\n",
      "| source |          destination           |          routing_key           |\n",
      "+--------+--------------------------------+--------------------------------+\n",
      "|        | amq.gen-UFOhCq9P19yhtbN6G98Xnw | amq.gen-UFOhCq9P19yhtbN6G98Xnw |\n",
      "|        | amq.gen-b40As3H2aeUm8Z2f6buFxQ | amq.gen-b40As3H2aeUm8Z2f6buFxQ |\n",
      "|        | amq.gen-oD3kH8VIyDwZkYzF95athQ | amq.gen-oD3kH8VIyDwZkYzF95athQ |\n",
      "|        | hello                          | hello                          |\n",
      "|        | log_queue                      | log_queue                      |\n",
      "|        | task_queue                     | task_queue                     |\n",
      "| logs   | amq.gen-UFOhCq9P19yhtbN6G98Xnw | amq.gen-UFOhCq9P19yhtbN6G98Xnw |\n",
      "| logs   | amq.gen-b40As3H2aeUm8Z2f6buFxQ | amq.gen-b40As3H2aeUm8Z2f6buFxQ |\n",
      "| logs   | amq.gen-oD3kH8VIyDwZkYzF95athQ | amq.gen-oD3kH8VIyDwZkYzF95athQ |\n",
      "| logs   | log_queue                      | log_queue                      |\n",
      "+--------+--------------------------------+--------------------------------+\n"
     ]
    }
   ],
   "source": [
    "! rabbitmqadmin list bindings"
   ]
  },
  {
   "cell_type": "markdown",
   "id": "cd5ee678-0992-426f-b656-2032f7211a6d",
   "metadata": {},
   "source": [
    "## receive_logs_direct.py\n",
    "\n",
    "https://raw.githubusercontent.com/rabbitmq/rabbitmq-tutorials/master/python/receive_logs_direct.pyhttps://raw.githubusercontent.com/rabbitmq/rabbitmq-tutorials/master/python/receive_logs_direct.py"
   ]
  },
  {
   "cell_type": "code",
   "execution_count": null,
   "id": "5435c944-1347-4a27-9a9e-bb3d357cfafd",
   "metadata": {},
   "outputs": [
    {
     "name": "stdout",
     "output_type": "stream",
     "text": [
      " [*] Waiting for logs. To exit press CTRL+C\n"
     ]
    }
   ],
   "source": [
    "#!/usr/bin/env python\n",
    "import pika, sys, os\n",
    "\n",
    "def main():\n",
    "    connection = pika.BlockingConnection(\n",
    "    pika.ConnectionParameters(host='localhost'))\n",
    "    channel = connection.channel()\n",
    "\n",
    "    channel.exchange_declare(exchange='direct_logs', exchange_type='direct')\n",
    "\n",
    "    result = channel.queue_declare(queue='', exclusive=True)\n",
    "    queue_name = result.method.queue\n",
    "\n",
    "    severities = sys.argv[1:]\n",
    "    if not severities:\n",
    "        sys.stderr.write(\"Usage: %s [info] [warning] [error]\\n\" % sys.argv[0])\n",
    "        sys.exit(1)\n",
    "\n",
    "    for severity in severities:\n",
    "        channel.queue_bind(\n",
    "            exchange='direct_logs', queue=queue_name, routing_key=severity)\n",
    "\n",
    "    print(' [*] Waiting for logs. To exit press CTRL+C')\n",
    "\n",
    "\n",
    "    def callback(ch, method, properties, body):\n",
    "        print(\" [x] %r:%r\" % (method.routing_key, body.decode()))\n",
    "\n",
    "\n",
    "    channel.basic_consume(\n",
    "        queue=queue_name, on_message_callback=callback, auto_ack=True)\n",
    "\n",
    "    channel.start_consuming()\n",
    "\n",
    "\n",
    "if __name__ == '__main__':\n",
    "    try:\n",
    "        main()\n",
    "    except KeyboardInterrupt:\n",
    "        print('Interrupted')\n",
    "        try:\n",
    "            sys.exit(0)\n",
    "        except SystemExit:\n",
    "            os._exit(0)"
   ]
  },
  {
   "cell_type": "code",
   "execution_count": null,
   "id": "ba1063bf-aae5-4a07-a7b2-748c4fcdbde3",
   "metadata": {},
   "outputs": [],
   "source": [
    "! rabbitmqctl list_bindings"
   ]
  },
  {
   "cell_type": "code",
   "execution_count": null,
   "id": "aff990c5-a23e-4471-8fba-709304892652",
   "metadata": {},
   "outputs": [],
   "source": [
    "! rabbitmqadmin list bindings"
   ]
  },
  {
   "cell_type": "code",
   "execution_count": null,
   "id": "9a591b6c-1c89-4f59-92f5-b0da09bee14b",
   "metadata": {},
   "outputs": [],
   "source": []
  },
  {
   "cell_type": "code",
   "execution_count": null,
   "id": "8844ac2a-8554-44ad-91a8-6e6806ef5dbd",
   "metadata": {},
   "outputs": [],
   "source": []
  }
 ],
 "metadata": {
  "kernelspec": {
   "display_name": "Python 3 (ipykernel)",
   "language": "python",
   "name": "python3"
  },
  "language_info": {
   "codemirror_mode": {
    "name": "ipython",
    "version": 3
   },
   "file_extension": ".py",
   "mimetype": "text/x-python",
   "name": "python",
   "nbconvert_exporter": "python",
   "pygments_lexer": "ipython3",
   "version": "3.8.10"
  }
 },
 "nbformat": 4,
 "nbformat_minor": 5
}
