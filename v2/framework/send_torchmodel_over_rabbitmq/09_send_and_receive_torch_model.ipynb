{
 "cells": [
  {
   "cell_type": "markdown",
   "id": "5f58c31a-1a90-403b-aada-f467c4ed7ac7",
   "metadata": {},
   "source": [
    "# send and receive torch model"
   ]
  },
  {
   "cell_type": "code",
   "execution_count": 5,
   "id": "9c507c7f-8ac5-4939-8ce4-3a672a7d5d6f",
   "metadata": {},
   "outputs": [
    {
     "name": "stdout",
     "output_type": "stream",
     "text": [
      "[+] Sent image\n"
     ]
    }
   ],
   "source": [
    "import torch\n",
    "import torchvision # model을 불러오기 위해 import\n",
    "import torch.onnx\n",
    "\n",
    "def make_vgg16_model(fname):\n",
    "    # 1. 실제 사용하는 custom model을 불러와서 저장 가능\n",
    "    model = torchvision.models.vgg16(pretrained=False)\n",
    "\n",
    "    # 2. model의 파라미터를 OrderedDict 형태로 저장\n",
    "    params = model.state_dict()\n",
    "\n",
    "    # 3. 동적 그래프 형태의 pytorch model을 위하여 data를 model로 흘려주기 위한 더미 데이터 주입\n",
    "    dummy_data = torch.empty(1, 3, 224, 224, dtype = torch.float32)\n",
    "\n",
    "    # 4. onnx 파일을 export 함. 함수에는 차례대로 model, data, 저장할 파일명 순서대로 입력\n",
    "    torch.onnx.export(model, dummy_data, fname)\n",
    "\n",
    "\n",
    "import pika\n",
    "\n",
    "fname = \"send.onnx\"\n",
    "make_vgg16_model(fname)\n",
    "f=open(fname, \"rb\")\n",
    "img=f.read()\n",
    "\n",
    "connection = pika.BlockingConnection(\n",
    "    pika.ConnectionParameters(host='localhost'))\n",
    "channel = connection.channel()\n",
    "\n",
    "channel.queue_declare(queue='torch_model')\n",
    "\n",
    "channel.basic_publish(exchange='',routing_key='torch_model',body=img)\n",
    "print(\"[+] Sent image\")\n",
    "connection.close()\n",
    "\n"
   ]
  },
  {
   "cell_type": "code",
   "execution_count": 4,
   "id": "4dd8e9b8-b65e-49de-82cf-14b558ec1906",
   "metadata": {},
   "outputs": [
    {
     "name": "stdout",
     "output_type": "stream",
     "text": [
      " [*] Waiting for messages. To exit press CTRL+C\n",
      "Interrupted\n"
     ]
    }
   ],
   "source": [
    "import pika, sys, os\n",
    "import time\n",
    "\n",
    "\n",
    "def main():\n",
    "\n",
    "    connection = pika.BlockingConnection(pika.ConnectionParameters(host='localhost'))\n",
    "    channel = connection.channel()\n",
    "\n",
    "    channel.queue_declare(queue='torch_model')\n",
    "\n",
    "    def callback(ch, method, properties, body):\n",
    "        #print(\" [x] Received %r\" % body)\n",
    "        print(\"[+] ok, received !\")\n",
    "\n",
    "        try:\n",
    "            fname = received.onnx\n",
    "            f=open(fname, \"wb\")\n",
    "            f.write(body)\n",
    "            f.close()\n",
    "        \n",
    "            print(\"[+] ok, saved !\")\n",
    "        except:\n",
    "            print(\"[-] failed, file saving\")\n",
    "\n",
    "    channel.basic_consume(queue='torch_model', on_message_callback=callback, auto_ack=True)\n",
    "\n",
    "    print(' [*] Waiting for messages. To exit press CTRL+C')\n",
    "    channel.start_consuming()\n",
    "\n",
    "if __name__ == '__main__':\n",
    "    try:\n",
    "        main()\n",
    "    except KeyboardInterrupt:\n",
    "        print('Interrupted')\n",
    "\n",
    "        try:\n",
    "            sys.exit(0)\n",
    "        except SystemExit:\n",
    "            os._exit(0)\n",
    "\n"
   ]
  },
  {
   "cell_type": "code",
   "execution_count": null,
   "id": "c6857635-5bb9-4cf3-bcca-c668c3ef1e63",
   "metadata": {},
   "outputs": [],
   "source": [
    "\n"
   ]
  }
 ],
 "metadata": {
  "kernelspec": {
   "display_name": "Python 3 (ipykernel)",
   "language": "python",
   "name": "python3"
  },
  "language_info": {
   "codemirror_mode": {
    "name": "ipython",
    "version": 3
   },
   "file_extension": ".py",
   "mimetype": "text/x-python",
   "name": "python",
   "nbconvert_exporter": "python",
   "pygments_lexer": "ipython3",
   "version": "3.8.10"
  }
 },
 "nbformat": 4,
 "nbformat_minor": 5
}
