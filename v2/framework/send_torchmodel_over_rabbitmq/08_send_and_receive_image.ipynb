{
 "cells": [
  {
   "cell_type": "markdown",
   "id": "5f58c31a-1a90-403b-aada-f467c4ed7ac7",
   "metadata": {},
   "source": [
    "# send binary image"
   ]
  },
  {
   "cell_type": "code",
   "execution_count": 7,
   "id": "9c507c7f-8ac5-4939-8ce4-3a672a7d5d6f",
   "metadata": {},
   "outputs": [
    {
     "name": "stderr",
     "output_type": "stream",
     "text": [
      "ERROR:pika.adapters.utils.io_services_utils:Socket failed to connect: <socket.socket fd=77, family=AddressFamily.AF_INET6, type=SocketKind.SOCK_STREAM, proto=6, laddr=('::1', 53617, 0, 0)>; error=61 (Connection refused)\n",
      "ERROR:pika.adapters.utils.connection_workflow:TCP Connection attempt failed: ConnectionRefusedError(61, 'Connection refused'); dest=(<AddressFamily.AF_INET6: 30>, <SocketKind.SOCK_STREAM: 1>, 6, '', ('::1', 5672, 0, 0))\n",
      "ERROR:pika.adapters.utils.connection_workflow:AMQPConnector - reporting failure: AMQPConnectorSocketConnectError: ConnectionRefusedError(61, 'Connection refused')\n"
     ]
    },
    {
     "name": "stdout",
     "output_type": "stream",
     "text": [
      "[+] Sent image\n"
     ]
    }
   ],
   "source": [
    "import pika\n",
    "\n",
    "f=open(\"apple.png\", \"rb\")\n",
    "img=f.read()\n",
    "\n",
    "connection = pika.BlockingConnection(\n",
    "    pika.ConnectionParameters(host='localhost'))\n",
    "channel = connection.channel()\n",
    "\n",
    "channel.queue_declare(queue='binary_data')\n",
    "\n",
    "channel.basic_publish(exchange='',routing_key='binary_data',body='hi')\n",
    "print(\"[+] Sent image\")\n",
    "connection.close()\n"
   ]
  },
  {
   "cell_type": "code",
   "execution_count": null,
   "id": "4dd8e9b8-b65e-49de-82cf-14b558ec1906",
   "metadata": {},
   "outputs": [
    {
     "name": "stderr",
     "output_type": "stream",
     "text": [
      "ERROR:pika.adapters.utils.io_services_utils:Socket failed to connect: <socket.socket fd=77, family=AddressFamily.AF_INET6, type=SocketKind.SOCK_STREAM, proto=6, laddr=('::1', 54246, 0, 0)>; error=61 (Connection refused)\n",
      "ERROR:pika.adapters.utils.connection_workflow:TCP Connection attempt failed: ConnectionRefusedError(61, 'Connection refused'); dest=(<AddressFamily.AF_INET6: 30>, <SocketKind.SOCK_STREAM: 1>, 6, '', ('::1', 5672, 0, 0))\n",
      "ERROR:pika.adapters.utils.connection_workflow:AMQPConnector - reporting failure: AMQPConnectorSocketConnectError: ConnectionRefusedError(61, 'Connection refused')\n"
     ]
    },
    {
     "name": "stdout",
     "output_type": "stream",
     "text": [
      " [*] Waiting for messages. To exit press CTRL+C\n"
     ]
    }
   ],
   "source": [
    "import pika, sys, os\n",
    "import time\n",
    "\n",
    "\n",
    "def main():\n",
    "\n",
    "    connection = pika.BlockingConnection(pika.ConnectionParameters(host='localhost'))\n",
    "    channel = connection.channel()\n",
    "\n",
    "    channel.queue_declare(queue='binary_data')\n",
    "\n",
    "    def callback(ch, method, properties, body):\n",
    "        #print(\" [x] Received %r\" % body)\n",
    "        print(\"[+] ok, received !\")\n",
    "\n",
    "        try:\n",
    "            fname = time.strftime(\"%Y%m%d-%H%M%S.jpg\")\n",
    "            f=open(fname, \"wb\")\n",
    "            f.write(body)\n",
    "            f.close()\n",
    "        \n",
    "            print(\"[+] ok, saved !\")\n",
    "        except:\n",
    "            print(\"[-] failed, file saving\")\n",
    "\n",
    "    channel.basic_consume(queue='binary_data', on_message_callback=callback, auto_ack=True)\n",
    "\n",
    "    print(' [*] Waiting for messages. To exit press CTRL+C')\n",
    "    channel.start_consuming()\n",
    "\n",
    "if __name__ == '__main__':\n",
    "    try:\n",
    "        main()\n",
    "    except KeyboardInterrupt:\n",
    "        print('Interrupted')\n",
    "        '''\n",
    "        try:\n",
    "            sys.exit(0)\n",
    "        except SystemExit:\n",
    "            os._exit(0)\n",
    "        '''"
   ]
  },
  {
   "cell_type": "code",
   "execution_count": null,
   "id": "c6857635-5bb9-4cf3-bcca-c668c3ef1e63",
   "metadata": {},
   "outputs": [],
   "source": [
    "\n"
   ]
  }
 ],
 "metadata": {
  "kernelspec": {
   "display_name": "Python 3 (ipykernel)",
   "language": "python",
   "name": "python3"
  },
  "language_info": {
   "codemirror_mode": {
    "name": "ipython",
    "version": 3
   },
   "file_extension": ".py",
   "mimetype": "text/x-python",
   "name": "python",
   "nbconvert_exporter": "python",
   "pygments_lexer": "ipython3",
   "version": "3.8.10"
  }
 },
 "nbformat": 4,
 "nbformat_minor": 5
}
