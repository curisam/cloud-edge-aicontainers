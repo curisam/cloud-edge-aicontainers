{
 "cells": [
  {
   "cell_type": "markdown",
   "id": "7c0a0762-d87f-4308-a015-a4ce1317bd35",
   "metadata": {},
   "source": [
    "# 시간이 올래 걸리는 작업 큐 처리 방법\n",
    "\n",
    "- 참고 : https://blog.storyg.co/rabbitmqs/tutorials/python/02-work-queue\n",
    "- 기본적으로 라운드 로빈 정책에 따라 메시지가 전달됩니다.\n",
    "- 작업 큐 뒤에 있는 가정은 각 작업이 정확하게 하나의 작업자에게 전달 된다는 것입니다. \n"
   ]
  },
  {
   "cell_type": "code",
   "execution_count": 31,
   "id": "3d0430fa-9aef-4665-8688-e203050ccf78",
   "metadata": {},
   "outputs": [
    {
     "name": "stdout",
     "output_type": "stream",
     "text": [
      "3.10.7\n"
     ]
    }
   ],
   "source": [
    "! rabbitmqctl --version"
   ]
  },
  {
   "cell_type": "markdown",
   "id": "cad1cad6-12fd-42e5-ba08-6d2e8ee4116f",
   "metadata": {},
   "source": [
    "## new_task.py"
   ]
  },
  {
   "cell_type": "code",
   "execution_count": 48,
   "id": "d31ddb96-7e18-426a-b93c-869eff83ad92",
   "metadata": {},
   "outputs": [
    {
     "name": "stdout",
     "output_type": "stream",
     "text": [
      " [+] Sent '-f /Users/jpark/Library/Jupyter/runtime/kernel-3d5f83ef-f479-40ed-92ee-049eb5e7cbfe.json'\n"
     ]
    }
   ],
   "source": [
    "#!/usr/bin/env python\n",
    "import pika\n",
    "import sys\n",
    "\n",
    "connection = pika.BlockingConnection(pika.ConnectionParameters(host='localhost'))\n",
    "channel = connection.channel()\n",
    "\n",
    "# durable=True를 하면 RabbitMQ가 종료되거나 충돌 되어도 Queue가 유지됩니다.\n",
    "channel.queue_declare(queue='task_queue', durable=True)\n",
    "\n",
    "message = ' '.join(sys.argv[1:]) or \"Hello World!\"\n",
    "channel.basic_publish(exchange='',\n",
    "                      routing_key='task_queue',\n",
    "                      body=message,\n",
    "                      properties=pika.BasicProperties(\n",
    "                         delivery_mode = 2, # make message persistent\n",
    "                      ))\n",
    "print(\" [+] Sent %r\" % message)\n",
    "connection.close()"
   ]
  },
  {
   "cell_type": "code",
   "execution_count": 49,
   "id": "f78c26b6-ccd2-4035-8f1b-f2bd26fdc2c5",
   "metadata": {},
   "outputs": [
    {
     "name": "stdout",
     "output_type": "stream",
     "text": [
      "Timeout: 60.0 seconds ...\n",
      "Listing queues for vhost / ...\n",
      "name\tmessages\n",
      "task_queue\t3\n",
      "hello\t0\n"
     ]
    }
   ],
   "source": [
    "! rabbitmqctl list_queues"
   ]
  },
  {
   "cell_type": "code",
   "execution_count": 67,
   "id": "4965f16e-5fec-476f-a9c4-2e190985d15e",
   "metadata": {},
   "outputs": [
    {
     "name": "stdout",
     "output_type": "stream",
     "text": [
      "+------------+----------+\n",
      "|    name    | messages |\n",
      "+------------+----------+\n",
      "| hello      | 0        |\n",
      "| task_queue | 7        |\n",
      "+------------+----------+\n"
     ]
    }
   ],
   "source": [
    "! rabbitmqadmin list queues"
   ]
  },
  {
   "cell_type": "markdown",
   "id": "f216188e-c1ad-4a8f-b5af-5e36c6763ebb",
   "metadata": {},
   "source": [
    "## worker.py"
   ]
  },
  {
   "cell_type": "code",
   "execution_count": 69,
   "id": "aca34701-1f1b-48eb-8620-4b371bc58271",
   "metadata": {},
   "outputs": [],
   "source": [
    "#!/usr/bin/env python\n",
    "import pika\n",
    "import time\n",
    "\n",
    "def worker():\n",
    "    connection = pika.BlockingConnection(pika.ConnectionParameters(host='localhost'))\n",
    "    channel = connection.channel()\n",
    "\n",
    "    # durable=True를 하면 RabbitMQ가 종료되거나 충돌 되어도 Queue가 유지됩니다.\n",
    "    channel.queue_declare(queue='task_queue', durable=True)\n",
    "    print(' [*] Waiting for messages. To exit press CTRL+C')\n",
    "\n",
    "    def callback(ch, method, properties, body):\n",
    "        print(\" [+] Received %r\" % body)\n",
    "        \n",
    "        # 보낸 메시지에서 \".\"의 개수만큼 time.sleep을 수행합니다.\n",
    "        time.sleep(body.count(b'.')) # 시간이 오래 걸리는 상황을 모사합니다.\n",
    "        print(\" [+] Done\")\n",
    "        ch.basic_ack(delivery_tag = method.delivery_tag)\n",
    "\n",
    "        \n",
    "    channel.basic_qos(prefetch_count=1)\n",
    "    \n",
    "    #channel.basic_consume(callback,\n",
    "    #                      queue='task_queue')\n",
    "    \n",
    "    # jpark\n",
    "    channel.basic_consume(on_message_callback=callback, queue='task_queue', auto_ack=False)\n",
    "\n",
    "    channel.start_consuming()\n",
    "\n",
    "\n",
    "try:\n",
    "    worker()\n",
    "except KeyboardInterrupt:\n",
    "    print('Interrupted')"
   ]
  },
  {
   "cell_type": "code",
   "execution_count": 70,
   "id": "43273232-863f-494e-9993-2f57f3ce8078",
   "metadata": {},
   "outputs": [
    {
     "name": "stdout",
     "output_type": "stream",
     "text": [
      " [*] Waiting for messages. To exit press CTRL+C\n",
      " [+] Received b'Hello World!'\n",
      " [+] Done\n",
      " [+] Received b'Hello World!'\n",
      " [+] Done\n",
      " [+] Received b'-f /Users/jpark/Library/Jupyter/runtime/kernel-3d5f83ef-f479-40ed-92ee-049eb5e7cbfe.json'\n",
      " [+] Done\n",
      " [+] Received b'Hello World!'\n",
      " [+] Done\n",
      " [+] Received b'Hello World!'\n",
      " [+] Done\n",
      " [+] Received b'Hello World!'\n",
      " [+] Done\n",
      " [+] Received b'Hello World!'\n",
      " [+] Done\n",
      "Interrupted\n"
     ]
    }
   ],
   "source": [
    "try:\n",
    "    worker()\n",
    "except KeyboardInterrupt:\n",
    "    print('Interrupted')"
   ]
  },
  {
   "cell_type": "code",
   "execution_count": 72,
   "id": "8b033ed8-dbf8-4540-82bd-614a46c35a92",
   "metadata": {},
   "outputs": [
    {
     "name": "stdout",
     "output_type": "stream",
     "text": [
      "Timeout: 60.0 seconds ...\n",
      "Listing queues for vhost / ...\n",
      "name\tmessages_ready\tmessages_unacknowledged\n",
      "task_queue\t0\t0\n",
      "hello\t0\t0\n"
     ]
    }
   ],
   "source": [
    "! rabbitmqctl list_queues name messages_ready messages_unacknowledged"
   ]
  },
  {
   "cell_type": "code",
   "execution_count": null,
   "id": "bde312b7-4d6b-44f2-a20e-521bf62757f7",
   "metadata": {},
   "outputs": [],
   "source": []
  }
 ],
 "metadata": {
  "kernelspec": {
   "display_name": "Python 3 (ipykernel)",
   "language": "python",
   "name": "python3"
  },
  "language_info": {
   "codemirror_mode": {
    "name": "ipython",
    "version": 3
   },
   "file_extension": ".py",
   "mimetype": "text/x-python",
   "name": "python",
   "nbconvert_exporter": "python",
   "pygments_lexer": "ipython3",
   "version": "3.8.10"
  }
 },
 "nbformat": 4,
 "nbformat_minor": 5
}
