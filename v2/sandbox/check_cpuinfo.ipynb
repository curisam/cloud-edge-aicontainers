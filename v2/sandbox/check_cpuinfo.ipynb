{
 "cells": [
  {
   "cell_type": "markdown",
   "id": "ea1d2460-cb05-414d-8148-68bf31dfc919",
   "metadata": {},
   "source": [
    "# check cpu info"
   ]
  },
  {
   "cell_type": "code",
   "execution_count": 7,
   "id": "897c20d7-a301-49f8-88fc-31bf0bed9142",
   "metadata": {},
   "outputs": [
    {
     "data": {
      "text/plain": [
       "'arm'"
      ]
     },
     "execution_count": 7,
     "metadata": {},
     "output_type": "execute_result"
    }
   ],
   "source": [
    "import platform\n",
    "platform.processor()"
   ]
  },
  {
   "cell_type": "code",
   "execution_count": null,
   "id": "9402191c-9b59-47ae-94c9-8251585f4b61",
   "metadata": {},
   "outputs": [],
   "source": []
  }
 ],
 "metadata": {
  "kernelspec": {
   "display_name": "Python 3 (ipykernel)",
   "language": "python",
   "name": "python3"
  },
  "language_info": {
   "codemirror_mode": {
    "name": "ipython",
    "version": 3
   },
   "file_extension": ".py",
   "mimetype": "text/x-python",
   "name": "python",
   "nbconvert_exporter": "python",
   "pygments_lexer": "ipython3",
   "version": "3.9.13"
  }
 },
 "nbformat": 4,
 "nbformat_minor": 5
}
