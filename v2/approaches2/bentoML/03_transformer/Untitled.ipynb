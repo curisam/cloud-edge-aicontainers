{
 "cells": [
  {
   "cell_type": "markdown",
   "id": "218cbb0f-09aa-45b8-902f-6753a83faa68",
   "metadata": {},
   "source": [
    "# Transformer"
   ]
  },
  {
   "cell_type": "code",
   "execution_count": null,
   "id": "d1a9350e-20e5-4fb1-92fc-877e2b44601c",
   "metadata": {},
   "outputs": [],
   "source": []
  },
  {
   "cell_type": "code",
   "execution_count": null,
   "id": "4b0bf20a-72ee-4b11-ad73-cb37caa8423f",
   "metadata": {},
   "outputs": [],
   "source": []
  },
  {
   "cell_type": "code",
   "execution_count": 2,
   "id": "889bfc36-9442-4991-8a43-dfbf6c8b11b2",
   "metadata": {},
   "outputs": [
    {
     "ename": "SyntaxError",
     "evalue": "invalid syntax (1625255040.py, line 5)",
     "output_type": "error",
     "traceback": [
      "\u001b[0;36m  Input \u001b[0;32mIn [2]\u001b[0;36m\u001b[0m\n\u001b[0;31m    onnx_model_path = pass # setting model\u001b[0m\n\u001b[0m                      ^\u001b[0m\n\u001b[0;31mSyntaxError\u001b[0m\u001b[0;31m:\u001b[0m invalid syntax\n"
     ]
    }
   ],
   "source": [
    "\n",
    "# main.py\n",
    "# onnx, transformers 등 필요한 라이브러리 임포트\n",
    "\n",
    "if __name__ == '__main__':\n",
    "    onnx_model_path = pass # setting model\n",
    "    tokenizer = pass # setting tokenizer\n",
    "    \n",
    "    service = MyBentoService() \n",
    "    \n",
    "    service.pack('MyModel', onnx_model_path)\n",
    "    service.pack('tokenizer', {'tokenizer': tokenizer})\n",
    "    \n",
    "    saved_path = service.save()\n"
   ]
  },
  {
   "cell_type": "code",
   "execution_count": null,
   "id": "79dfa709-35e0-489a-8794-109a7dcc56b6",
   "metadata": {},
   "outputs": [],
   "source": []
  }
 ],
 "metadata": {
  "kernelspec": {
   "display_name": "Python 3 (ipykernel)",
   "language": "python",
   "name": "python3"
  },
  "language_info": {
   "codemirror_mode": {
    "name": "ipython",
    "version": 3
   },
   "file_extension": ".py",
   "mimetype": "text/x-python",
   "name": "python",
   "nbconvert_exporter": "python",
   "pygments_lexer": "ipython3",
   "version": "3.9.13"
  }
 },
 "nbformat": 4,
 "nbformat_minor": 5
}
