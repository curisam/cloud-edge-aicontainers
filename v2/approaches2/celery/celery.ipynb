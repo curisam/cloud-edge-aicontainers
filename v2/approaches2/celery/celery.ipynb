{
 "cells": [
  {
   "cell_type": "markdown",
   "id": "1e90f968-7927-4364-8c22-31b8cd061345",
   "metadata": {},
   "source": [
    "# celery"
   ]
  },
  {
   "cell_type": "markdown",
   "id": "8631cfa6-a739-4880-90de-dfb782efddcb",
   "metadata": {},
   "source": [
    "```bash\n",
    "    $ conda activate base\n",
    "    $ conda install celery\n",
    "```"
   ]
  },
  {
   "cell_type": "code",
   "execution_count": 10,
   "id": "0363c921-978c-402e-98f5-d47712656932",
   "metadata": {},
   "outputs": [],
   "source": [
    "from celery import Celery\n",
    "\n",
    "app = Celery('hello_celery', broker='amqp://guest@localhost//')\n",
    "\n",
    "@app.task\n",
    "def hello_celery():\n",
    "    return 'hello celery'"
   ]
  },
  {
   "cell_type": "code",
   "execution_count": 18,
   "id": "f97499f7-ea5d-49f3-8228-c73c842bb8d8",
   "metadata": {},
   "outputs": [
    {
     "name": "stdout",
     "output_type": "stream",
     "text": [
      "+-----------------------------------------------+----------+\n",
      "|                     name                      | messages |\n",
      "+-----------------------------------------------+----------+\n",
      "| amq.gen-1b-flE6cLloG_ytwZw5wbg                | 0        |\n",
      "| celery                                        | 0        |\n",
      "| celery@m14-jpark.local.celery.pidbox          | 0        |\n",
      "| celeryev.c96b1d57-d4f1-47cc-81d4-615b4814abd9 | 0        |\n",
      "| hello                                         | 1        |\n",
      "| log_queue                                     | 22       |\n",
      "| rpc_queue                                     | 0        |\n",
      "| rpc_queue_torch                               | 1        |\n",
      "| task_queue                                    | 5        |\n",
      "+-----------------------------------------------+----------+\n"
     ]
    }
   ],
   "source": []
  },
  {
   "cell_type": "markdown",
   "id": "1c8cf7ff-1996-48cd-b31d-4a9362f037b7",
   "metadata": {},
   "source": [
    "## console 에서 아래 명령어 실행 \n",
    "\n",
    "```bash\n",
    "$ celery -A tasks worker --loglevel=info\n",
    "```"
   ]
  },
  {
   "cell_type": "code",
   "execution_count": 19,
   "id": "7ced9b16-751e-47b9-b5f5-0b7d104e4262",
   "metadata": {},
   "outputs": [
    {
     "name": "stdout",
     "output_type": "stream",
     "text": [
      "+-----------------------------------------------+----------+\n",
      "|                     name                      | messages |\n",
      "+-----------------------------------------------+----------+\n",
      "| amq.gen-1b-flE6cLloG_ytwZw5wbg                | 0        |\n",
      "| celery                                        | 0        |\n",
      "| celery@m14-jpark.local.celery.pidbox          | 0        |\n",
      "| celeryev.c96b1d57-d4f1-47cc-81d4-615b4814abd9 | 0        |\n",
      "| hello                                         | 1        |\n",
      "| log_queue                                     | 22       |\n",
      "| rpc_queue                                     | 0        |\n",
      "| rpc_queue_torch                               | 1        |\n",
      "| task_queue                                    | 5        |\n",
      "+-----------------------------------------------+----------+\n"
     ]
    }
   ],
   "source": [
    "! rabbitmqadmin list queues"
   ]
  },
  {
   "cell_type": "code",
   "execution_count": 20,
   "id": "8e6ba16e-c272-4e5c-b3e5-9fab91cdc7f4",
   "metadata": {},
   "outputs": [
    {
     "name": "stdout",
     "output_type": "stream",
     "text": [
      "+---------------------+---------+\n",
      "|        name         |  type   |\n",
      "+---------------------+---------+\n",
      "|                     | direct  |\n",
      "| amq.direct          | direct  |\n",
      "| amq.fanout          | fanout  |\n",
      "| amq.headers         | headers |\n",
      "| amq.match           | headers |\n",
      "| amq.rabbitmq.trace  | topic   |\n",
      "| amq.topic           | topic   |\n",
      "| celery              | direct  |\n",
      "| celery.pidbox       | fanout  |\n",
      "| celeryev            | topic   |\n",
      "| direct_logs         | direct  |\n",
      "| logs                | fanout  |\n",
      "| reply.celery.pidbox | direct  |\n",
      "| topic_logs          | topic   |\n",
      "+---------------------+---------+\n"
     ]
    }
   ],
   "source": [
    "! rabbitmqadmin list exchanges"
   ]
  },
  {
   "cell_type": "code",
   "execution_count": 88,
   "id": "dc0d11b1-e649-4afc-b9d8-7564f6afb8d9",
   "metadata": {},
   "outputs": [
    {
     "data": {
      "text/plain": [
       "<AsyncResult: 57a6391a-3cf4-4bf4-b470-b49d556a8f30>"
      ]
     },
     "execution_count": 88,
     "metadata": {},
     "output_type": "execute_result"
    }
   ],
   "source": [
    "from tasks import add\n",
    "add.delay(1, 1)"
   ]
  },
  {
   "cell_type": "code",
   "execution_count": 89,
   "id": "00aa6881-5524-4a43-af9c-365991319c00",
   "metadata": {},
   "outputs": [
    {
     "data": {
      "text/plain": [
       "<AsyncResult: b6d2c6ee-d571-4846-8415-ae18d40c041c>"
      ]
     },
     "execution_count": 89,
     "metadata": {},
     "output_type": "execute_result"
    }
   ],
   "source": [
    "add.delay(4, 4)"
   ]
  },
  {
   "cell_type": "code",
   "execution_count": null,
   "id": "a70c88b8-ef8f-4700-a64e-aadeb681ea77",
   "metadata": {},
   "outputs": [],
   "source": []
  },
  {
   "cell_type": "code",
   "execution_count": null,
   "id": "0ffdb206-f578-40b1-a776-76fe83434e6c",
   "metadata": {},
   "outputs": [],
   "source": []
  },
  {
   "cell_type": "code",
   "execution_count": null,
   "id": "d8cc1122-e0a7-4da2-b429-eaf7038eb507",
   "metadata": {},
   "outputs": [],
   "source": []
  },
  {
   "cell_type": "code",
   "execution_count": null,
   "id": "c5e0ab77-af7c-4ecb-beb3-ed6dc081bbcb",
   "metadata": {},
   "outputs": [],
   "source": []
  },
  {
   "cell_type": "code",
   "execution_count": null,
   "id": "72c45e63-7c31-4308-ab98-c15260014007",
   "metadata": {},
   "outputs": [],
   "source": []
  },
  {
   "cell_type": "code",
   "execution_count": null,
   "id": "13027c15-0d89-48ea-8661-4ff951be7edf",
   "metadata": {},
   "outputs": [],
   "source": []
  },
  {
   "cell_type": "code",
   "execution_count": null,
   "id": "d56bb510-0da4-479f-9907-3e41f03e0259",
   "metadata": {},
   "outputs": [],
   "source": []
  }
 ],
 "metadata": {
  "kernelspec": {
   "display_name": "Python 3 (ipykernel)",
   "language": "python",
   "name": "python3"
  },
  "language_info": {
   "codemirror_mode": {
    "name": "ipython",
    "version": 3
   },
   "file_extension": ".py",
   "mimetype": "text/x-python",
   "name": "python",
   "nbconvert_exporter": "python",
   "pygments_lexer": "ipython3",
   "version": "3.9.13"
  }
 },
 "nbformat": 4,
 "nbformat_minor": 5
}
