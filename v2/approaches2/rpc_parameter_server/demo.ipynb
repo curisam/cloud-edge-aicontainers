{
 "cells": [
  {
   "cell_type": "markdown",
   "id": "9403bdaa-47c6-4ca8-90e7-14b7d8d699a0",
   "metadata": {},
   "source": [
    "# rpc parameter server\n",
    "\n",
    "- https://pytorch.org/tutorials/intermediate/rpc_param_server_tutorial.html\n",
    "\n",
    "\n"
   ]
  },
  {
   "cell_type": "code",
   "execution_count": 2,
   "id": "46258958-ddf5-4660-99d5-d8cc627e4580",
   "metadata": {},
   "outputs": [
    {
     "ename": "AttributeError",
     "evalue": "module 'torch.distributed.rpc' has no attribute 'init_rpc'",
     "output_type": "error",
     "traceback": [
      "\u001b[0;31m---------------------------------------------------------------------------\u001b[0m",
      "\u001b[0;31mAttributeError\u001b[0m                            Traceback (most recent call last)",
      "Input \u001b[0;32mIn [2]\u001b[0m, in \u001b[0;36m<cell line: 4>\u001b[0;34m()\u001b[0m\n\u001b[1;32m      2\u001b[0m \u001b[38;5;28;01mimport\u001b[39;00m \u001b[38;5;21;01mtorch\u001b[39;00m\n\u001b[1;32m      3\u001b[0m \u001b[38;5;28;01mimport\u001b[39;00m \u001b[38;5;21;01mtorch\u001b[39;00m\u001b[38;5;21;01m.\u001b[39;00m\u001b[38;5;21;01mdistributed\u001b[39;00m\u001b[38;5;21;01m.\u001b[39;00m\u001b[38;5;21;01mrpc\u001b[39;00m \u001b[38;5;28;01mas\u001b[39;00m \u001b[38;5;21;01mrpc\u001b[39;00m\n\u001b[0;32m----> 4\u001b[0m \u001b[43mrpc\u001b[49m\u001b[38;5;241;43m.\u001b[39;49m\u001b[43minit_rpc\u001b[49m(\u001b[38;5;124m\"\u001b[39m\u001b[38;5;124mworker0\u001b[39m\u001b[38;5;124m\"\u001b[39m, rank\u001b[38;5;241m=\u001b[39m\u001b[38;5;241m0\u001b[39m, world_size\u001b[38;5;241m=\u001b[39m\u001b[38;5;241m2\u001b[39m)\n\u001b[1;32m      5\u001b[0m ret \u001b[38;5;241m=\u001b[39m rpc\u001b[38;5;241m.\u001b[39mrpc_sync(\u001b[38;5;124m\"\u001b[39m\u001b[38;5;124mworker1\u001b[39m\u001b[38;5;124m\"\u001b[39m, torch\u001b[38;5;241m.\u001b[39madd, args\u001b[38;5;241m=\u001b[39m(torch\u001b[38;5;241m.\u001b[39mones(\u001b[38;5;241m2\u001b[39m), \u001b[38;5;241m3\u001b[39m))\n\u001b[1;32m      6\u001b[0m rpc\u001b[38;5;241m.\u001b[39mshutdown()\n",
      "\u001b[0;31mAttributeError\u001b[0m: module 'torch.distributed.rpc' has no attribute 'init_rpc'"
     ]
    }
   ],
   "source": [
    "# 작업자 0 :\n",
    "import torch\n",
    "import torch.distributed.rpc as rpc\n",
    "rpc.init_rpc(\"worker0\", rank=0, world_size=2)\n",
    "ret = rpc.rpc_sync(\"worker1\", torch.add, args=(torch.ones(2), 3))\n",
    "rpc.shutdown()"
   ]
  },
  {
   "cell_type": "code",
   "execution_count": 3,
   "id": "699fee99-dcf2-401e-b960-82d9dcc3263a",
   "metadata": {},
   "outputs": [
    {
     "ename": "AttributeError",
     "evalue": "module 'torch.distributed.rpc' has no attribute 'init_rpc'",
     "output_type": "error",
     "traceback": [
      "\u001b[0;31m---------------------------------------------------------------------------\u001b[0m",
      "\u001b[0;31mAttributeError\u001b[0m                            Traceback (most recent call last)",
      "Input \u001b[0;32mIn [3]\u001b[0m, in \u001b[0;36m<cell line: 4>\u001b[0;34m()\u001b[0m\n\u001b[1;32m      2\u001b[0m \u001b[38;5;28;01mimport\u001b[39;00m \u001b[38;5;21;01mtorch\u001b[39;00m\n\u001b[1;32m      3\u001b[0m \u001b[38;5;28;01mimport\u001b[39;00m \u001b[38;5;21;01mtorch\u001b[39;00m\u001b[38;5;21;01m.\u001b[39;00m\u001b[38;5;21;01mdistributed\u001b[39;00m\u001b[38;5;21;01m.\u001b[39;00m\u001b[38;5;21;01mrpc\u001b[39;00m \u001b[38;5;28;01mas\u001b[39;00m \u001b[38;5;21;01mrpc\u001b[39;00m\n\u001b[0;32m----> 4\u001b[0m \u001b[43mrpc\u001b[49m\u001b[38;5;241;43m.\u001b[39;49m\u001b[43minit_rpc\u001b[49m(\u001b[38;5;124m\"\u001b[39m\u001b[38;5;124mworker0\u001b[39m\u001b[38;5;124m\"\u001b[39m, rank\u001b[38;5;241m=\u001b[39m\u001b[38;5;241m0\u001b[39m, world_size\u001b[38;5;241m=\u001b[39m\u001b[38;5;241m2\u001b[39m)\n\u001b[1;32m      5\u001b[0m ret \u001b[38;5;241m=\u001b[39m rpc\u001b[38;5;241m.\u001b[39mrpc_sync(\u001b[38;5;124m\"\u001b[39m\u001b[38;5;124mworker1\u001b[39m\u001b[38;5;124m\"\u001b[39m, torch\u001b[38;5;241m.\u001b[39madd, args\u001b[38;5;241m=\u001b[39m(torch\u001b[38;5;241m.\u001b[39mones(\u001b[38;5;241m2\u001b[39m), \u001b[38;5;241m3\u001b[39m))\n\u001b[1;32m      6\u001b[0m rpc\u001b[38;5;241m.\u001b[39mshutdown()\n",
      "\u001b[0;31mAttributeError\u001b[0m: module 'torch.distributed.rpc' has no attribute 'init_rpc'"
     ]
    }
   ],
   "source": [
    ">>> # On worker 0:\n",
    ">>> import torch\n",
    ">>> import torch.distributed.rpc as rpc\n",
    ">>> rpc.init_rpc(\"worker0\", rank=0, world_size=2)\n",
    ">>> ret = rpc.rpc_sync(\"worker1\", torch.add, args=(torch.ones(2), 3))\n",
    ">>> rpc.shutdown()"
   ]
  },
  {
   "cell_type": "code",
   "execution_count": 4,
   "id": "03c6ecef-503d-41fd-b757-1b4c84c55b65",
   "metadata": {},
   "outputs": [
    {
     "ename": "AttributeError",
     "evalue": "module 'torch.distributed.rpc' has no attribute 'init_rpc'",
     "output_type": "error",
     "traceback": [
      "\u001b[0;31m---------------------------------------------------------------------------\u001b[0m",
      "\u001b[0;31mAttributeError\u001b[0m                            Traceback (most recent call last)",
      "Input \u001b[0;32mIn [4]\u001b[0m, in \u001b[0;36m<cell line: 3>\u001b[0;34m()\u001b[0m\n\u001b[1;32m      1\u001b[0m \u001b[38;5;66;03m# On worker 1:\u001b[39;00m\n\u001b[1;32m      2\u001b[0m \u001b[38;5;28;01mimport\u001b[39;00m \u001b[38;5;21;01mtorch\u001b[39;00m\u001b[38;5;21;01m.\u001b[39;00m\u001b[38;5;21;01mdistributed\u001b[39;00m\u001b[38;5;21;01m.\u001b[39;00m\u001b[38;5;21;01mrpc\u001b[39;00m \u001b[38;5;28;01mas\u001b[39;00m \u001b[38;5;21;01mrpc\u001b[39;00m\n\u001b[0;32m----> 3\u001b[0m \u001b[43mrpc\u001b[49m\u001b[38;5;241;43m.\u001b[39;49m\u001b[43minit_rpc\u001b[49m(\u001b[38;5;124m\"\u001b[39m\u001b[38;5;124mworker1\u001b[39m\u001b[38;5;124m\"\u001b[39m, rank\u001b[38;5;241m=\u001b[39m\u001b[38;5;241m1\u001b[39m, world_size\u001b[38;5;241m=\u001b[39m\u001b[38;5;241m2\u001b[39m)\n\u001b[1;32m      4\u001b[0m rpc\u001b[38;5;241m.\u001b[39mshutdown()\n",
      "\u001b[0;31mAttributeError\u001b[0m: module 'torch.distributed.rpc' has no attribute 'init_rpc'"
     ]
    }
   ],
   "source": [
    ">>> # On worker 1:\n",
    ">>> import torch.distributed.rpc as rpc\n",
    ">>> rpc.init_rpc(\"worker1\", rank=1, world_size=2)\n",
    ">>> rpc.shutdown()"
   ]
  },
  {
   "cell_type": "code",
   "execution_count": 5,
   "id": "9d71fa75-8bcb-4054-a74b-566cdb3cdf56",
   "metadata": {},
   "outputs": [],
   "source": [
    ">>> # On both workers:\n",
    ">>> @torch.jit.script\n",
    ">>> def my_script_add(t1, t2):\n",
    ">>>    return torch.add(t1, t2)"
   ]
  },
  {
   "cell_type": "code",
   "execution_count": 6,
   "id": "d4848449-c6c5-4296-a230-a7c437cce5d6",
   "metadata": {},
   "outputs": [
    {
     "ename": "AttributeError",
     "evalue": "module 'torch.distributed.rpc' has no attribute 'init_rpc'",
     "output_type": "error",
     "traceback": [
      "\u001b[0;31m---------------------------------------------------------------------------\u001b[0m",
      "\u001b[0;31mAttributeError\u001b[0m                            Traceback (most recent call last)",
      "Input \u001b[0;32mIn [6]\u001b[0m, in \u001b[0;36m<cell line: 3>\u001b[0;34m()\u001b[0m\n\u001b[1;32m      1\u001b[0m \u001b[38;5;66;03m# On worker 0:\u001b[39;00m\n\u001b[1;32m      2\u001b[0m \u001b[38;5;28;01mimport\u001b[39;00m \u001b[38;5;21;01mtorch\u001b[39;00m\u001b[38;5;21;01m.\u001b[39;00m\u001b[38;5;21;01mdistributed\u001b[39;00m\u001b[38;5;21;01m.\u001b[39;00m\u001b[38;5;21;01mrpc\u001b[39;00m \u001b[38;5;28;01mas\u001b[39;00m \u001b[38;5;21;01mrpc\u001b[39;00m\n\u001b[0;32m----> 3\u001b[0m \u001b[43mrpc\u001b[49m\u001b[38;5;241;43m.\u001b[39;49m\u001b[43minit_rpc\u001b[49m(\u001b[38;5;124m\"\u001b[39m\u001b[38;5;124mworker0\u001b[39m\u001b[38;5;124m\"\u001b[39m, rank\u001b[38;5;241m=\u001b[39m\u001b[38;5;241m0\u001b[39m, world_size\u001b[38;5;241m=\u001b[39m\u001b[38;5;241m2\u001b[39m)\n\u001b[1;32m      4\u001b[0m ret \u001b[38;5;241m=\u001b[39m rpc\u001b[38;5;241m.\u001b[39mrpc_sync(\u001b[38;5;124m\"\u001b[39m\u001b[38;5;124mworker1\u001b[39m\u001b[38;5;124m\"\u001b[39m, my_script_add, args\u001b[38;5;241m=\u001b[39m(torch\u001b[38;5;241m.\u001b[39mones(\u001b[38;5;241m2\u001b[39m), \u001b[38;5;241m3\u001b[39m))\n\u001b[1;32m      5\u001b[0m rpc\u001b[38;5;241m.\u001b[39mshutdown()\n",
      "\u001b[0;31mAttributeError\u001b[0m: module 'torch.distributed.rpc' has no attribute 'init_rpc'"
     ]
    }
   ],
   "source": [
    "# On worker 0:\n",
    "import torch.distributed.rpc as rpc\n",
    "rpc.init_rpc(\"worker0\", rank=0, world_size=2)\n",
    "ret = rpc.rpc_sync(\"worker1\", my_script_add, args=(torch.ones(2), 3))\n",
    "rpc.shutdown()"
   ]
  },
  {
   "cell_type": "code",
   "execution_count": 8,
   "id": "541a9d6e-94be-4a7c-9fff-e803b7fdfa71",
   "metadata": {},
   "outputs": [
    {
     "ename": "AttributeError",
     "evalue": "module 'torch.distributed.rpc' has no attribute 'init_rpc'",
     "output_type": "error",
     "traceback": [
      "\u001b[0;31m---------------------------------------------------------------------------\u001b[0m",
      "\u001b[0;31mAttributeError\u001b[0m                            Traceback (most recent call last)",
      "Input \u001b[0;32mIn [8]\u001b[0m, in \u001b[0;36m<cell line: 4>\u001b[0;34m()\u001b[0m\n\u001b[1;32m      2\u001b[0m \u001b[38;5;28;01mimport\u001b[39;00m \u001b[38;5;21;01mtorch\u001b[39;00m\n\u001b[1;32m      3\u001b[0m \u001b[38;5;28;01mimport\u001b[39;00m \u001b[38;5;21;01mtorch\u001b[39;00m\u001b[38;5;21;01m.\u001b[39;00m\u001b[38;5;21;01mdistributed\u001b[39;00m\u001b[38;5;21;01m.\u001b[39;00m\u001b[38;5;21;01mrpc\u001b[39;00m \u001b[38;5;28;01mas\u001b[39;00m \u001b[38;5;21;01mrpc\u001b[39;00m\n\u001b[0;32m----> 4\u001b[0m \u001b[43mrpc\u001b[49m\u001b[38;5;241;43m.\u001b[39;49m\u001b[43minit_rpc\u001b[49m(\u001b[38;5;124m\"\u001b[39m\u001b[38;5;124mworker0\u001b[39m\u001b[38;5;124m\"\u001b[39m, rank\u001b[38;5;241m=\u001b[39m\u001b[38;5;241m0\u001b[39m, world_size\u001b[38;5;241m=\u001b[39m\u001b[38;5;241m2\u001b[39m)\n\u001b[1;32m      5\u001b[0m rref1 \u001b[38;5;241m=\u001b[39m rpc\u001b[38;5;241m.\u001b[39mremote(\u001b[38;5;124m\"\u001b[39m\u001b[38;5;124mworker1\u001b[39m\u001b[38;5;124m\"\u001b[39m, torch\u001b[38;5;241m.\u001b[39madd, args\u001b[38;5;241m=\u001b[39m(torch\u001b[38;5;241m.\u001b[39mones(\u001b[38;5;241m2\u001b[39m), \u001b[38;5;241m3\u001b[39m))\n\u001b[1;32m      6\u001b[0m rref2 \u001b[38;5;241m=\u001b[39m rpc\u001b[38;5;241m.\u001b[39mremote(\u001b[38;5;124m\"\u001b[39m\u001b[38;5;124mworker1\u001b[39m\u001b[38;5;124m\"\u001b[39m, torch\u001b[38;5;241m.\u001b[39madd, args\u001b[38;5;241m=\u001b[39m(torch\u001b[38;5;241m.\u001b[39mones(\u001b[38;5;241m2\u001b[39m), \u001b[38;5;241m1\u001b[39m))\n",
      "\u001b[0;31mAttributeError\u001b[0m: module 'torch.distributed.rpc' has no attribute 'init_rpc'"
     ]
    }
   ],
   "source": [
    ">>> # On worker 0:\n",
    ">>> import torch\n",
    ">>> import torch.distributed.rpc as rpc\n",
    ">>> rpc.init_rpc(\"worker0\", rank=0, world_size=2)\n",
    ">>> rref1 = rpc.remote(\"worker1\", torch.add, args=(torch.ones(2), 3))\n",
    ">>> rref2 = rpc.remote(\"worker1\", torch.add, args=(torch.ones(2), 1))\n",
    ">>> x = rref1.to_here() + rref2.to_here()\n",
    ">>> rpc.shutdown()"
   ]
  },
  {
   "cell_type": "code",
   "execution_count": null,
   "id": "94572dc0-aaaa-4893-b9d1-e98e26c581b0",
   "metadata": {},
   "outputs": [],
   "source": []
  }
 ],
 "metadata": {
  "kernelspec": {
   "display_name": "Python 3 (ipykernel)",
   "language": "python",
   "name": "python3"
  },
  "language_info": {
   "codemirror_mode": {
    "name": "ipython",
    "version": 3
   },
   "file_extension": ".py",
   "mimetype": "text/x-python",
   "name": "python",
   "nbconvert_exporter": "python",
   "pygments_lexer": "ipython3",
   "version": "3.9.13"
  }
 },
 "nbformat": 4,
 "nbformat_minor": 5
}
