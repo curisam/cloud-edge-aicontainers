{
 "cells": [
  {
   "cell_type": "code",
   "execution_count": 1,
   "metadata": {},
   "outputs": [],
   "source": [
    "from bs4 import BeautifulSoup as bs\n",
    "import requests"
   ]
  },
  {
   "cell_type": "code",
   "execution_count": 2,
   "metadata": {},
   "outputs": [
    {
     "data": {
      "text/plain": [
       "'{\"repositories\":[\"aarch64-model\",\"cifar-rpi-model\",\"dockerfile-test-rpi\",\"edge-model\",\"python\",\"rpi-model\"]}\\n'"
      ]
     },
     "execution_count": 2,
     "metadata": {},
     "output_type": "execute_result"
    }
   ],
   "source": [
    "page = requests.get(\"http://localhost:5000/v2/_catalog\")\n",
    "soup = bs(page.text, \"html.parser\")\n",
    "\n",
    "page.text"
   ]
  },
  {
   "cell_type": "code",
   "execution_count": 3,
   "metadata": {},
   "outputs": [
    {
     "data": {
      "text/plain": [
       "str"
      ]
     },
     "execution_count": 3,
     "metadata": {},
     "output_type": "execute_result"
    }
   ],
   "source": [
    "type(page.text)"
   ]
  },
  {
   "cell_type": "code",
   "execution_count": 4,
   "metadata": {},
   "outputs": [
    {
     "data": {
      "text/plain": [
       "True"
      ]
     },
     "execution_count": 4,
     "metadata": {},
     "output_type": "execute_result"
    }
   ],
   "source": [
    "\"aarch64-model\" in page.text"
   ]
  },
  {
   "cell_type": "code",
   "execution_count": 11,
   "metadata": {},
   "outputs": [
    {
     "data": {
      "text/plain": [
       "'{\"name\":\"aarch64-model\",\"tags\":[\"cifar10\"]}\\n'"
      ]
     },
     "execution_count": 11,
     "metadata": {},
     "output_type": "execute_result"
    }
   ],
   "source": [
    "if \"aarch64-model\" in page.text:\n",
    "    page2 = requests.get(\"http://localhost:5000/v2/aarch64-model/tags/list\")\n",
    "\n",
    "page2.text"
   ]
  },
  {
   "cell_type": "code",
   "execution_count": 26,
   "metadata": {},
   "outputs": [
    {
     "data": {
      "text/plain": [
       "True"
      ]
     },
     "execution_count": 26,
     "metadata": {},
     "output_type": "execute_result"
    }
   ],
   "source": [
    "\"cifar10\" in page2.text"
   ]
  },
  {
   "cell_type": "code",
   "execution_count": null,
   "metadata": {},
   "outputs": [],
   "source": [
    "## 주피터에서는 argparse 사용 불가\n",
    "\n",
    "import argparse\n",
    "import textwrap\n",
    "\n",
    "parser = argparse.ArgumentParser(\n",
    "        formatter_class=argparse.RawDescriptionHelpFormatter,\n",
    "        description=textwrap.dedent('''\\\n",
    "        ========== config your model ===========\n",
    "\n",
    "        * arch : your CPU architecture\n",
    "        * type : your model's task\n",
    "\n",
    "        '''))\n",
    "parser.add_argument(\n",
    "    '--arch',\n",
    "    type=str,\n",
    "    help='look up your CPU architecture using \"$ uname -a\"'\n",
    ")\n",
    "parser.add_argument(\n",
    "    '--task',\n",
    "    type=str,\n",
    "    help='what is the purpose of this model? [ ex) animal, fruit, cars, etc... ]'\n",
    ")\n",
    "\n",
    "args = parser.parse_args()\n",
    "print(args)"
   ]
  },
  {
   "cell_type": "code",
   "execution_count": 45,
   "metadata": {},
   "outputs": [
    {
     "name": "stdout",
     "output_type": "stream",
     "text": [
      "aarch64-model\n",
      "aarch64-model:imagenet\n"
     ]
    }
   ],
   "source": [
    "reg_url = 'http://localhost:5000'\n",
    "arch = 'aarch64'\n",
    "task = 'imagenet'\n",
    "\n",
    "model = \"{arch}-model\".format(arch=arch)\n",
    "image_name = \"{model}:{task}\".format(model=model, task=task)\n",
    "\n",
    "\n",
    "print(model)\n",
    "print(image_name)"
   ]
  },
  {
   "cell_type": "code",
   "execution_count": 46,
   "metadata": {},
   "outputs": [
    {
     "name": "stdout",
     "output_type": "stream",
     "text": [
      "{\"repositories\":[\"aarch64-model\",\"cifar-rpi-model\",\"dockerfile-test-rpi\",\"edge-model\",\"python\",\"rpi-model\"]}\n",
      "\n",
      "{\"name\":\"aarch64-model\",\"tags\":[\"cifar10\"]}\n",
      "\n",
      "activate distribution sequence.\n"
     ]
    }
   ],
   "source": [
    "search = requests.get('{url}/v2/_catalog'.format(url=reg_url))\n",
    "print(search.text)\n",
    "model = \"{arch}-model\".format(arch=arch)\n",
    "\n",
    "if model in search.text:\n",
    "    search2 = requests.get('{url}/v2/{model}/tags/list'.format(url=reg_url, model=model))\n",
    "    print(search2.text)\n",
    "    if task in search2.text:\n",
    "        image_name = \"{model}:{task}\".format(model=model, task=task)\n",
    "        print('we already have the model.')\n",
    "        print(\"download command : 'docker pull {url}/{image_name}'\".format(url=reg_url, image_name=image_name))\n",
    "    else:\n",
    "        print('activate distribution sequence.')\n",
    "\n"
   ]
  },
  {
   "cell_type": "code",
   "execution_count": null,
   "metadata": {},
   "outputs": [],
   "source": []
  }
 ],
 "metadata": {
  "kernelspec": {
   "display_name": "Python 3 (ipykernel)",
   "language": "python",
   "name": "python3"
  },
  "language_info": {
   "codemirror_mode": {
    "name": "ipython",
    "version": 3
   },
   "file_extension": ".py",
   "mimetype": "text/x-python",
   "name": "python",
   "nbconvert_exporter": "python",
   "pygments_lexer": "ipython3",
   "version": "3.8.0"
  },
  "orig_nbformat": 4
 },
 "nbformat": 4,
 "nbformat_minor": 2
}
