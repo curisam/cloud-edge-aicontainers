{
 "cells": [
  {
   "cell_type": "markdown",
   "id": "9153eb6d-d9f5-449e-978c-fd84fce4f266",
   "metadata": {},
   "source": [
    "# BentoML Quick Start\n",
    "\n",
    "- https://docs.bentoml.org/en/latest/tutorial.html\n",
    "\n"
   ]
  },
  {
   "cell_type": "markdown",
   "id": "2334be08-a4d4-44bb-abba-fee6cf8536b3",
   "metadata": {},
   "source": [
    "\n",
    "- 설치 방법\n",
    "\n",
    "- 2022-08-29 기준으로, fastapi 최신 버전에서 문제 발생하고 있음\n",
    "- 임시로 fastapi==0.75 를 사용할 것 (https://discuss.ray.io/t/importerror-cannot-import-name-paramspec-from-typing-extensions-when-creating-a-cluster-on-azure/6869)\n",
    "\n",
    "```bash\n",
    "pip3 install bentoml scikit-learn pandas\n",
    "conda install fastapi==0.75\n",
    "\n",
    "```"
   ]
  },
  {
   "cell_type": "markdown",
   "id": "d93df489-3de9-42c1-91dd-740ccec1f7ff",
   "metadata": {},
   "source": [
    "## Quick test"
   ]
  },
  {
   "cell_type": "code",
   "execution_count": 7,
   "id": "4fbb72c9-9915-44fd-90ec-f4f7fca699b2",
   "metadata": {},
   "outputs": [],
   "source": [
    "from fastapi import routing"
   ]
  },
  {
   "cell_type": "code",
   "execution_count": 11,
   "id": "4135a6c1-d9f6-4db8-b8c8-4dde0151db0a",
   "metadata": {},
   "outputs": [
    {
     "name": "stdout",
     "output_type": "stream",
     "text": [
      "Model saved: Model(tag=\"iris_clf:lsdv33rhucynuzrg\")\n"
     ]
    }
   ],
   "source": [
    "import bentoml\n",
    "\n",
    "from sklearn import svm\n",
    "from sklearn import datasets\n",
    "\n",
    "# Load training data set\n",
    "iris = datasets.load_iris()\n",
    "X, y = iris.data, iris.target\n",
    "\n",
    "# Train the model\n",
    "clf = svm.SVC(gamma='scale')\n",
    "clf.fit(X, y)\n",
    "\n",
    "# Save model to the BentoML local model store\n",
    "saved_model = bentoml.sklearn.save_model(\"iris_clf\", clf)\n",
    "print(f\"Model saved: {saved_model}\")\n",
    "\n",
    "# Model saved: Model(tag=\"iris_clf:zy3dfgxzqkjrlgxi\")"
   ]
  },
  {
   "cell_type": "code",
   "execution_count": 1,
   "id": "2e394daa-f1dd-427a-8f07-4e916620e9ba",
   "metadata": {},
   "outputs": [
    {
     "name": "stdout",
     "output_type": "stream",
     "text": [
      "\u001b[91;40mname\u001b[0m\u001b[97;40m:\u001b[0m\u001b[97;40m \u001b[0m\u001b[40miris_clf\u001b[0m\u001b[40m                                                                  \u001b[0m\n",
      "\u001b[91;40mversion\u001b[0m\u001b[97;40m:\u001b[0m\u001b[97;40m \u001b[0m\u001b[40mlsdv33rhucynuzrg\u001b[0m\u001b[40m                                                       \u001b[0m\n",
      "\u001b[91;40mmodule\u001b[0m\u001b[97;40m:\u001b[0m\u001b[97;40m \u001b[0m\u001b[40mbentoml.sklearn\u001b[0m\u001b[40m                                                         \u001b[0m\n",
      "\u001b[91;40mlabels\u001b[0m\u001b[97;40m:\u001b[0m\u001b[97;40m \u001b[0m\u001b[40m{\u001b[0m\u001b[40m}\u001b[0m\u001b[40m                                                                      \u001b[0m\n",
      "\u001b[91;40moptions\u001b[0m\u001b[97;40m:\u001b[0m\u001b[97;40m \u001b[0m\u001b[40m{\u001b[0m\u001b[40m}\u001b[0m\u001b[40m                                                                     \u001b[0m\n",
      "\u001b[91;40mmetadata\u001b[0m\u001b[97;40m:\u001b[0m\u001b[97;40m \u001b[0m\u001b[40m{\u001b[0m\u001b[40m}\u001b[0m\u001b[40m                                                                    \u001b[0m\n",
      "\u001b[91;40mcontext\u001b[0m\u001b[97;40m:\u001b[0m\u001b[40m                                                                        \u001b[0m\n",
      "\u001b[97;40m  \u001b[0m\u001b[91;40mframework_name\u001b[0m\u001b[97;40m:\u001b[0m\u001b[97;40m \u001b[0m\u001b[40msklearn\u001b[0m\u001b[40m                                                       \u001b[0m\n",
      "\u001b[97;40m  \u001b[0m\u001b[91;40mframework_versions\u001b[0m\u001b[97;40m:\u001b[0m\u001b[40m                                                           \u001b[0m\n",
      "\u001b[97;40m    \u001b[0m\u001b[91;40mscikit-learn\u001b[0m\u001b[97;40m:\u001b[0m\u001b[97;40m \u001b[0m\u001b[40m1.1.2\u001b[0m\u001b[40m                                                         \u001b[0m\n",
      "\u001b[97;40m  \u001b[0m\u001b[91;40mbentoml_version\u001b[0m\u001b[97;40m:\u001b[0m\u001b[97;40m \u001b[0m\u001b[40m1.0.4\u001b[0m\u001b[40m                                                        \u001b[0m\n",
      "\u001b[97;40m  \u001b[0m\u001b[91;40mpython_version\u001b[0m\u001b[97;40m:\u001b[0m\u001b[97;40m \u001b[0m\u001b[40m3.9.13\u001b[0m\u001b[40m                                                        \u001b[0m\n",
      "\u001b[91;40msignatures\u001b[0m\u001b[97;40m:\u001b[0m\u001b[40m                                                                     \u001b[0m\n",
      "\u001b[97;40m  \u001b[0m\u001b[91;40mpredict\u001b[0m\u001b[97;40m:\u001b[0m\u001b[40m                                                                      \u001b[0m\n",
      "\u001b[97;40m    \u001b[0m\u001b[91;40mbatchable\u001b[0m\u001b[97;40m:\u001b[0m\u001b[97;40m \u001b[0m\u001b[40mfalse\u001b[0m\u001b[40m                                                            \u001b[0m\n",
      "\u001b[91;40mapi_version\u001b[0m\u001b[97;40m:\u001b[0m\u001b[97;40m \u001b[0m\u001b[40mv1\u001b[0m\u001b[40m                                                                 \u001b[0m\n",
      "\u001b[91;40mcreation_time\u001b[0m\u001b[97;40m:\u001b[0m\u001b[97;40m \u001b[0m\u001b[93;40m'\u001b[0m\u001b[93;40m2022-08-29T13:42:01.899535+00:00\u001b[0m\u001b[93;40m'\u001b[0m\u001b[40m                               \u001b[0m\n",
      "\u001b[40m                                                                                \u001b[0m\n"
     ]
    }
   ],
   "source": [
    "! bentoml models get iris_clf:latest"
   ]
  },
  {
   "cell_type": "code",
   "execution_count": 2,
   "id": "62647803-ae88-40c2-90c2-de986c34a723",
   "metadata": {},
   "outputs": [
    {
     "name": "stdout",
     "output_type": "stream",
     "text": [
      "\u001b[1m \u001b[0m\u001b[1mTag                           \u001b[0m\u001b[1m \u001b[0m\u001b[1m \u001b[0m\u001b[1mModule         \u001b[0m\u001b[1m \u001b[0m\u001b[1m \u001b[0m\u001b[1mSize    \u001b[0m\u001b[1m \u001b[0m\u001b[1m \u001b[0m\u001b[1mCreation Time      \u001b[0m\u001b[1m \u001b[0m\n",
      " pytorch_mnist:2nd6rfrhus6fazrg  bentoml.pytorch  1.30 MiB  2022-08-29 23:13:59 \n",
      " iris_clf:lsdv33rhucynuzrg       bentoml.sklearn  5.79 KiB  2022-08-29 22:42:01 \n",
      " iris_clf:lmrxdybhucynuzrg       bentoml.sklearn  5.79 KiB  2022-08-29 22:41:59 \n",
      " iris_clf:e2nvzrrhucynuzrg       bentoml.sklearn  5.79 KiB  2022-08-29 22:40:31 \n"
     ]
    }
   ],
   "source": [
    "! bentoml models list\n"
   ]
  },
  {
   "cell_type": "code",
   "execution_count": 3,
   "id": "a36575b9-a00d-4138-a637-ef99a1acae91",
   "metadata": {},
   "outputs": [
    {
     "name": "stdout",
     "output_type": "stream",
     "text": [
      "Usage: bentoml models [OPTIONS] COMMAND [ARGS]...\n",
      "\n",
      "  Model Subcommands Groups\n",
      "\n",
      "Options:\n",
      "  -h, --help  Show this message and exit.\n",
      "\n",
      "Commands:\n",
      "  delete  Delete Model in local model store.\n",
      "  export  Export a Model to an external archive file\n",
      "  get     Print Model details by providing the model_tag\n",
      "  import  Import a previously exported Model archive file\n",
      "  list    List Models in local store\n",
      "  pull    Pull Model from a yatai server.\n",
      "  push    Push Model to a yatai server.\n"
     ]
    }
   ],
   "source": [
    "! bentoml models --help"
   ]
  },
  {
   "cell_type": "markdown",
   "id": "15a64336-8fb8-4b61-b1ce-1d94055b2ec3",
   "metadata": {},
   "source": [
    "### Prediction"
   ]
  },
  {
   "cell_type": "code",
   "execution_count": 4,
   "id": "fc2a8bc2-a829-4d4b-804b-2801d1f9b093",
   "metadata": {},
   "outputs": [
    {
     "data": {
      "text/plain": [
       "array([2])"
      ]
     },
     "execution_count": 4,
     "metadata": {},
     "output_type": "execute_result"
    }
   ],
   "source": [
    "import bentoml\n",
    "\n",
    "loaded_model = bentoml.sklearn.load_model(\"iris_clf:latest\")\n",
    "\n",
    "loaded_model.predict([[5.9, 3. , 5.1, 1.8]])  # => array(2)"
   ]
  },
  {
   "cell_type": "code",
   "execution_count": 5,
   "id": "d6f1f9ce-bc02-4a2b-8e17-743ae1653b86",
   "metadata": {},
   "outputs": [],
   "source": [
    "model = bentoml.sklearn.load_model(\"iris_clf:lsdv33rhucynuzrg\")\n",
    "\n",
    "# Alternatively, use `latest` to find the newest version\n",
    "model = bentoml.sklearn.load_model(\"iris_clf:latest\")"
   ]
  },
  {
   "cell_type": "code",
   "execution_count": 6,
   "id": "3b043b49-ec8a-4491-be09-c527da238ae0",
   "metadata": {},
   "outputs": [
    {
     "data": {
      "text/html": [
       "<style>#sk-container-id-1 {color: black;background-color: white;}#sk-container-id-1 pre{padding: 0;}#sk-container-id-1 div.sk-toggleable {background-color: white;}#sk-container-id-1 label.sk-toggleable__label {cursor: pointer;display: block;width: 100%;margin-bottom: 0;padding: 0.3em;box-sizing: border-box;text-align: center;}#sk-container-id-1 label.sk-toggleable__label-arrow:before {content: \"▸\";float: left;margin-right: 0.25em;color: #696969;}#sk-container-id-1 label.sk-toggleable__label-arrow:hover:before {color: black;}#sk-container-id-1 div.sk-estimator:hover label.sk-toggleable__label-arrow:before {color: black;}#sk-container-id-1 div.sk-toggleable__content {max-height: 0;max-width: 0;overflow: hidden;text-align: left;background-color: #f0f8ff;}#sk-container-id-1 div.sk-toggleable__content pre {margin: 0.2em;color: black;border-radius: 0.25em;background-color: #f0f8ff;}#sk-container-id-1 input.sk-toggleable__control:checked~div.sk-toggleable__content {max-height: 200px;max-width: 100%;overflow: auto;}#sk-container-id-1 input.sk-toggleable__control:checked~label.sk-toggleable__label-arrow:before {content: \"▾\";}#sk-container-id-1 div.sk-estimator input.sk-toggleable__control:checked~label.sk-toggleable__label {background-color: #d4ebff;}#sk-container-id-1 div.sk-label input.sk-toggleable__control:checked~label.sk-toggleable__label {background-color: #d4ebff;}#sk-container-id-1 input.sk-hidden--visually {border: 0;clip: rect(1px 1px 1px 1px);clip: rect(1px, 1px, 1px, 1px);height: 1px;margin: -1px;overflow: hidden;padding: 0;position: absolute;width: 1px;}#sk-container-id-1 div.sk-estimator {font-family: monospace;background-color: #f0f8ff;border: 1px dotted black;border-radius: 0.25em;box-sizing: border-box;margin-bottom: 0.5em;}#sk-container-id-1 div.sk-estimator:hover {background-color: #d4ebff;}#sk-container-id-1 div.sk-parallel-item::after {content: \"\";width: 100%;border-bottom: 1px solid gray;flex-grow: 1;}#sk-container-id-1 div.sk-label:hover label.sk-toggleable__label {background-color: #d4ebff;}#sk-container-id-1 div.sk-serial::before {content: \"\";position: absolute;border-left: 1px solid gray;box-sizing: border-box;top: 0;bottom: 0;left: 50%;z-index: 0;}#sk-container-id-1 div.sk-serial {display: flex;flex-direction: column;align-items: center;background-color: white;padding-right: 0.2em;padding-left: 0.2em;position: relative;}#sk-container-id-1 div.sk-item {position: relative;z-index: 1;}#sk-container-id-1 div.sk-parallel {display: flex;align-items: stretch;justify-content: center;background-color: white;position: relative;}#sk-container-id-1 div.sk-item::before, #sk-container-id-1 div.sk-parallel-item::before {content: \"\";position: absolute;border-left: 1px solid gray;box-sizing: border-box;top: 0;bottom: 0;left: 50%;z-index: -1;}#sk-container-id-1 div.sk-parallel-item {display: flex;flex-direction: column;z-index: 1;position: relative;background-color: white;}#sk-container-id-1 div.sk-parallel-item:first-child::after {align-self: flex-end;width: 50%;}#sk-container-id-1 div.sk-parallel-item:last-child::after {align-self: flex-start;width: 50%;}#sk-container-id-1 div.sk-parallel-item:only-child::after {width: 0;}#sk-container-id-1 div.sk-dashed-wrapped {border: 1px dashed gray;margin: 0 0.4em 0.5em 0.4em;box-sizing: border-box;padding-bottom: 0.4em;background-color: white;}#sk-container-id-1 div.sk-label label {font-family: monospace;font-weight: bold;display: inline-block;line-height: 1.2em;}#sk-container-id-1 div.sk-label-container {text-align: center;}#sk-container-id-1 div.sk-container {/* jupyter's `normalize.less` sets `[hidden] { display: none; }` but bootstrap.min.css set `[hidden] { display: none !important; }` so we also need the `!important` here to be able to override the default hidden behavior on the sphinx rendered scikit-learn.org. See: https://github.com/scikit-learn/scikit-learn/issues/21755 */display: inline-block !important;position: relative;}#sk-container-id-1 div.sk-text-repr-fallback {display: none;}</style><div id=\"sk-container-id-1\" class=\"sk-top-container\"><div class=\"sk-text-repr-fallback\"><pre>SVC()</pre><b>In a Jupyter environment, please rerun this cell to show the HTML representation or trust the notebook. <br />On GitHub, the HTML representation is unable to render, please try loading this page with nbviewer.org.</b></div><div class=\"sk-container\" hidden><div class=\"sk-item\"><div class=\"sk-estimator sk-toggleable\"><input class=\"sk-toggleable__control sk-hidden--visually\" id=\"sk-estimator-id-1\" type=\"checkbox\" checked><label for=\"sk-estimator-id-1\" class=\"sk-toggleable__label sk-toggleable__label-arrow\">SVC</label><div class=\"sk-toggleable__content\"><pre>SVC()</pre></div></div></div></div></div>"
      ],
      "text/plain": [
       "SVC()"
      ]
     },
     "execution_count": 6,
     "metadata": {},
     "output_type": "execute_result"
    }
   ],
   "source": [
    "model"
   ]
  },
  {
   "cell_type": "markdown",
   "id": "08585313-aeab-43d1-b875-8188e20cec36",
   "metadata": {},
   "source": [
    "## Serving the model"
   ]
  },
  {
   "cell_type": "markdown",
   "id": "02e650c9-9064-48d5-86fd-0e20aa0d79fd",
   "metadata": {},
   "source": [
    "### service.py"
   ]
  },
  {
   "cell_type": "code",
   "execution_count": 15,
   "id": "70c64ecd-0b23-4ab9-91e3-cb181de37622",
   "metadata": {},
   "outputs": [],
   "source": [
    "# service.py\n",
    "\n",
    "import numpy as np\n",
    "import bentoml\n",
    "from bentoml.io import NumpyNdarray\n",
    "\n",
    "iris_clf_runner = bentoml.sklearn.get(\"iris_clf:latest\").to_runner()\n",
    "\n",
    "svc = bentoml.Service(\"iris_classifier\", runners=[iris_clf_runner])\n",
    "\n",
    "@svc.api(input=NumpyNdarray(), output=NumpyNdarray())\n",
    "def classify(input_series: np.ndarray) -> np.ndarray:\n",
    "    result = iris_clf_runner.predict.run(input_series)\n",
    "    return result"
   ]
  },
  {
   "cell_type": "code",
   "execution_count": 9,
   "id": "9d388b15-52f6-491b-9973-348e8f8be6bb",
   "metadata": {},
   "outputs": [
    {
     "name": "stdout",
     "output_type": "stream",
     "text": [
      "2022-08-30T10:55:26+0900 [INFO] [cli] Starting development BentoServer from \"service.py:svc\" running on http://0.0.0.0:3000 (Press CTRL+C to quit)\n",
      "2022-08-30 10:55:26 circus[34548] [INFO] Loading the plugin...\n",
      "2022-08-30 10:55:26 circus[34548] [INFO] Endpoint: 'tcp://127.0.0.1:61384'\n",
      "2022-08-30 10:55:26 circus[34548] [INFO] Pub/sub: 'tcp://127.0.0.1:61385'\n",
      "2022-08-30T10:55:26+0900 [INFO] [observer] Watching directories: ['/Users/jpark/WorkDevEdgeAI/cloud-edge-aicontainers/v2/approaches/bentoML/00_intro', '/Users/jpark/bentoml/models']\n",
      "^C\n"
     ]
    }
   ],
   "source": [
    "! bentoml serve service.py:svc --reload "
   ]
  },
  {
   "cell_type": "code",
   "execution_count": 10,
   "id": "dcedb2a4-fb91-49d4-85c8-f0f353251726",
   "metadata": {},
   "outputs": [
    {
     "ename": "SyntaxError",
     "evalue": "invalid syntax (4128549827.py, line 1)",
     "output_type": "error",
     "traceback": [
      "\u001b[0;36m  Input \u001b[0;32mIn [10]\u001b[0;36m\u001b[0m\n\u001b[0;31m    curl -X POST -H \"content-type: application/json\" --data \"[[5.9, 3, 5.1, 1.8]]\" http://127.0.0.1:3000/classify\u001b[0m\n\u001b[0m            ^\u001b[0m\n\u001b[0;31mSyntaxError\u001b[0m\u001b[0;31m:\u001b[0m invalid syntax\n"
     ]
    }
   ],
   "source": [
    "curl -X POST -H \"content-type: application/json\" --data \"[[5.9, 3, 5.1, 1.8]]\" http://127.0.0.1:3000/classify"
   ]
  },
  {
   "cell_type": "markdown",
   "id": "7ed23b25-e5a8-4a93-ab6c-fe2e196a3ee8",
   "metadata": {},
   "source": [
    "### [python] Send prediction request with an HTTP client"
   ]
  },
  {
   "cell_type": "code",
   "execution_count": 16,
   "id": "eee817f9-00ba-4904-83e0-8a4e64e6cb62",
   "metadata": {},
   "outputs": [
    {
     "data": {
      "text/plain": [
       "'[2]'"
      ]
     },
     "execution_count": 16,
     "metadata": {},
     "output_type": "execute_result"
    }
   ],
   "source": [
    "import requests\n",
    "requests.post(\n",
    "    \"http://127.0.0.1:3000/classify\",\n",
    "    headers={\"content-type\": \"application/json\"},\n",
    "    data=\"[[5.9, 3, 5.1, 1.8]]\").text"
   ]
  },
  {
   "cell_type": "markdown",
   "id": "ef9d983f-bdc0-4d3f-a979-a2a3e03ac5ff",
   "metadata": {},
   "source": [
    "### [curl] Send prediction request with an HTTP client"
   ]
  },
  {
   "cell_type": "markdown",
   "id": "46b1d2cb-1be3-4b2a-9e04-1e935f398347",
   "metadata": {},
   "source": [
    "```bash\n",
    "curl \\\n",
    "  -X POST \\\n",
    "  -H \"content-type: application/json\" \\\n",
    "  --data \"[[5.9, 3, 5.1, 1.8]]\" \\\n",
    "  http://127.0.0.1:3000/classify\n",
    "```\n",
    "\n",
    "\n"
   ]
  },
  {
   "cell_type": "code",
   "execution_count": 19,
   "id": "dc1c85a9-657e-40f4-85b5-6cdc4aa80d65",
   "metadata": {},
   "outputs": [
    {
     "name": "stderr",
     "output_type": "stream",
     "text": [
      "'Runner.init_local' is for debugging and testing only\n"
     ]
    },
    {
     "data": {
      "text/plain": [
       "array([2])"
      ]
     },
     "execution_count": 19,
     "metadata": {},
     "output_type": "execute_result"
    }
   ],
   "source": [
    "import bentoml\n",
    "\n",
    "iris_clf_runner = bentoml.sklearn.get(\"iris_clf:latest\").to_runner()\n",
    "iris_clf_runner.init_local()\n",
    "iris_clf_runner.predict.run([[5.9, 3., 5.1, 1.8]])"
   ]
  },
  {
   "cell_type": "code",
   "execution_count": null,
   "id": "a3cdcc88-7067-46cc-95d6-38cb33b04081",
   "metadata": {},
   "outputs": [],
   "source": []
  }
 ],
 "metadata": {
  "kernelspec": {
   "display_name": "Python 3 (ipykernel)",
   "language": "python",
   "name": "python3"
  },
  "language_info": {
   "codemirror_mode": {
    "name": "ipython",
    "version": 3
   },
   "file_extension": ".py",
   "mimetype": "text/x-python",
   "name": "python",
   "nbconvert_exporter": "python",
   "pygments_lexer": "ipython3",
   "version": "3.9.13"
  }
 },
 "nbformat": 4,
 "nbformat_minor": 5
}
