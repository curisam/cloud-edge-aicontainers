{
 "cells": [
  {
   "cell_type": "markdown",
   "id": "9153eb6d-d9f5-449e-978c-fd84fce4f266",
   "metadata": {},
   "source": [
    "# BentoML Quick Start\n",
    "\n",
    "- https://docs.bentoml.org/en/latest/tutorial.html\n",
    "\n"
   ]
  },
  {
   "cell_type": "markdown",
   "id": "2334be08-a4d4-44bb-abba-fee6cf8536b3",
   "metadata": {},
   "source": [
    "\n",
    "- 설치 방법\n",
    "\n",
    "- 2022-08-29 기준으로, fastapi 최신 버전에서 문제 발생하고 있음\n",
    "- 임시로 fastapi==0.75 를 사용할 것 (https://discuss.ray.io/t/importerror-cannot-import-name-paramspec-from-typing-extensions-when-creating-a-cluster-on-azure/6869)\n",
    "\n",
    "```bash\n",
    "pip3 install bentoml scikit-learn pandas\n",
    "conda install fastapi==0.75\n",
    "\n",
    "```"
   ]
  },
  {
   "cell_type": "code",
   "execution_count": 7,
   "id": "4fbb72c9-9915-44fd-90ec-f4f7fca699b2",
   "metadata": {},
   "outputs": [],
   "source": [
    "from fastapi import routing"
   ]
  },
  {
   "cell_type": "code",
   "execution_count": 11,
   "id": "4135a6c1-d9f6-4db8-b8c8-4dde0151db0a",
   "metadata": {},
   "outputs": [
    {
     "name": "stdout",
     "output_type": "stream",
     "text": [
      "Model saved: Model(tag=\"iris_clf:lsdv33rhucynuzrg\")\n"
     ]
    }
   ],
   "source": [
    "import bentoml\n",
    "\n",
    "from sklearn import svm\n",
    "from sklearn import datasets\n",
    "\n",
    "# Load training data set\n",
    "iris = datasets.load_iris()\n",
    "X, y = iris.data, iris.target\n",
    "\n",
    "# Train the model\n",
    "clf = svm.SVC(gamma='scale')\n",
    "clf.fit(X, y)\n",
    "\n",
    "# Save model to the BentoML local model store\n",
    "saved_model = bentoml.sklearn.save_model(\"iris_clf\", clf)\n",
    "print(f\"Model saved: {saved_model}\")\n",
    "\n",
    "# Model saved: Model(tag=\"iris_clf:zy3dfgxzqkjrlgxi\")"
   ]
  },
  {
   "cell_type": "code",
   "execution_count": 14,
   "id": "d6f1f9ce-bc02-4a2b-8e17-743ae1653b86",
   "metadata": {},
   "outputs": [],
   "source": [
    "model = bentoml.sklearn.load_model(\"iris_clf:lsdv33rhucynuzrg\")\n",
    "\n",
    "# Alternatively, use `latest` to find the newest version\n",
    "model = bentoml.sklearn.load_model(\"iris_clf:latest\")"
   ]
  },
  {
   "cell_type": "markdown",
   "id": "02e650c9-9064-48d5-86fd-0e20aa0d79fd",
   "metadata": {},
   "source": [
    "## service.py"
   ]
  },
  {
   "cell_type": "code",
   "execution_count": 15,
   "id": "70c64ecd-0b23-4ab9-91e3-cb181de37622",
   "metadata": {},
   "outputs": [],
   "source": [
    "# service.py\n",
    "\n",
    "import numpy as np\n",
    "import bentoml\n",
    "from bentoml.io import NumpyNdarray\n",
    "\n",
    "iris_clf_runner = bentoml.sklearn.get(\"iris_clf:latest\").to_runner()\n",
    "\n",
    "svc = bentoml.Service(\"iris_classifier\", runners=[iris_clf_runner])\n",
    "\n",
    "@svc.api(input=NumpyNdarray(), output=NumpyNdarray())\n",
    "def classify(input_series: np.ndarray) -> np.ndarray:\n",
    "    result = iris_clf_runner.predict.run(input_series)\n",
    "    return result"
   ]
  },
  {
   "cell_type": "markdown",
   "id": "7ed23b25-e5a8-4a93-ab6c-fe2e196a3ee8",
   "metadata": {},
   "source": [
    "### [python] Send prediction request with an HTTP client"
   ]
  },
  {
   "cell_type": "code",
   "execution_count": 16,
   "id": "eee817f9-00ba-4904-83e0-8a4e64e6cb62",
   "metadata": {},
   "outputs": [
    {
     "data": {
      "text/plain": [
       "'[2]'"
      ]
     },
     "execution_count": 16,
     "metadata": {},
     "output_type": "execute_result"
    }
   ],
   "source": [
    "import requests\n",
    "requests.post(\n",
    "    \"http://127.0.0.1:3000/classify\",\n",
    "    headers={\"content-type\": \"application/json\"},\n",
    "    data=\"[[5.9, 3, 5.1, 1.8]]\").text"
   ]
  },
  {
   "cell_type": "markdown",
   "id": "ef9d983f-bdc0-4d3f-a979-a2a3e03ac5ff",
   "metadata": {},
   "source": [
    "### [curl] Send prediction request with an HTTP client"
   ]
  },
  {
   "cell_type": "markdown",
   "id": "46b1d2cb-1be3-4b2a-9e04-1e935f398347",
   "metadata": {},
   "source": [
    "```bash\n",
    "curl \\\n",
    "  -X POST \\\n",
    "  -H \"content-type: application/json\" \\\n",
    "  --data \"[[5.9, 3, 5.1, 1.8]]\" \\\n",
    "  http://127.0.0.1:3000/classify\n",
    "```\n",
    "\n",
    "\n"
   ]
  },
  {
   "cell_type": "code",
   "execution_count": 19,
   "id": "dc1c85a9-657e-40f4-85b5-6cdc4aa80d65",
   "metadata": {},
   "outputs": [
    {
     "name": "stderr",
     "output_type": "stream",
     "text": [
      "'Runner.init_local' is for debugging and testing only\n"
     ]
    },
    {
     "data": {
      "text/plain": [
       "array([2])"
      ]
     },
     "execution_count": 19,
     "metadata": {},
     "output_type": "execute_result"
    }
   ],
   "source": [
    "import bentoml\n",
    "\n",
    "iris_clf_runner = bentoml.sklearn.get(\"iris_clf:latest\").to_runner()\n",
    "iris_clf_runner.init_local()\n",
    "iris_clf_runner.predict.run([[5.9, 3., 5.1, 1.8]])"
   ]
  },
  {
   "cell_type": "code",
   "execution_count": null,
   "id": "a3cdcc88-7067-46cc-95d6-38cb33b04081",
   "metadata": {},
   "outputs": [],
   "source": []
  }
 ],
 "metadata": {
  "kernelspec": {
   "display_name": "Python 3 (ipykernel)",
   "language": "python",
   "name": "python3"
  },
  "language_info": {
   "codemirror_mode": {
    "name": "ipython",
    "version": 3
   },
   "file_extension": ".py",
   "mimetype": "text/x-python",
   "name": "python",
   "nbconvert_exporter": "python",
   "pygments_lexer": "ipython3",
   "version": "3.9.13"
  }
 },
 "nbformat": 4,
 "nbformat_minor": 5
}
