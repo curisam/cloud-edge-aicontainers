{
 "cells": [
  {
   "cell_type": "markdown",
   "id": "7c0a0762-d87f-4308-a015-a4ce1317bd35",
   "metadata": {},
   "source": [
    "# Pub/Sub\n",
    "\n",
    "- 참고 (2018년 국문 번역문) : https://blog.storyg.co/rabbitmqs/tutorials/python/04-routing\n",
    "\n",
    "- 참고 (최신 정식 문서) : https://www.rabbitmq.com/tutorials/tutorial-three-python.html\n",
    "\n",
    "- 참고 : https://github.com/rabbitmq/rabbitmq-tutorials\n",
    "\n",
    "\n",
    "- 본 문의 표현 및 글은 상기 블로그의 내용을 거의 인용했습니다.\n",
    "\n",
    "- RabbitMQ가 표준 포트 (5672)의 localhost에 설치되어 실행되고 있다고 가정합니다. 다른 호스트, 포트 또는 자격 증명을 사용하는 경우 연결 설정을 조정해야 합니다.\n",
    "- 이번에는 여러 소비자(컨슈머)에게 메시지를 전달할 것입니다. \n",
    "\n",
    "## 핵심 요소 \n",
    "- 프로듀서(생성자)는 메시지를 보내는 사용자 응용 프로그램입니다.\n",
    "- 큐는 메시지를 저장하는 버퍼입니다.\n",
    "- 컨슈머(소비자)는 메시지를받는 사용자 응용 프로그램입니다.\n",
    "\n",
    "## exchange vs. queue\n",
    "- RabbitMQ의 메시징 모델에서 핵심 아이디어는 프로듀서가 어떤 메시지도 큐로 직접 보내지 않는다는 것입니다. 사실, 프로듀서는 메시지가 어떤 큐에 전달되는지 전혀 모릅니다.\n",
    "- 대신 프로듀서는 메시지를 exchange에만 보낼 수 있습니다. exchange는 아주 간단한 일입니다. 한 쪽에서는 프로듀서로부터 메시지를 받고 다른 쪽에서는 메시지를 큐로 보냅니다. exchange는 받은 메시지를 어떻게 처리해야 하는지 정확히 알아야 합니다.\n",
    "\n",
    "  (1) 특정 큐에 추가해야 하나?\n",
    "  \n",
    "  (2) 여러 큐에 추가해야 하나?\n",
    "  \n",
    "  (3) 폐기해야 하나?"
   ]
  },
  {
   "cell_type": "code",
   "execution_count": 1,
   "id": "3d0430fa-9aef-4665-8688-e203050ccf78",
   "metadata": {},
   "outputs": [
    {
     "name": "stdout",
     "output_type": "stream",
     "text": [
      "3.10.7\n"
     ]
    }
   ],
   "source": [
    "! rabbitmqctl --version"
   ]
  },
  {
   "cell_type": "code",
   "execution_count": 2,
   "id": "589d4391-a4e8-44d3-91b1-4d9f6a9cd57e",
   "metadata": {},
   "outputs": [
    {
     "name": "stdout",
     "output_type": "stream",
     "text": [
      "Listing exchanges for vhost / ...\n",
      "name\ttype\n",
      "amq.headers\theaders\n",
      "amq.match\theaders\n",
      "amq.rabbitmq.trace\ttopic\n",
      "amq.direct\tdirect\n",
      "amq.topic\ttopic\n",
      "amq.fanout\tfanout\n",
      "\tdirect\n"
     ]
    }
   ],
   "source": [
    "! rabbitmqctl list_exchanges"
   ]
  },
  {
   "cell_type": "code",
   "execution_count": 5,
   "id": "0d738234-4529-49fd-9b8e-ed3e05516a01",
   "metadata": {},
   "outputs": [
    {
     "name": "stdout",
     "output_type": "stream",
     "text": [
      "+--------------------+---------+\n",
      "|        name        |  type   |\n",
      "+--------------------+---------+\n",
      "|                    | direct  |\n",
      "| amq.direct         | direct  |\n",
      "| amq.fanout         | fanout  |\n",
      "| amq.headers        | headers |\n",
      "| amq.match          | headers |\n",
      "| amq.rabbitmq.trace | topic   |\n",
      "| amq.topic          | topic   |\n",
      "+--------------------+---------+\n"
     ]
    }
   ],
   "source": [
    "! rabbitmqadmin list exchanges"
   ]
  },
  {
   "cell_type": "markdown",
   "id": "cad1cad6-12fd-42e5-ba08-6d2e8ee4116f",
   "metadata": {},
   "source": [
    "## 임시큐\n",
    "\n",
    "이전에 기억할 수 있듯이 지정된 이름을 가진 hello 및 task_queue 큐를 사용했습니다 . 큐의 이름을 지정할 수 있다는 것이 우리에게는 매우 중요했습니다. 직원들을 동일한 큐로 안내해야 했습니다. 프로듀서와 컨슈머간에 큐를 공유하려면 큐에 이름을 지정하는 것이 중요합니다.\n",
    "\n",
    "그러나 그것은 우리의 로거의 경우가 아닙니다. 우리는 모든 로그 메시지를 듣고 싶습니다. 우리는 또한 오래된 메시지가 아닌 현재 흐르는 메시지에만 관심이 있습니다. 이를 해결하기 위해서는 두 가지가 필요합니다.\n",
    "\n",
    "첫째, 우리가 Rabbit에 연결할 때마다 우리는 새롭고 빈 큐가 필요합니다. 이를 위해 우리는 임의의 이름으로 큐를 생성 할 수 있습니다. 서버가 임의의 큐 이름을 선택하도록 할 수도 있습니다. queue 매개 변수를 queue_declare에 제공하지 않으면이 작업을 수행 할 수 있습니다.\n"
   ]
  },
  {
   "cell_type": "code",
   "execution_count": 6,
   "id": "bde312b7-4d6b-44f2-a20e-521bf62757f7",
   "metadata": {},
   "outputs": [
    {
     "name": "stdout",
     "output_type": "stream",
     "text": [
      "Listing bindings for vhost /...\n",
      "source_name\tsource_kind\tdestination_name\tdestination_kind\trouting_key\targuments\n",
      "\texchange\ttask_queue\tqueue\ttask_queue\t[]\n",
      "\texchange\thello\tqueue\thello\t[]\n"
     ]
    }
   ],
   "source": [
    "! rabbitmqctl list_bindings"
   ]
  },
  {
   "cell_type": "code",
   "execution_count": 7,
   "id": "aca9b6a1-cab6-4ec9-9454-a1fb0499816e",
   "metadata": {},
   "outputs": [
    {
     "name": "stdout",
     "output_type": "stream",
     "text": [
      "+--------+-------------+-------------+\n",
      "| source | destination | routing_key |\n",
      "+--------+-------------+-------------+\n",
      "|        | hello       | hello       |\n",
      "|        | task_queue  | task_queue  |\n",
      "+--------+-------------+-------------+\n"
     ]
    }
   ],
   "source": [
    "! rabbitmqadmin list bindings"
   ]
  },
  {
   "cell_type": "markdown",
   "id": "fe592820-3223-4352-aabd-dd1f99c5ba7e",
   "metadata": {},
   "source": [
    "##  emit_log.py \n",
    "\n",
    "- 원문은 2018년에 외국 문서를 번역한 것으로써, 코드가 정확히 동작하지 않습니다.\n",
    "- 원문 링크를 확인후 실행하니 원하는 방식대로 기능합니다.\n",
    "- https://www.rabbitmq.com/tutorials/tutorial-three-python.htmlhttps://www.rabbitmq.com/tutorials/tutorial-three-python.html\n",
    "- https://github.com/rabbitmq/rabbitmq-tutorials/blob/master/python/emit_log.pyhttps://github.com/rabbitmq/rabbitmq-tutorials/blob/master/python/emit_log.py"
   ]
  },
  {
   "cell_type": "code",
   "execution_count": 89,
   "id": "5b3bfd91-8543-4ca2-9a9b-425f083cb9b2",
   "metadata": {},
   "outputs": [
    {
     "name": "stdout",
     "output_type": "stream",
     "text": [
      " [x] Sent '-f /Users/jpark/Library/Jupyter/runtime/kernel-a0e368d5-e61e-43a1-91a5-742b4475709c.json'\n"
     ]
    }
   ],
   "source": [
    "#!/usr/bin/env python\n",
    "import pika\n",
    "import sys\n",
    "\n",
    "connection = pika.BlockingConnection(\n",
    "    pika.ConnectionParameters(host='localhost'))\n",
    "channel = connection.channel()\n",
    "\n",
    "channel.exchange_declare(exchange='logs', exchange_type='fanout')\n",
    "\n",
    "message = ' '.join(sys.argv[1:]) or \"info: Hello World!\"\n",
    "channel.basic_publish(exchange='logs', routing_key='', body=message)\n",
    "print(\" [x] Sent %r\" % message)\n",
    "connection.close()"
   ]
  },
  {
   "cell_type": "code",
   "execution_count": 90,
   "id": "824ae18a-90be-4224-a07e-d837b56ad1ad",
   "metadata": {},
   "outputs": [
    {
     "name": "stdout",
     "output_type": "stream",
     "text": [
      "+--------------------+---------+\n",
      "|        name        |  type   |\n",
      "+--------------------+---------+\n",
      "|                    | direct  |\n",
      "| amq.direct         | direct  |\n",
      "| amq.fanout         | fanout  |\n",
      "| amq.headers        | headers |\n",
      "| amq.match          | headers |\n",
      "| amq.rabbitmq.trace | topic   |\n",
      "| amq.topic          | topic   |\n",
      "| logs               | fanout  |\n",
      "+--------------------+---------+\n"
     ]
    }
   ],
   "source": [
    "! rabbitmqadmin list exchanges"
   ]
  },
  {
   "cell_type": "code",
   "execution_count": 91,
   "id": "dcb2e167-eff8-4d1d-a248-9dff3bf62531",
   "metadata": {},
   "outputs": [
    {
     "name": "stdout",
     "output_type": "stream",
     "text": [
      "+--------------------------------+----------+\n",
      "|              name              | messages |\n",
      "+--------------------------------+----------+\n",
      "| amq.gen-UFOhCq9P19yhtbN6G98Xnw | 0        |\n",
      "| amq.gen-b40As3H2aeUm8Z2f6buFxQ | 0        |\n",
      "| amq.gen-oD3kH8VIyDwZkYzF95athQ | 0        |\n",
      "| hello                          | 0        |\n",
      "| log_queue                      | 14       |\n",
      "| task_queue                     | 0        |\n",
      "+--------------------------------+----------+\n"
     ]
    }
   ],
   "source": [
    "! rabbitmqadmin list queues"
   ]
  },
  {
   "cell_type": "code",
   "execution_count": 92,
   "id": "be54cf55-0dfb-4547-bdd7-4e3827f38660",
   "metadata": {},
   "outputs": [
    {
     "name": "stdout",
     "output_type": "stream",
     "text": [
      "+--------+--------------------------------+--------------------------------+\n",
      "| source |          destination           |          routing_key           |\n",
      "+--------+--------------------------------+--------------------------------+\n",
      "|        | amq.gen-UFOhCq9P19yhtbN6G98Xnw | amq.gen-UFOhCq9P19yhtbN6G98Xnw |\n",
      "|        | amq.gen-b40As3H2aeUm8Z2f6buFxQ | amq.gen-b40As3H2aeUm8Z2f6buFxQ |\n",
      "|        | amq.gen-oD3kH8VIyDwZkYzF95athQ | amq.gen-oD3kH8VIyDwZkYzF95athQ |\n",
      "|        | hello                          | hello                          |\n",
      "|        | log_queue                      | log_queue                      |\n",
      "|        | task_queue                     | task_queue                     |\n",
      "| logs   | amq.gen-UFOhCq9P19yhtbN6G98Xnw | amq.gen-UFOhCq9P19yhtbN6G98Xnw |\n",
      "| logs   | amq.gen-b40As3H2aeUm8Z2f6buFxQ | amq.gen-b40As3H2aeUm8Z2f6buFxQ |\n",
      "| logs   | amq.gen-oD3kH8VIyDwZkYzF95athQ | amq.gen-oD3kH8VIyDwZkYzF95athQ |\n",
      "| logs   | log_queue                      | log_queue                      |\n",
      "+--------+--------------------------------+--------------------------------+\n"
     ]
    }
   ],
   "source": [
    "! rabbitmqadmin list bindings"
   ]
  },
  {
   "cell_type": "markdown",
   "id": "cd5ee678-0992-426f-b656-2032f7211a6d",
   "metadata": {},
   "source": [
    "## receive_logs.py"
   ]
  },
  {
   "cell_type": "code",
   "execution_count": 86,
   "id": "5435c944-1347-4a27-9a9e-bb3d357cfafd",
   "metadata": {},
   "outputs": [
    {
     "name": "stdout",
     "output_type": "stream",
     "text": [
      " [*] Waiting for logs. To exit press CTRL+C\n",
      "Interrupted\n"
     ]
    }
   ],
   "source": [
    "import pika, sys, os\n",
    "\n",
    "def receive_logs():\n",
    "    connection = pika.BlockingConnection(\n",
    "        pika.ConnectionParameters(host='localhost'))\n",
    "    channel = connection.channel()\n",
    "\n",
    "    channel.exchange_declare(exchange='logs', exchange_type='fanout')\n",
    "\n",
    "    result = channel.queue_declare(queue='', exclusive=True)\n",
    "    queue_name = result.method.queue\n",
    "\n",
    "    channel.queue_bind(exchange='logs', queue=queue_name)\n",
    "\n",
    "    def callback(ch, method, properties, body):\n",
    "        print(\" [x] %r\" % body.decode())\n",
    "\n",
    "    print(' [*] Waiting for logs. To exit press CTRL+C')\n",
    "    channel.basic_consume(\n",
    "        queue=queue_name, on_message_callback=callback, auto_ack=True)\n",
    "\n",
    "    channel.start_consuming()\n",
    "\n",
    "\n",
    "if __name__ == '__main__':\n",
    "    try:\n",
    "        receive_logs()\n",
    "    except KeyboardInterrupt:\n",
    "        print('Interrupted')\n"
   ]
  },
  {
   "cell_type": "code",
   "execution_count": 87,
   "id": "ba1063bf-aae5-4a07-a7b2-748c4fcdbde3",
   "metadata": {},
   "outputs": [
    {
     "name": "stdout",
     "output_type": "stream",
     "text": [
      "Listing bindings for vhost /...\n",
      "source_name\tsource_kind\tdestination_name\tdestination_kind\trouting_key\targuments\n",
      "\texchange\tlog_queue\tqueue\tlog_queue\t[]\n",
      "\texchange\tamq.gen-b40As3H2aeUm8Z2f6buFxQ\tqueue\tamq.gen-b40As3H2aeUm8Z2f6buFxQ\t[]\n",
      "\texchange\ttask_queue\tqueue\ttask_queue\t[]\n",
      "\texchange\tamq.gen-UFOhCq9P19yhtbN6G98Xnw\tqueue\tamq.gen-UFOhCq9P19yhtbN6G98Xnw\t[]\n",
      "\texchange\thello\tqueue\thello\t[]\n",
      "\texchange\tamq.gen-oD3kH8VIyDwZkYzF95athQ\tqueue\tamq.gen-oD3kH8VIyDwZkYzF95athQ\t[]\n",
      "logs\texchange\tamq.gen-UFOhCq9P19yhtbN6G98Xnw\tqueue\tamq.gen-UFOhCq9P19yhtbN6G98Xnw\t[]\n",
      "logs\texchange\tamq.gen-b40As3H2aeUm8Z2f6buFxQ\tqueue\tamq.gen-b40As3H2aeUm8Z2f6buFxQ\t[]\n",
      "logs\texchange\tamq.gen-oD3kH8VIyDwZkYzF95athQ\tqueue\tamq.gen-oD3kH8VIyDwZkYzF95athQ\t[]\n",
      "logs\texchange\tlog_queue\tqueue\tlog_queue\t[]\n"
     ]
    }
   ],
   "source": [
    "! rabbitmqctl list_bindings"
   ]
  },
  {
   "cell_type": "code",
   "execution_count": 88,
   "id": "aff990c5-a23e-4471-8fba-709304892652",
   "metadata": {},
   "outputs": [
    {
     "name": "stdout",
     "output_type": "stream",
     "text": [
      "+--------+--------------------------------+--------------------------------+\n",
      "| source |          destination           |          routing_key           |\n",
      "+--------+--------------------------------+--------------------------------+\n",
      "|        | amq.gen-UFOhCq9P19yhtbN6G98Xnw | amq.gen-UFOhCq9P19yhtbN6G98Xnw |\n",
      "|        | amq.gen-b40As3H2aeUm8Z2f6buFxQ | amq.gen-b40As3H2aeUm8Z2f6buFxQ |\n",
      "|        | amq.gen-oD3kH8VIyDwZkYzF95athQ | amq.gen-oD3kH8VIyDwZkYzF95athQ |\n",
      "|        | hello                          | hello                          |\n",
      "|        | log_queue                      | log_queue                      |\n",
      "|        | task_queue                     | task_queue                     |\n",
      "| logs   | amq.gen-UFOhCq9P19yhtbN6G98Xnw | amq.gen-UFOhCq9P19yhtbN6G98Xnw |\n",
      "| logs   | amq.gen-b40As3H2aeUm8Z2f6buFxQ | amq.gen-b40As3H2aeUm8Z2f6buFxQ |\n",
      "| logs   | amq.gen-oD3kH8VIyDwZkYzF95athQ | amq.gen-oD3kH8VIyDwZkYzF95athQ |\n",
      "| logs   | log_queue                      | log_queue                      |\n",
      "+--------+--------------------------------+--------------------------------+\n"
     ]
    }
   ],
   "source": [
    "! rabbitmqadmin list bindings"
   ]
  },
  {
   "cell_type": "code",
   "execution_count": null,
   "id": "9a591b6c-1c89-4f59-92f5-b0da09bee14b",
   "metadata": {},
   "outputs": [],
   "source": []
  },
  {
   "cell_type": "code",
   "execution_count": null,
   "id": "8844ac2a-8554-44ad-91a8-6e6806ef5dbd",
   "metadata": {},
   "outputs": [],
   "source": []
  }
 ],
 "metadata": {
  "kernelspec": {
   "display_name": "Python 3 (ipykernel)",
   "language": "python",
   "name": "python3"
  },
  "language_info": {
   "codemirror_mode": {
    "name": "ipython",
    "version": 3
   },
   "file_extension": ".py",
   "mimetype": "text/x-python",
   "name": "python",
   "nbconvert_exporter": "python",
   "pygments_lexer": "ipython3",
   "version": "3.9.13"
  }
 },
 "nbformat": 4,
 "nbformat_minor": 5
}
