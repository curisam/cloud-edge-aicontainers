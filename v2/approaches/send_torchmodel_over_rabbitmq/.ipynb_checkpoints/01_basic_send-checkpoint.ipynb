{
 "cells": [
  {
   "cell_type": "markdown",
   "id": "d471f9bb-9c9d-46f2-9153-bfd593fccf5d",
   "metadata": {},
   "source": [
    "# Send torch model over RabbitMQ"
   ]
  },
  {
   "cell_type": "markdown",
   "id": "d13c8b78-199d-4956-be9c-049e4c4ccc66",
   "metadata": {},
   "source": [
    "\n",
    "## for MacOS\n",
    "\n",
    "```bash\n",
    "\n",
    "# 설치\n",
    "$ brew update\n",
    "$ brew install rabbitmq\n",
    "\n",
    "# rabbitmq를 서비스로 꾸준히 실행하고자 할 때\n",
    "$ brew services start rabbitmq\n",
    "\n",
    "# rabbitmq를 한번만 실행하고자 할 때 \n",
    "$ CONF_ENV_FILE=\"/opt/homebrew/etc/rabbitmq/rabbitmq-env.conf\" /opt/homebrew/opt/rabbitmq/sbin/rabbitmq-server\n",
    "\n",
    "# 브라우저 열어서 어드민 UI 접속\n",
    "$ open http://localhost:15672\n",
    "   guest/guest\n",
    "\n",
    "# 콘솔에서 사용자 추가\n",
    "$ rabbitmqctl add_user <username> <password>\n",
    "$ rabbitmqctl set_user_tags <username> administrator\n",
    "\n",
    "# 파이썬에서 rabbitmq사용하기 위해서 pika 패키지 설치\n",
    "$ !pip install pika\n",
    "\n",
    "```\n",
    "\n",
    "\n",
    "## 자주쓰는 rabbitmqctl 명령어 \n",
    "\n",
    "```bash\n",
    "# rabbitmq 서비스 시작 / 재시작 /종료\n",
    "$ rabbitmqctl start / restart / stop\n",
    "\n",
    "# rabbitmq 서비스 상태 확인\n",
    "$ rabbitmqctl status\n",
    "\n",
    "# rabbitmq 사용자 목록 표시\n",
    "$ rabbitmqctl list_users\n",
    "\n",
    "# 사용자 생성\n",
    "$ rabbitmqctl add_user <유저명> <비밀번호>\n",
    "\n",
    "# 사용자 삭제\n",
    "$ rabbitmqctl delete_user <유저명>\n",
    "\n",
    "# 사용자 태그 할당\n",
    "$ rabbitmqctl set_user_tags <유저명> <태그>\n",
    "\n",
    "# management 플러그인 - 어드민 계정 만들기\n",
    "$ rabbitmqctl set_user_tags admin administrator\n",
    "\n",
    "# Queue에 차있는 메시지 확인 방법 1\n",
    "$ rabbitmqctl list_queues\n",
    "\n",
    "# Queue에 차있는 메시지 확인 방법 2\n",
    "$ rabbitmqadmin list queues\n",
    "\n",
    "\n",
    "```\n"
   ]
  },
  {
   "cell_type": "markdown",
   "id": "d7e59135-ca7c-4a23-8bdd-821d229fda66",
   "metadata": {},
   "source": [
    "## 중요사항\n",
    "\n",
    "- RabbitMQ 기본포트 번호는 5672 입니다.\n",
    "\n"
   ]
  },
  {
   "cell_type": "markdown",
   "id": "94f38775-51d5-4ee1-936a-4ae46da9db11",
   "metadata": {},
   "source": [
    "## send.py"
   ]
  },
  {
   "cell_type": "code",
   "execution_count": 16,
   "id": "92fb40a7-7438-435e-9a0f-a728d5dd69fb",
   "metadata": {},
   "outputs": [
    {
     "name": "stdout",
     "output_type": "stream",
     "text": [
      " [x] Sent 'Hello World!'\n"
     ]
    }
   ],
   "source": [
    "#!/usr/bin/env python\n",
    "import pika\n",
    "\n",
    "connection = pika.BlockingConnection(pika.ConnectionParameters(host='localhost'))\n",
    "channel = connection.channel()\n",
    "\n",
    "\n",
    "channel.queue_declare(queue='hello')\n",
    "\n",
    "channel.basic_publish(exchange='',\n",
    "                      routing_key='hello',\n",
    "                      body='Hello World!')\n",
    "print(\" [x] Sent 'Hello World!'\")\n",
    "connection.close()"
   ]
  },
  {
   "cell_type": "markdown",
   "id": "1349a420-e5a1-4139-8fc2-fde0d6ba50fc",
   "metadata": {},
   "source": [
    "## receive.py"
   ]
  },
  {
   "cell_type": "markdown",
   "id": "ea60f354-f371-4af0-8bd5-30e4d0ba7498",
   "metadata": {},
   "source": [
    "- 메시지를 계속 기다립니다."
   ]
  },
  {
   "cell_type": "code",
   "execution_count": 41,
   "id": "fd6d7920-17e1-4526-98a9-ca1310c2747a",
   "metadata": {},
   "outputs": [
    {
     "name": "stdout",
     "output_type": "stream",
     "text": [
      "[*] Waiting for messages. To exit press CTRL+C\n",
      "Interrupted\n"
     ]
    }
   ],
   "source": [
    "#!/usr/bin/env python\n",
    "import pika\n",
    "\n",
    "#!/usr/bin/env python\n",
    "import pika\n",
    "\n",
    "def main():\n",
    "    connection = pika.BlockingConnection(pika.ConnectionParameters(host='localhost', port=5672))\n",
    "    channel = connection.channel()\n",
    "\n",
    "    channel.queue_declare(queue='hello', durable=False)\n",
    "\n",
    "    def callback(ch, method, properties, body):\n",
    "        print(\" [d] Received %r\" % body)\n",
    "\n",
    "    channel.basic_consume(queue='hello', on_message_callback=callback, auto_ack=True)\n",
    "    print('[*] Waiting for messages. To exit press CTRL+C in console, or Interrupted Kernel Button in jupyter-notebook')\n",
    "    channel.start_consuming()\n",
    "\n",
    "if __name__ == '__main__':\n",
    "    try:\n",
    "        main()\n",
    "    except KeyboardInterrupt:\n",
    "        print('Interrupted')\n"
   ]
  },
  {
   "cell_type": "markdown",
   "id": "94d04f15-fb84-44ca-993d-4c7e781365b4",
   "metadata": {},
   "source": [
    "## send.py with user info"
   ]
  },
  {
   "cell_type": "code",
   "execution_count": 33,
   "id": "97903287-cfbf-4632-a3c9-9f2bb4fb3157",
   "metadata": {},
   "outputs": [
    {
     "name": "stdout",
     "output_type": "stream",
     "text": [
      " [x] Sent 'Hello World!'\n"
     ]
    }
   ],
   "source": [
    "import pika\n",
    "\n",
    "userInfo = pika.PlainCredentials('guest','guest')\n",
    "connection = pika.BlockingConnection(pika.ConnectionParameters(host = 'localhost', port = 5672, credentials = userInfo))\n",
    "channel = connection.channel()\n",
    "\n",
    "channel.queue_declare(queue='hello')\n",
    "\n",
    "channel.basic_publish(exchange='',\n",
    "                      routing_key='hello',\n",
    "                      body='Hello World!')\n",
    "print(\" [x] Sent 'Hello World!'\")\n",
    "connection.close()"
   ]
  },
  {
   "cell_type": "code",
   "execution_count": 23,
   "id": "5273965e-98aa-4751-be35-ad7aad969839",
   "metadata": {},
   "outputs": [
    {
     "name": "stdout",
     "output_type": "stream",
     "text": [
      "Adding user \"guest2\" ...\n",
      "Done. Don't forget to grant the user permissions to some virtual hosts! See 'rabbitmqctl help set_permissions' to learn more.\n"
     ]
    }
   ],
   "source": [
    "! rabbitmqctl add_user guest2 guest2"
   ]
  },
  {
   "cell_type": "code",
   "execution_count": 29,
   "id": "e6e06aa3-eb1f-4ea0-96b6-55e137a7c05a",
   "metadata": {},
   "outputs": [
    {
     "name": "stdout",
     "output_type": "stream",
     "text": [
      "Setting tags for user \"guest2\" to [administrator] ...\n"
     ]
    }
   ],
   "source": [
    "! rabbitmqctl set_user_tags guest2 administrator"
   ]
  },
  {
   "cell_type": "code",
   "execution_count": 37,
   "id": "58e19105-220b-46db-895c-e0034fecb99c",
   "metadata": {},
   "outputs": [
    {
     "name": "stdout",
     "output_type": "stream",
     "text": [
      "Adding user \"guest3\" ...\n",
      "Done. Don't forget to grant the user permissions to some virtual hosts! See 'rabbitmqctl help set_permissions' to learn more.\n"
     ]
    }
   ],
   "source": [
    "! rabbitmqctl add_user guest3 guest3"
   ]
  },
  {
   "cell_type": "code",
   "execution_count": 38,
   "id": "8c293a8b-d7e7-49d8-82b6-5eb3831a8433",
   "metadata": {},
   "outputs": [
    {
     "name": "stdout",
     "output_type": "stream",
     "text": [
      "Setting permissions for user \"guest3\" in vhost \"/\" ...\n"
     ]
    }
   ],
   "source": [
    "! rabbitmqctl set_permissions -p / \"guest3\" \".*\" \".*\" \".*\""
   ]
  },
  {
   "cell_type": "code",
   "execution_count": 39,
   "id": "fb4359e1-841f-4f8c-bf79-e476ca4979ce",
   "metadata": {},
   "outputs": [
    {
     "name": "stdout",
     "output_type": "stream",
     "text": [
      " [x] Sent 'Hello World!'\n"
     ]
    }
   ],
   "source": [
    "import pika\n",
    "\n",
    "userInfo = pika.PlainCredentials('guest3','guest3')\n",
    "connection = pika.BlockingConnection(pika.ConnectionParameters(host = 'localhost', port = 5672, credentials = userInfo))\n",
    "channel = connection.channel()\n",
    "\n",
    "channel.queue_declare(queue='hello')\n",
    "\n",
    "channel.basic_publish(exchange='',\n",
    "                      routing_key='hello',\n",
    "                      body='Hello World!')\n",
    "print(\" [x] Sent 'Hello World!'\")\n",
    "connection.close()"
   ]
  },
  {
   "cell_type": "code",
   "execution_count": 43,
   "id": "ff3e1ec2-909d-4cc6-aaf2-f541477b6bd3",
   "metadata": {},
   "outputs": [
    {
     "name": "stdout",
     "output_type": "stream",
     "text": [
      "+-------+----------+\n",
      "| name  | messages |\n",
      "+-------+----------+\n",
      "| hello | 0        |\n",
      "+-------+----------+\n"
     ]
    }
   ],
   "source": [
    "! rabbitmqadmin list queues"
   ]
  },
  {
   "cell_type": "markdown",
   "id": "7c0a0762-d87f-4308-a015-a4ce1317bd35",
   "metadata": {},
   "source": [
    "## 메시지 유지성을 갖는 코드\n",
    "\n",
    "- 참고 : https://blog.storyg.co/rabbitmqs/tutorials/python/02-work-queue"
   ]
  },
  {
   "cell_type": "markdown",
   "id": "cad1cad6-12fd-42e5-ba08-6d2e8ee4116f",
   "metadata": {},
   "source": [
    "## new_task.py"
   ]
  },
  {
   "cell_type": "code",
   "execution_count": 44,
   "id": "d31ddb96-7e18-426a-b93c-869eff83ad92",
   "metadata": {},
   "outputs": [
    {
     "name": "stdout",
     "output_type": "stream",
     "text": [
      " [x] Sent '-f /Users/jpark/Library/Jupyter/runtime/kernel-6535efef-c384-4217-97bc-6af7b09d997f.json'\n"
     ]
    }
   ],
   "source": [
    "#!/usr/bin/env python\n",
    "import pika\n",
    "import sys\n",
    "\n",
    "connection = pika.BlockingConnection(pika.ConnectionParameters(host='localhost'))\n",
    "channel = connection.channel()\n",
    "\n",
    "channel.queue_declare(queue='task_queue', durable=True)\n",
    "\n",
    "message = ' '.join(sys.argv[1:]) or \"Hello World!\"\n",
    "channel.basic_publish(exchange='',\n",
    "                      routing_key='task_queue',\n",
    "                      body=message,\n",
    "                      properties=pika.BasicProperties(\n",
    "                         delivery_mode = 2, # make message persistent\n",
    "                      ))\n",
    "print(\" [x] Sent %r\" % message)\n",
    "connection.close()"
   ]
  },
  {
   "cell_type": "markdown",
   "id": "f216188e-c1ad-4a8f-b5af-5e36c6763ebb",
   "metadata": {},
   "source": [
    "## worker.py"
   ]
  },
  {
   "cell_type": "code",
   "execution_count": 45,
   "id": "7774d712-6239-4c2a-9d0f-18774f91982d",
   "metadata": {},
   "outputs": [
    {
     "name": "stdout",
     "output_type": "stream",
     "text": [
      " [*] Waiting for messages. To exit press CTRL+C\n"
     ]
    },
    {
     "ename": "TypeError",
     "evalue": "basic_consume() got multiple values for argument 'queue'",
     "output_type": "error",
     "traceback": [
      "\u001b[0;31m---------------------------------------------------------------------------\u001b[0m",
      "\u001b[0;31mTypeError\u001b[0m                                 Traceback (most recent call last)",
      "Input \u001b[0;32mIn [45]\u001b[0m, in \u001b[0;36m<cell line: 18>\u001b[0;34m()\u001b[0m\n\u001b[1;32m     15\u001b[0m     ch\u001b[38;5;241m.\u001b[39mbasic_ack(delivery_tag \u001b[38;5;241m=\u001b[39m method\u001b[38;5;241m.\u001b[39mdelivery_tag)\n\u001b[1;32m     17\u001b[0m channel\u001b[38;5;241m.\u001b[39mbasic_qos(prefetch_count\u001b[38;5;241m=\u001b[39m\u001b[38;5;241m1\u001b[39m)\n\u001b[0;32m---> 18\u001b[0m \u001b[43mchannel\u001b[49m\u001b[38;5;241;43m.\u001b[39;49m\u001b[43mbasic_consume\u001b[49m\u001b[43m(\u001b[49m\u001b[43mcallback\u001b[49m\u001b[43m,\u001b[49m\n\u001b[1;32m     19\u001b[0m \u001b[43m                      \u001b[49m\u001b[43mqueue\u001b[49m\u001b[38;5;241;43m=\u001b[39;49m\u001b[38;5;124;43m'\u001b[39;49m\u001b[38;5;124;43mtask_queue\u001b[39;49m\u001b[38;5;124;43m'\u001b[39;49m\u001b[43m)\u001b[49m\n\u001b[1;32m     21\u001b[0m channel\u001b[38;5;241m.\u001b[39mstart_consuming()\n",
      "\u001b[0;31mTypeError\u001b[0m: basic_consume() got multiple values for argument 'queue'"
     ]
    }
   ],
   "source": [
    "#!/usr/bin/env python\n",
    "import pika\n",
    "import time\n",
    "\n",
    "connection = pika.BlockingConnection(pika.ConnectionParameters(host='localhost'))\n",
    "channel = connection.channel()\n",
    "\n",
    "channel.queue_declare(queue='task_queue', durable=True)\n",
    "print(' [*] Waiting for messages. To exit press CTRL+C')\n",
    "\n",
    "def callback(ch, method, properties, body):\n",
    "    print(\" [x] Received %r\" % body)\n",
    "    time.sleep(body.count(b'.'))\n",
    "    print(\" [x] Done\")\n",
    "    ch.basic_ack(delivery_tag = method.delivery_tag)\n",
    "\n",
    "channel.basic_qos(prefetch_count=1)\n",
    "channel.basic_consume(callback,\n",
    "                      queue='task_queue')\n",
    "\n",
    "channel.start_consuming()"
   ]
  },
  {
   "cell_type": "code",
   "execution_count": null,
   "id": "43273232-863f-494e-9993-2f57f3ce8078",
   "metadata": {},
   "outputs": [],
   "source": []
  }
 ],
 "metadata": {
  "kernelspec": {
   "display_name": "Python 3 (ipykernel)",
   "language": "python",
   "name": "python3"
  },
  "language_info": {
   "codemirror_mode": {
    "name": "ipython",
    "version": 3
   },
   "file_extension": ".py",
   "mimetype": "text/x-python",
   "name": "python",
   "nbconvert_exporter": "python",
   "pygments_lexer": "ipython3",
   "version": "3.9.13"
  }
 },
 "nbformat": 4,
 "nbformat_minor": 5
}
