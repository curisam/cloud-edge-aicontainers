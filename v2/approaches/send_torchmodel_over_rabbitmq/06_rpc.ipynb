{
 "cells": [
  {
   "cell_type": "markdown",
   "id": "7c0a0762-d87f-4308-a015-a4ce1317bd35",
   "metadata": {},
   "source": [
    "# RPC\n",
    "\n",
    "- 참고 (2018년 국문 번역문) : https://blog.storyg.co/rabbitmqs/tutorials/python/06-RPC\n",
    "\n",
    "- 참고 (최신 정식 문서) : https://www.rabbitmq.com/tutorials/tutorial-six-python.html\n",
    "\n",
    "- 참고 : https://github.com/rabbitmq/rabbitmq-tutorials\n",
    "\n",
    "\n",
    "두 번째 포스트에서는 작업 큐를 사용하여 시간이 많이 소요되는 작업을 여러 작업자에게 배포하는 방법을 배웠습니다. 그러나 원격 컴퓨터에서 함수를 실행하고 결과를 기다릴 필요가 있다면 어떻게 해야 할까요? 그건 다른 이야기입니다. 이 패턴은 일반적으로 원격 프로 시저 호출 또는 RPC로 알려져 있습니다. 이 포스트에서는 RabbitMQ를 사용하여 클라이언트와 확장 가능한 RPC 서버인 RPC 시스템을 구축 할 것입니다. 예제에서 피보나치 숫자를 반환하는 더미 RPC 서비스를 만들 것입니다.\n"
   ]
  },
  {
   "cell_type": "code",
   "execution_count": 1,
   "id": "3d0430fa-9aef-4665-8688-e203050ccf78",
   "metadata": {},
   "outputs": [
    {
     "name": "stdout",
     "output_type": "stream",
     "text": [
      "3.10.7\n"
     ]
    }
   ],
   "source": [
    "! rabbitmqctl --version"
   ]
  },
  {
   "cell_type": "markdown",
   "id": "5dfe67ac-663c-461d-b4d6-c6fc767e8135",
   "metadata": {},
   "source": [
    "## rpc_server.py\n",
    "- https://www.rabbitmq.com/tutorials/tutorial-six-python.html"
   ]
  },
  {
   "cell_type": "code",
   "execution_count": 2,
   "id": "aef687c3-2431-41a1-b8a7-86920ecd491a",
   "metadata": {},
   "outputs": [
    {
     "name": "stdout",
     "output_type": "stream",
     "text": [
      " [x] Sent '-f':'/Users/jpark/Library/Jupyter/runtime/kernel-175297e0-39be-496f-9295-c9012667278b.json'\n"
     ]
    }
   ],
   "source": [
    "import pika\n",
    "\n",
    "connection = pika.BlockingConnection(\n",
    "    pika.ConnectionParameters(host='localhost'))\n",
    "\n",
    "channel = connection.channel()\n",
    "\n",
    "channel.queue_declare(queue='rpc_queue')\n",
    "\n",
    "def fib(n):\n",
    "    if n == 0:\n",
    "        return 0\n",
    "    elif n == 1:\n",
    "        return 1\n",
    "    else:\n",
    "        return fib(n - 1) + fib(n - 2)\n",
    "\n",
    "def on_request(ch, method, props, body):\n",
    "    n = int(body)\n",
    "\n",
    "    print(\" [.] fib(%s)\" % n)\n",
    "    response = fib(n)\n",
    "\n",
    "    ch.basic_publish(exchange='',\n",
    "                     routing_key=props.reply_to,\n",
    "                     properties=pika.BasicProperties(correlation_id = \\\n",
    "                                                         props.correlation_id),\n",
    "                     body=str(response))\n",
    "    ch.basic_ack(delivery_tag=method.delivery_tag)\n",
    "\n",
    "channel.basic_qos(prefetch_count=1)\n",
    "channel.basic_consume(queue='rpc_queue', on_message_callback=on_request)\n",
    "\n",
    "print(\" [x] Awaiting RPC requests\")\n",
    "channel.start_consuming()"
   ]
  },
  {
   "cell_type": "markdown",
   "id": "32e6d601-21fb-43de-93f0-a494fc8649c8",
   "metadata": {},
   "source": [
    "## receive_logs_topic.py \n",
    "- https://www.rabbitmq.com/tutorials/tutorial-six-python.html"
   ]
  },
  {
   "cell_type": "code",
   "execution_count": null,
   "id": "d70ef03f-7309-48be-b3f4-b7bca9e32352",
   "metadata": {},
   "outputs": [],
   "source": [
    "#!/usr/bin/env python\n",
    "import pika\n",
    "import sys\n",
    "\n",
    "connection = pika.BlockingConnection(\n",
    "    pika.ConnectionParameters(host='localhost'))\n",
    "channel = connection.channel()\n",
    "\n",
    "channel.exchange_declare(exchange='topic_logs', exchange_type='topic')\n",
    "\n",
    "result = channel.queue_declare('', exclusive=True)\n",
    "queue_name = result.method.queue\n",
    "\n",
    "binding_keys = sys.argv[1:]\n",
    "if not binding_keys:\n",
    "    sys.stderr.write(\"Usage: %s [binding_key]...\\n\" % sys.argv[0])\n",
    "    sys.exit(1)\n",
    "\n",
    "for binding_key in binding_keys:\n",
    "    channel.queue_bind(\n",
    "        exchange='topic_logs', queue=queue_name, routing_key=binding_key)\n",
    "\n",
    "print(' [*] Waiting for logs. To exit press CTRL+C')\n",
    "\n",
    "\n",
    "def callback(ch, method, properties, body):\n",
    "    print(\" [x] %r:%r\" % (method.routing_key, body))\n",
    "\n",
    "\n",
    "channel.basic_consume(\n",
    "    queue=queue_name, on_message_callback=callback, auto_ack=True)\n",
    "\n",
    "channel.start_consuming()"
   ]
  },
  {
   "cell_type": "markdown",
   "id": "41042db6-74f9-4bc5-ab9b-69208844c017",
   "metadata": {},
   "source": [
    "\n",
    "## 사용예시\n",
    "\n",
    "```bash\n",
    "python receive_logs_topic.py \"#\"\n",
    "python receive_logs_topic.py \"kern.*\"\n",
    "python receive_logs_topic.py \"*.critical\"\n",
    "python receive_logs_topic.py \"kern.*\" \"*.critical\"\n",
    "python emit_log_topic.py \"kern.critical\" \"A critical kernel error\"\n",
    "```\n",
    "\n",
    "\n"
   ]
  },
  {
   "cell_type": "code",
   "execution_count": null,
   "id": "f3bf740a-6ce4-47e8-85e2-e7f5b3bfab38",
   "metadata": {},
   "outputs": [],
   "source": []
  },
  {
   "cell_type": "code",
   "execution_count": null,
   "id": "65c172bc-d6e6-45a6-8032-4d1c890b799a",
   "metadata": {},
   "outputs": [],
   "source": []
  },
  {
   "cell_type": "code",
   "execution_count": null,
   "id": "56c98aa6-b900-448e-8937-a83f7e817769",
   "metadata": {},
   "outputs": [],
   "source": []
  },
  {
   "cell_type": "code",
   "execution_count": null,
   "id": "7d40bda0-72c9-4167-94da-f5c727c1bc2e",
   "metadata": {},
   "outputs": [],
   "source": []
  },
  {
   "cell_type": "code",
   "execution_count": 2,
   "id": "589d4391-a4e8-44d3-91b1-4d9f6a9cd57e",
   "metadata": {},
   "outputs": [
    {
     "name": "stdout",
     "output_type": "stream",
     "text": [
      "Listing exchanges for vhost / ...\n",
      "name\ttype\n",
      "amq.headers\theaders\n",
      "amq.match\theaders\n",
      "amq.rabbitmq.trace\ttopic\n",
      "amq.direct\tdirect\n",
      "amq.topic\ttopic\n",
      "amq.fanout\tfanout\n",
      "\tdirect\n"
     ]
    }
   ],
   "source": [
    "! rabbitmqctl list_exchanges"
   ]
  },
  {
   "cell_type": "code",
   "execution_count": 5,
   "id": "0d738234-4529-49fd-9b8e-ed3e05516a01",
   "metadata": {},
   "outputs": [
    {
     "name": "stdout",
     "output_type": "stream",
     "text": [
      "+--------------------+---------+\n",
      "|        name        |  type   |\n",
      "+--------------------+---------+\n",
      "|                    | direct  |\n",
      "| amq.direct         | direct  |\n",
      "| amq.fanout         | fanout  |\n",
      "| amq.headers        | headers |\n",
      "| amq.match          | headers |\n",
      "| amq.rabbitmq.trace | topic   |\n",
      "| amq.topic          | topic   |\n",
      "+--------------------+---------+\n"
     ]
    }
   ],
   "source": [
    "! rabbitmqadmin list exchanges"
   ]
  },
  {
   "cell_type": "code",
   "execution_count": 6,
   "id": "bde312b7-4d6b-44f2-a20e-521bf62757f7",
   "metadata": {},
   "outputs": [
    {
     "name": "stdout",
     "output_type": "stream",
     "text": [
      "Listing bindings for vhost /...\n",
      "source_name\tsource_kind\tdestination_name\tdestination_kind\trouting_key\targuments\n",
      "\texchange\ttask_queue\tqueue\ttask_queue\t[]\n",
      "\texchange\thello\tqueue\thello\t[]\n"
     ]
    }
   ],
   "source": [
    "! rabbitmqctl list_bindings"
   ]
  },
  {
   "cell_type": "code",
   "execution_count": 7,
   "id": "aca9b6a1-cab6-4ec9-9454-a1fb0499816e",
   "metadata": {},
   "outputs": [
    {
     "name": "stdout",
     "output_type": "stream",
     "text": [
      "+--------+-------------+-------------+\n",
      "| source | destination | routing_key |\n",
      "+--------+-------------+-------------+\n",
      "|        | hello       | hello       |\n",
      "|        | task_queue  | task_queue  |\n",
      "+--------+-------------+-------------+\n"
     ]
    }
   ],
   "source": [
    "! rabbitmqadmin list bindings"
   ]
  },
  {
   "cell_type": "code",
   "execution_count": null,
   "id": "9a591b6c-1c89-4f59-92f5-b0da09bee14b",
   "metadata": {},
   "outputs": [],
   "source": []
  },
  {
   "cell_type": "code",
   "execution_count": null,
   "id": "8844ac2a-8554-44ad-91a8-6e6806ef5dbd",
   "metadata": {},
   "outputs": [],
   "source": []
  }
 ],
 "metadata": {
  "kernelspec": {
   "display_name": "Python 3 (ipykernel)",
   "language": "python",
   "name": "python3"
  },
  "language_info": {
   "codemirror_mode": {
    "name": "ipython",
    "version": 3
   },
   "file_extension": ".py",
   "mimetype": "text/x-python",
   "name": "python",
   "nbconvert_exporter": "python",
   "pygments_lexer": "ipython3",
   "version": "3.9.13"
  }
 },
 "nbformat": 4,
 "nbformat_minor": 5
}
