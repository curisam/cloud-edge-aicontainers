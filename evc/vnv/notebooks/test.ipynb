{
 "cells": [
  {
   "cell_type": "code",
   "execution_count": 2,
   "metadata": {},
   "outputs": [
    {
     "data": {
      "text/plain": [
       "{'activation': 'gradio',\n",
       " 'group': ['keti_nuc', 'keti_rpi', 'keti_server'],\n",
       " 'target': {'keti_nuc': [{'name': 'n01',\n",
       "    'ip': 'evc.re.kr',\n",
       "    'port': 33312,\n",
       "    'hw': 'intel_NUC',\n",
       "    'os': 'ubuntu',\n",
       "    'gpu': 'RTX2080'},\n",
       "   {'name': 'n02',\n",
       "    'ip': 'evc.re.kr',\n",
       "    'port': 33322,\n",
       "    'hw': 'intel_NUC',\n",
       "    'os': 'ubuntu',\n",
       "    'gpu': 'RTX2080'}],\n",
       "  'keti_rpi': [{'name': 'rpi6402',\n",
       "    'ip': 'evc.re.kr',\n",
       "    'port': 39002,\n",
       "    'hw': 'RPI',\n",
       "    'os': 'linux',\n",
       "    'gpu': 'None'},\n",
       "   {'name': 'rpi6403',\n",
       "    'ip': 'evc.re.kr',\n",
       "    'port': 39003,\n",
       "    'hw': 'RPI',\n",
       "    'os': 'linux',\n",
       "    'gpu': 'None'}],\n",
       "  'keti_server': [{'name': 'p02',\n",
       "    'ip': 'evc.re.kr',\n",
       "    'port': 20023,\n",
       "    'hw': 'intel_Server',\n",
       "    'os': 'ubuntu',\n",
       "    'gpu': 'RTX4090'}]},\n",
       " 'owner': 'keti',\n",
       " 'model_name': 'selective-run-test',\n",
       " 'version': '1.2',\n",
       " 'task': 'detection',\n",
       " 'data': 'None'}"
      ]
     },
     "execution_count": 2,
     "metadata": {},
     "output_type": "execute_result"
    }
   ],
   "source": [
    "import os\n",
    "import yaml\n",
    "import re\n",
    "\n",
    "config_file = os.getcwd() + '/' + 'config.yaml'\n",
    "\n",
    "with open(config_file) as f:\n",
    "    cfg = yaml.load(f, Loader=yaml.FullLoader)\n",
    "\n",
    "cfg"
   ]
  },
  {
   "cell_type": "code",
   "execution_count": 3,
   "metadata": {},
   "outputs": [
    {
     "name": "stdout",
     "output_type": "stream",
     "text": [
      " nuc :  keti_nuc \n",
      " rpi :  keti_rpi \n",
      " server :  keti_server\n"
     ]
    }
   ],
   "source": [
    "for groups in cfg['group']:\n",
    "    if 'nuc' in groups:\n",
    "        group_nuc = groups\n",
    "    elif 'rpi' in groups:\n",
    "        group_rpi = groups\n",
    "    elif 'server' in groups:\n",
    "        group_sv = groups\n",
    "\n",
    "print(\" nuc : \", group_nuc, \"\\n\",\n",
    "      \"rpi : \", group_rpi, \"\\n\",\n",
    "      \"server : \", group_sv)"
   ]
  },
  {
   "cell_type": "code",
   "execution_count": 4,
   "metadata": {},
   "outputs": [
    {
     "data": {
      "text/plain": [
       "['n01', 'n02']"
      ]
     },
     "execution_count": 4,
     "metadata": {},
     "output_type": "execute_result"
    }
   ],
   "source": [
    "node_nuc = []\n",
    "node_rpi = []\n",
    "node_sv = []\n",
    "\n",
    "for d in cfg['target'].keys():\n",
    "    if 'nuc' in d:\n",
    "        for i in range(len(cfg['target'][d])):\n",
    "            node_nuc.append(cfg['target'][d][i]['name'])\n",
    "    \n",
    "    elif 'rpi' in d:\n",
    "        for i in range(len(cfg['target'][d])):\n",
    "            node_rpi.append(cfg['target'][d][i]['name'])\n",
    "    \n",
    "    elif 'server' in d:\n",
    "        for i in range(len(cfg['target'][d])):\n",
    "            node_sv.append(cfg['target'][d][i]['name'])\n",
    "\n",
    "node_nuc"
   ]
  },
  {
   "cell_type": "markdown",
   "metadata": {},
   "source": []
  },
  {
   "cell_type": "code",
   "execution_count": 5,
   "metadata": {},
   "outputs": [
    {
     "data": {
      "text/plain": [
       "['rpi6402', 'rpi6403']"
      ]
     },
     "execution_count": 5,
     "metadata": {},
     "output_type": "execute_result"
    }
   ],
   "source": [
    "node_rpi"
   ]
  },
  {
   "cell_type": "code",
   "execution_count": 6,
   "metadata": {},
   "outputs": [
    {
     "data": {
      "text/plain": [
       "['p02']"
      ]
     },
     "execution_count": 6,
     "metadata": {},
     "output_type": "execute_result"
    }
   ],
   "source": [
    "node_sv"
   ]
  },
  {
   "cell_type": "code",
   "execution_count": 11,
   "metadata": {},
   "outputs": [
    {
     "data": {
      "text/plain": [
       "{'resnet18': ['rpi6402', 'rpi6403'],\n",
       " 'resnet50': ['n01', 'n02'],\n",
       " 'resnet152': ['p02']}"
      ]
     },
     "execution_count": 11,
     "metadata": {},
     "output_type": "execute_result"
    }
   ],
   "source": [
    "new_dict = {\n",
    "    \"resnet18\" : node_rpi,\n",
    "    \"resnet50\" : node_nuc,\n",
    "    \"resnet152\" : node_sv\n",
    "    }\n",
    "\n",
    "new_dict"
   ]
  },
  {
   "cell_type": "code",
   "execution_count": 15,
   "metadata": {},
   "outputs": [
    {
     "name": "stdout",
     "output_type": "stream",
     "text": [
      "dict_keys(['resnet18', 'resnet50', 'resnet152'])\n"
     ]
    }
   ],
   "source": [
    "print()"
   ]
  },
  {
   "cell_type": "code",
   "execution_count": 18,
   "metadata": {},
   "outputs": [
    {
     "name": "stdout",
     "output_type": "stream",
     "text": [
      "rpi6402\n",
      "rpi6403\n",
      "n01\n",
      "n02\n",
      "p02\n"
     ]
    }
   ],
   "source": [
    "for m in new_dict.keys():\n",
    "    for n in new_dict[m]:\n",
    "        print(n)"
   ]
  },
  {
   "cell_type": "code",
   "execution_count": null,
   "metadata": {},
   "outputs": [],
   "source": []
  }
 ],
 "metadata": {
  "kernelspec": {
   "display_name": "evc-migrate",
   "language": "python",
   "name": "python3"
  },
  "language_info": {
   "codemirror_mode": {
    "name": "ipython",
    "version": 3
   },
   "file_extension": ".py",
   "mimetype": "text/x-python",
   "name": "python",
   "nbconvert_exporter": "python",
   "pygments_lexer": "ipython3",
   "version": "3.8.15"
  },
  "orig_nbformat": 4
 },
 "nbformat": 4,
 "nbformat_minor": 2
}
