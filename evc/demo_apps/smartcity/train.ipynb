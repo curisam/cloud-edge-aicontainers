{
 "cells": [
  {
   "cell_type": "markdown",
   "id": "8387929c-32d1-4fde-b249-56a4b3ffb602",
   "metadata": {},
   "source": [
    "# smart city"
   ]
  },
  {
   "cell_type": "markdown",
   "id": "1dc88e31-8b18-4c93-8f04-73a6abd2f149",
   "metadata": {},
   "source": [
    "## Drone Detector"
   ]
  },
  {
   "cell_type": "code",
   "execution_count": null,
   "id": "c3a143b9-2d37-4b5b-91b3-beaeffb37e07",
   "metadata": {},
   "outputs": [],
   "source": []
  }
 ],
 "metadata": {
  "kernelspec": {
   "display_name": "Python 3 (ipykernel)",
   "language": "python",
   "name": "python3"
  },
  "language_info": {
   "codemirror_mode": {
    "name": "ipython",
    "version": 3
   },
   "file_extension": ".py",
   "mimetype": "text/x-python",
   "name": "python",
   "nbconvert_exporter": "python",
   "pygments_lexer": "ipython3",
   "version": "3.10.12"
  }
 },
 "nbformat": 4,
 "nbformat_minor": 5
}
