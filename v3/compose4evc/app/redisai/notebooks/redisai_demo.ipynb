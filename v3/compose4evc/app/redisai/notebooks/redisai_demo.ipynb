{
 "cells": [
  {
   "cell_type": "markdown",
   "id": "0e661f9a-9291-4f32-973c-e52ac6254554",
   "metadata": {},
   "source": [
    "# RedisAI"
   ]
  },
  {
   "cell_type": "code",
   "execution_count": 1,
   "id": "0fd3c873-521a-4160-861c-4b78930ca2ef",
   "metadata": {},
   "outputs": [],
   "source": [
    "import numpy as np\n",
    "from sklearn.datasets import load_iris\n",
    "from sklearn.model_selection import train_test_split\n",
    "from sklearn.linear_model import LogisticRegression\n",
    "from ml2rt import save_sklearn, load_model\n",
    "from redisai import Client\n"
   ]
  },
  {
   "cell_type": "code",
   "execution_count": null,
   "id": "277f6795-9a18-46af-83e4-4da766c1bd02",
   "metadata": {},
   "outputs": [],
   "source": [
    "# RedisAI Client\n",
    "redisai_client = Client(host='localhost', port=6379)"
   ]
  },
  {
   "cell_type": "code",
   "execution_count": null,
   "id": "b2b2742c-1231-4b16-b43f-fea61ee5ac75",
   "metadata": {},
   "outputs": [],
   "source": []
  },
  {
   "cell_type": "code",
   "execution_count": null,
   "id": "fceec9f7-0123-4332-a325-6da5aa884c5f",
   "metadata": {},
   "outputs": [],
   "source": []
  },
  {
   "cell_type": "code",
   "execution_count": null,
   "id": "977c8310-caaf-4565-98fc-10c4922eafb7",
   "metadata": {},
   "outputs": [],
   "source": []
  },
  {
   "cell_type": "code",
   "execution_count": null,
   "id": "15f8e2e4-1127-4de6-a2ab-3f2bb82572c8",
   "metadata": {},
   "outputs": [],
   "source": []
  }
 ],
 "metadata": {
  "kernelspec": {
   "display_name": "dl4cv",
   "language": "python",
   "name": "dl4cv"
  },
  "language_info": {
   "codemirror_mode": {
    "name": "ipython",
    "version": 3
   },
   "file_extension": ".py",
   "mimetype": "text/x-python",
   "name": "python",
   "nbconvert_exporter": "python",
   "pygments_lexer": "ipython3",
   "version": "3.8.10"
  }
 },
 "nbformat": 4,
 "nbformat_minor": 5
}
