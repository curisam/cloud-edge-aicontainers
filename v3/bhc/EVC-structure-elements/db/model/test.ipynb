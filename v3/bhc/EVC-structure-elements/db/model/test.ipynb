{
 "cells": [
  {
   "cell_type": "code",
   "execution_count": 23,
   "id": "6ea49099",
   "metadata": {},
   "outputs": [],
   "source": [
    "import os\n",
    "import sqlite3\n",
    "import schedule\n",
    "import time\n",
    "\n",
    "import re"
   ]
  },
  {
   "cell_type": "code",
   "execution_count": 3,
   "id": "613070eb",
   "metadata": {},
   "outputs": [
    {
     "name": "stdout",
     "output_type": "stream",
     "text": [
      "        \"Prediction :  [('n02219486', 'ant', 0.9818205), ('n02165105', 'tiger_beetle', 0.00959373), ('n02168699', 'long-horned_beetle', 0.0039857603), ('n02268443', 'dragonfly', 0.00078227365), ('n02229544', 'cricket', 0.00072638784)]\"\n",
      "\n",
      "    ]\n",
      "\n",
      "}\n",
      "\n",
      "\n",
      "\n",
      "PLAY RECAP *********************************************************************\n",
      "\n",
      "['        Prediction    ant 0.9818205  tigerbeetle 0.00959373  longhornedbeetle 0.0039857603  dragonfly 0.00078227365  cricket 0.00072638784', '    ', '', '', 'PLAY RECAP ']\n"
     ]
    }
   ],
   "source": [
    "# os.system(\"ansible-playbook run_model.yaml -t pred > predlog.txt\")\n",
    "\n",
    "rows = []\n",
    "p_start = re.compile('Prediction :.+')\n",
    "p_end = re.compile('PLAY RECAP.+')\n",
    "\n",
    "with open (\"predlog.txt\", 'r') as f:\n",
    "    lines = f.readlines()\n",
    "\n",
    "    for line in lines:\n",
    "        start = p_start.search(str(line))\n",
    "\n",
    "        if start:\n",
    "            idx = lines.index(line)\n",
    "            run = True\n",
    "\n",
    "            while run:\n",
    "                ## drop no-useful strings and characters\n",
    "                print(lines[idx])\n",
    "                lines[idx] = re.sub(r\"[^\\uAC00-\\uD7A30-9a-zA-Z\\s\\.]\", \"\", lines[idx])\n",
    "                lines[idx] = re.sub(\"\\n\", \"\", lines[idx])\n",
    "                lines[idx] = re.sub(\"n\\d+\", \"\", lines[idx])\n",
    "\n",
    "                rows.append(lines[idx])\n",
    "                ## search end of task\n",
    "                end = p_end.search(lines[idx])\n",
    "\n",
    "                idx += 1\n",
    "\n",
    "                if end:\n",
    "                    run = False\n",
    "                    \n",
    "print(rows)"
   ]
  },
  {
   "cell_type": "code",
   "execution_count": 7,
   "id": "c2934a6e",
   "metadata": {},
   "outputs": [
    {
     "name": "stdout",
     "output_type": "stream",
     "text": [
      "['Prediction', 'ant', '0.9818205', 'tigerbeetle', '0.00959373', 'longhornedbeetle', '0.0039857603', 'dragonfly', '0.00078227365', 'cricket', '0.00072638784']\n"
     ]
    }
   ],
   "source": [
    "print(rows[0].split())"
   ]
  },
  {
   "cell_type": "code",
   "execution_count": 18,
   "id": "a32c4cfa",
   "metadata": {
    "scrolled": true
   },
   "outputs": [
    {
     "name": "stdout",
     "output_type": "stream",
     "text": [
      "['Prediction', 'ant', '0.9818205', 'tigerbeetle', '0.00959373', 'longhornedbeetle', '0.0039857603', 'dragonfly', '0.00078227365', 'cricket', '0.00072638784']\n"
     ]
    }
   ],
   "source": [
    "data = rows[0].split()\n",
    "\n",
    "print(data)"
   ]
  },
  {
   "cell_type": "code",
   "execution_count": 19,
   "id": "94256946",
   "metadata": {},
   "outputs": [
    {
     "name": "stdout",
     "output_type": "stream",
     "text": [
      "['ant', '0.9818205', 'tigerbeetle', '0.00959373', 'longhornedbeetle', '0.0039857603', 'dragonfly', '0.00078227365', 'cricket', '0.00072638784']\n"
     ]
    }
   ],
   "source": [
    "data = data[1:]\n",
    "\n",
    "print(data)"
   ]
  },
  {
   "cell_type": "code",
   "execution_count": 20,
   "id": "2bf24c1d",
   "metadata": {},
   "outputs": [],
   "source": [
    "cls = data[0::2]\n",
    "data = data[1::2]"
   ]
  },
  {
   "cell_type": "code",
   "execution_count": 21,
   "id": "bbfbec4d",
   "metadata": {},
   "outputs": [
    {
     "name": "stdout",
     "output_type": "stream",
     "text": [
      "['ant', 'tigerbeetle', 'longhornedbeetle', 'dragonfly', 'cricket']\n"
     ]
    }
   ],
   "source": [
    "print(cls)"
   ]
  },
  {
   "cell_type": "code",
   "execution_count": 22,
   "id": "419d7ad1",
   "metadata": {},
   "outputs": [
    {
     "name": "stdout",
     "output_type": "stream",
     "text": [
      "['0.9818205', '0.00959373', '0.0039857603', '0.00078227365', '0.00072638784']\n"
     ]
    }
   ],
   "source": [
    "print(data)"
   ]
  },
  {
   "cell_type": "code",
   "execution_count": 15,
   "id": "6b0c42bc",
   "metadata": {},
   "outputs": [
    {
     "name": "stdout",
     "output_type": "stream",
     "text": [
      "['rpi6401']\n"
     ]
    }
   ],
   "source": [
    "nodes = []\n",
    "\n",
    "## load current nodes info from hosts table\n",
    "con = sqlite3.connect('../nodes.db3')\n",
    "cur = con.cursor()\n",
    "cur.execute('select name from nodes where type = \"builder\"')\n",
    "tmp = cur.fetchall()\n",
    "\n",
    "## save node lists\n",
    "for node in tmp:\n",
    "    node = list(node)\n",
    "    node = str(node)\n",
    "    node = re.sub(r\"[^\\uAC00-\\uD7A30-9a-zA-Z\\s]\", \"\", node)\n",
    "    nodes.append(node)\n",
    "    \n",
    "print(nodes)"
   ]
  },
  {
   "cell_type": "code",
   "execution_count": 24,
   "id": "1dee725f",
   "metadata": {},
   "outputs": [],
   "source": [
    "now = round(time.time())\n",
    "log = []\n",
    "\n",
    "for i in range(len(cls)):\n",
    "    tmp = []\n",
    "    tmp.append(now)\n",
    "    tmp.append(nodes[0])\n",
    "    tmp.append(cls[i])\n",
    "    tmp.append(data[i])\n",
    "    tmp = tuple(tmp)\n",
    "    log.append(tmp)"
   ]
  },
  {
   "cell_type": "code",
   "execution_count": 25,
   "id": "dca52865",
   "metadata": {},
   "outputs": [
    {
     "name": "stdout",
     "output_type": "stream",
     "text": [
      "[(1673595515, 'rpi6401', 'ant', '0.9818205'), (1673595515, 'rpi6401', 'tigerbeetle', '0.00959373'), (1673595515, 'rpi6401', 'longhornedbeetle', '0.0039857603'), (1673595515, 'rpi6401', 'dragonfly', '0.00078227365'), (1673595515, 'rpi6401', 'cricket', '0.00072638784')]\n"
     ]
    }
   ],
   "source": [
    "print(log)"
   ]
  },
  {
   "cell_type": "code",
   "execution_count": 26,
   "id": "d2748796",
   "metadata": {},
   "outputs": [
    {
     "name": "stdout",
     "output_type": "stream",
     "text": [
      "(1673595515, 'rpi6401', 'ant', '0.9818205')\n",
      "(1673595515, 'rpi6401', 'tigerbeetle', '0.00959373')\n",
      "(1673595515, 'rpi6401', 'longhornedbeetle', '0.0039857603')\n",
      "(1673595515, 'rpi6401', 'dragonfly', '0.00078227365')\n",
      "(1673595515, 'rpi6401', 'cricket', '0.00072638784')\n"
     ]
    }
   ],
   "source": [
    "## insert data into DB\n",
    "con = sqlite3.connect('../nodes.db3')\n",
    "cur = con.cursor()\n",
    "query = \"insert into modelpred values(?,?,?,?);\"\n",
    "cur.executemany(query, log)\n",
    "con.commit()\n",
    "\n",
    "## show result\n",
    "cur.execute('select * from modelpred')\n",
    "out = cur.fetchall()\n",
    "\n",
    "for col in out:\n",
    "    print(col)\n",
    "\n",
    "con.close()"
   ]
  },
  {
   "cell_type": "code",
   "execution_count": null,
   "id": "88613e03",
   "metadata": {},
   "outputs": [],
   "source": []
  }
 ],
 "metadata": {
  "kernelspec": {
   "display_name": "Python 3 (ipykernel)",
   "language": "python",
   "name": "python3"
  },
  "language_info": {
   "codemirror_mode": {
    "name": "ipython",
    "version": 3
   },
   "file_extension": ".py",
   "mimetype": "text/x-python",
   "name": "python",
   "nbconvert_exporter": "python",
   "pygments_lexer": "ipython3",
   "version": "3.8.15"
  }
 },
 "nbformat": 4,
 "nbformat_minor": 5
}
