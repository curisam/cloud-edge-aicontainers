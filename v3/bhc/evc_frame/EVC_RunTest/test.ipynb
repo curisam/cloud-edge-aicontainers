{
 "cells": [
  {
   "cell_type": "code",
   "execution_count": 1,
   "metadata": {},
   "outputs": [
    {
     "name": "stdout",
     "output_type": "stream",
     "text": [
      "/home/keti/cloud-edge-aicontainers/v2/bhc/webapp/EVC_RunTest\n"
     ]
    }
   ],
   "source": [
    "!pwd"
   ]
  },
  {
   "cell_type": "code",
   "execution_count": 1,
   "metadata": {},
   "outputs": [],
   "source": [
    "import yaml\n",
    "\n",
    "with open('ServerConfig.yaml') as f:\n",
    "    default_set = yaml.load(f, Loader=yaml.FullLoader)\n",
    "\n",
    "default_cfg = default_set['autorun']"
   ]
  },
  {
   "cell_type": "code",
   "execution_count": 4,
   "metadata": {},
   "outputs": [
    {
     "data": {
      "text/plain": [
       "[{'name': 'activate AI model',\n",
       "  'activation': 'run',\n",
       "  'path': {'copy_playbook': '/home/keti/cloud-edge-aicontainers/v2/bhc/webapp/db/model/img_build/copy_model.yaml',\n",
       "   'build_playbook': '/home/keti/cloud-edge-aicontainers/v2/bhc/webapp/db/model/img_build/autorun.yaml',\n",
       "   'distrb_playbook': '/home/keti/cloud-edge-aicontainers/v2/bhc/webapp/db/model/run_model.yaml',\n",
       "   'hosts_file': '/home/keti/cloud-edge-aicontainers/v2/bhc/webapp/hosts.ini',\n",
       "   'db': '/home/keti/cloud-edge-aicontainers/v2/bhc/webapp/db/edge_logs.db3',\n",
       "   'registry': '123.214.186.252:39500'}}]"
      ]
     },
     "execution_count": 4,
     "metadata": {},
     "output_type": "execute_result"
    }
   ],
   "source": [
    "default_cfg"
   ]
  },
  {
   "cell_type": "code",
   "execution_count": 9,
   "metadata": {},
   "outputs": [
    {
     "data": {
      "text/plain": [
       "{'copy_playbook': '/home/keti/cloud-edge-aicontainers/v2/bhc/webapp/db/model/img_build/copy_model.yaml',\n",
       " 'build_playbook': '/home/keti/cloud-edge-aicontainers/v2/bhc/webapp/db/model/img_build/autorun.yaml',\n",
       " 'distrb_playbook': '/home/keti/cloud-edge-aicontainers/v2/bhc/webapp/db/model/run_model.yaml',\n",
       " 'hosts_file': '/home/keti/cloud-edge-aicontainers/v2/bhc/webapp/hosts.ini',\n",
       " 'db': '/home/keti/cloud-edge-aicontainers/v2/bhc/webapp/db/edge_logs.db3',\n",
       " 'registry': '123.214.186.252:39500'}"
      ]
     },
     "execution_count": 9,
     "metadata": {},
     "output_type": "execute_result"
    }
   ],
   "source": [
    "default_cfg[0]['path']"
   ]
  },
  {
   "cell_type": "code",
   "execution_count": 3,
   "metadata": {},
   "outputs": [
    {
     "data": {
      "text/plain": [
       "[{'name': 'rpi6401',\n",
       "  'ip': '123.214.186.192',\n",
       "  'port': 39001,\n",
       "  'hw': 'rpi',\n",
       "  'os': 'linux',\n",
       "  'gpu': 'None'},\n",
       " {'name': 'n01',\n",
       "  'ip': '123.214.186.192',\n",
       "  'port': 33312,\n",
       "  'hw': 'intel_NUC',\n",
       "  'os': 'ubuntu',\n",
       "  'gpu': 'RTX2080'}]"
      ]
     },
     "execution_count": 3,
     "metadata": {},
     "output_type": "execute_result"
    }
   ],
   "source": [
    "default_set['builders']"
   ]
  },
  {
   "cell_type": "code",
   "execution_count": 4,
   "metadata": {},
   "outputs": [
    {
     "name": "stdout",
     "output_type": "stream",
     "text": [
      "['rpi6401', 'n01']\n"
     ]
    }
   ],
   "source": [
    "builders = []\n",
    "\n",
    "for d in default_set['builders']:\n",
    "    builders.append(d['name'])\n",
    "\n",
    "print(builders)"
   ]
  },
  {
   "cell_type": "code",
   "execution_count": 7,
   "metadata": {},
   "outputs": [
    {
     "data": {
      "text/plain": [
       "'register'"
      ]
     },
     "execution_count": 7,
     "metadata": {},
     "output_type": "execute_result"
    }
   ],
   "source": [
    "default_cfg[0]['activation']"
   ]
  },
  {
   "cell_type": "code",
   "execution_count": 3,
   "metadata": {},
   "outputs": [],
   "source": [
    "import re\n",
    "\n",
    "rows = []\n",
    "p_start = re.compile('TASK \\[get result].+')\n",
    "p_end = re.compile('PLAY RECAP.+')\n",
    "\n",
    "with open('modelinfo.txt', 'r') as f:\n",
    "\n",
    "    lines = f.readlines()\n",
    "\n",
    "## search task start line\n",
    "    for line in lines:\n",
    "        start = p_start.search(str(line))\n",
    "\n",
    "        ## save index of string data\n",
    "        if start:\n",
    "            idx = lines.index(line)\n",
    "            run = True\n",
    "\n",
    "            while run:\n",
    "                lines[idx] = re.sub(r\"[^\\uAC00-\\uD7A30-9a-zA-Z\\s\\.\\-\\:\\_]\", \"\", lines[idx])\n",
    "                lines[idx] = re.sub(\" +\", \" \", lines[idx])\n",
    "                lines[idx] = re.sub(\"\\n\", \"\", lines[idx])\n",
    "                lines[idx] = re.sub(\"changed: \", \"\", lines[idx])\n",
    "                lines[idx] = re.sub(\"ok: \", \"\", lines[idx])\n",
    "\n",
    "                rows.append(lines[idx])\n",
    "\n",
    "                end = p_end.search(lines[idx])\n",
    "\n",
    "                idx += 1\n",
    "\n",
    "                if end:\n",
    "                    run = False"
   ]
  },
  {
   "cell_type": "code",
   "execution_count": 4,
   "metadata": {},
   "outputs": [
    {
     "name": "stdout",
     "output_type": "stream",
     "text": [
      "['TASK get result ', 'rpi6401 ', ' msg: ', ' date2023-06-17 03:20:57 0000 UTC', ' size2.14GB', ' repoaarch64-model', ' ', '', 'n01 ', ' msg: ', ' date2023-06-17 11:13:46 0900 KST', ' size8.68GB', ' repox86_64-model', ' ', '', '', 'PLAY RECAP ']\n"
     ]
    }
   ],
   "source": [
    "print(rows)"
   ]
  },
  {
   "cell_type": "code",
   "execution_count": 7,
   "metadata": {},
   "outputs": [
    {
     "name": "stdout",
     "output_type": "stream",
     "text": [
      "evc-test3\n"
     ]
    }
   ],
   "source": [
    "import os\n",
    "import re\n",
    "\n",
    "url = \"https://github.com/ethicsense/evc-test3.git\"\n",
    "git_account = \"ethicsense\"\n",
    "\n",
    "p_repo = re.compile(\"\\/{git_account}\\/.+\\.git\".format(git_account=git_account))\n",
    "repo = p_repo.findall(url)[0]\n",
    "repo = repo.replace(git_account, '')\n",
    "repo = repo.replace('/', '')\n",
    "repo = repo.replace('.git', '')\n",
    "\n",
    "print(repo)"
   ]
  },
  {
   "cell_type": "markdown",
   "metadata": {},
   "source": [
    "# 2023. 09. 06\n",
    "# 모델 색인 절차 보완"
   ]
  },
  {
   "cell_type": "code",
   "execution_count": 4,
   "metadata": {},
   "outputs": [
    {
     "data": {
      "text/plain": [
       "0"
      ]
     },
     "execution_count": 4,
     "metadata": {},
     "output_type": "execute_result"
    }
   ],
   "source": [
    "import json\n",
    "import os\n",
    "import subprocess\n",
    "import re\n",
    "\n",
    "os.system('ansible-playbook ../playbooks/get_index.yaml -i ../hosts.ini -l rpi6401 > tmp/index.txt')"
   ]
  },
  {
   "cell_type": "code",
   "execution_count": 21,
   "metadata": {},
   "outputs": [
    {
     "name": "stdout",
     "output_type": "stream",
     "text": [
      "target node : rpi6401 \n",
      "cpu architecture : aarch64\n"
     ]
    }
   ],
   "source": [
    "rows = []\n",
    "p_start = re.compile('TASK \\[get CPU architecture].+')\n",
    "p_end = re.compile('PLAY RECAP.+')\n",
    "\n",
    "with open('tmp/index.txt', 'r') as f:\n",
    "    lines = f.readlines()\n",
    "\n",
    "    for line in lines:\n",
    "        start = p_start.search(str(line))\n",
    "\n",
    "        if start:\n",
    "            idx = lines.index(line)\n",
    "            run = True\n",
    "            idx += 1\n",
    "\n",
    "            while run:\n",
    "                lines[idx] = re.sub(r\"[^\\uAC00-\\uD7A30-9a-zA-Z\\s\\.\\-\\:\\_]\", \"\", lines[idx])\n",
    "                lines[idx] = re.sub(\" +\", \" \", lines[idx])\n",
    "                lines[idx] = re.sub(\"\\n\", \"\", lines[idx])\n",
    "                lines[idx] = re.sub(\"changed.+\", \"\", lines[idx])\n",
    "                lines[idx] = re.sub(\"ok: \", \"\", lines[idx])\n",
    "                lines[idx] = re.sub(\" ansible_factsarchitecture: \", \"\", lines[idx])\n",
    "\n",
    "                rows.append(lines[idx])\n",
    "                end = p_end.search(lines[idx])\n",
    "                idx += 1\n",
    "\n",
    "                if end:\n",
    "                    run = False\n",
    "node = rows[0]\n",
    "arch = rows[1]\n",
    "\n",
    "print(\"target node :\", node)\n",
    "print(\"cpu architecture :\", arch)\n"
   ]
  },
  {
   "cell_type": "code",
   "execution_count": null,
   "metadata": {},
   "outputs": [],
   "source": []
  },
  {
   "cell_type": "markdown",
   "metadata": {},
   "source": [
    "# 2023 10 31\n",
    "## 그라디오 내부 기능 실험"
   ]
  },
  {
   "cell_type": "code",
   "execution_count": 1,
   "metadata": {},
   "outputs": [],
   "source": [
    "node = \"rpi6401\"\n",
    "ip = \"12.3.1.5\"\n",
    "port = 3333\n",
    "app = \"12.3.1.5:3333\"\n",
    "\n",
    "node_list = []\n",
    "n = [node, ip, port, app]\n",
    "node_list.append(n)"
   ]
  },
  {
   "cell_type": "code",
   "execution_count": 2,
   "metadata": {},
   "outputs": [
    {
     "name": "stdout",
     "output_type": "stream",
     "text": [
      "[['rpi6401', '12.3.1.5', 3333, '12.3.1.5:3333']]\n"
     ]
    }
   ],
   "source": [
    "print(node_list)"
   ]
  },
  {
   "cell_type": "code",
   "execution_count": 3,
   "metadata": {},
   "outputs": [
    {
     "name": "stdout",
     "output_type": "stream",
     "text": [
      "helloworld\n"
     ]
    }
   ],
   "source": [
    "txt = \"helloworld\""
   ]
  },
  {
   "cell_type": "code",
   "execution_count": 4,
   "metadata": {},
   "outputs": [
    {
     "data": {
      "text/plain": [
       "'None'"
      ]
     },
     "execution_count": 4,
     "metadata": {},
     "output_type": "execute_result"
    }
   ],
   "source": [
    "txt"
   ]
  },
  {
   "cell_type": "markdown",
   "metadata": {},
   "source": [
    "# 2023 12 13\n",
    "## 로그 전처리 및 DB 기록 코드부 수정"
   ]
  },
  {
   "cell_type": "code",
   "execution_count": 11,
   "metadata": {},
   "outputs": [],
   "source": [
    "import re\n",
    "\n",
    "rows = []\n",
    "p_start = re.compile('TASK \\[get result].+')\n",
    "p_end = re.compile('PLAY RECAP.+')\n",
    "\n",
    "with open('tmp/modelinfo.txt', 'r') as f:\n",
    "\n",
    "            lines = f.readlines()\n",
    "\n",
    "        ## search task start line\n",
    "            for line in lines:\n",
    "                start = p_start.search(str(line))\n",
    "\n",
    "                ## save index of string data\n",
    "                if start:\n",
    "                    idx = lines.index(line)\n",
    "                    run = True\n",
    "\n",
    "                    while run:\n",
    "                        lines[idx] = re.sub(r\"[^\\uAC00-\\uD7A30-9a-zA-Z\\s\\.\\-\\:\\_]\", \"\", lines[idx])\n",
    "                        lines[idx] = re.sub(\" +\", \" \", lines[idx])\n",
    "                        lines[idx] = re.sub(\"\\n\", \"\", lines[idx])\n",
    "                        lines[idx] = re.sub(\"changed.+\", \"\", lines[idx])\n",
    "                        lines[idx] = re.sub(\"ok.+\", \"\", lines[idx])\n",
    "\n",
    "                        rows.append(lines[idx])\n",
    "\n",
    "                        end = p_end.search(lines[idx])\n",
    "\n",
    "                        idx += 1\n",
    "\n",
    "                        if end:\n",
    "                            run = False"
   ]
  },
  {
   "cell_type": "code",
   "execution_count": 12,
   "metadata": {},
   "outputs": [
    {
     "data": {
      "text/plain": [
       "['TASK get result ',\n",
       " '',\n",
       " ' msg:',\n",
       " ' - date2023-12-13 11:24:44 0900 KST',\n",
       " ' - size9.85GB',\n",
       " ' - repox86_64-model',\n",
       " '',\n",
       " 'PLAY RECAP ']"
      ]
     },
     "execution_count": 12,
     "metadata": {},
     "output_type": "execute_result"
    }
   ],
   "source": [
    "rows"
   ]
  },
  {
   "cell_type": "code",
   "execution_count": 14,
   "metadata": {},
   "outputs": [
    {
     "name": "stdout",
     "output_type": "stream",
     "text": [
      "['2023-12-13 11:24:44']\n"
     ]
    }
   ],
   "source": [
    "lst = []\n",
    "p_date = re.compile('\\d+-\\d+-\\d+ \\d+:\\d+:\\d+')\n",
    "\n",
    "for row in rows:\n",
    "    if 'date' in row:\n",
    "        tmp = p_date.findall(row)\n",
    "        print(tmp)\n",
    "        lst.append(tmp[0])\n",
    "\n",
    "    elif 'size' in row:\n",
    "        row = row.strip(' - size')\n",
    "        row = row.strip('GB')\n",
    "        lst.append(row)\n",
    "\n",
    "    elif 'repo' in row:\n",
    "        row = row.strip(' - repo')\n",
    "        lst.append(row)"
   ]
  },
  {
   "cell_type": "code",
   "execution_count": 15,
   "metadata": {},
   "outputs": [
    {
     "data": {
      "text/plain": [
       "['2023-12-13 11:24:44', '9.85', 'x86_64-model']"
      ]
     },
     "execution_count": 15,
     "metadata": {},
     "output_type": "execute_result"
    }
   ],
   "source": [
    "lst"
   ]
  },
  {
   "cell_type": "code",
   "execution_count": null,
   "metadata": {},
   "outputs": [],
   "source": []
  }
 ],
 "metadata": {
  "kernelspec": {
   "display_name": "edge-fw",
   "language": "python",
   "name": "python3"
  },
  "language_info": {
   "codemirror_mode": {
    "name": "ipython",
    "version": 3
   },
   "file_extension": ".py",
   "mimetype": "text/x-python",
   "name": "python",
   "nbconvert_exporter": "python",
   "pygments_lexer": "ipython3",
   "version": "3.8.15"
  },
  "orig_nbformat": 4
 },
 "nbformat": 4,
 "nbformat_minor": 2
}
