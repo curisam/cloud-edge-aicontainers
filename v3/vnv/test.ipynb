{
 "cells": [
  {
   "cell_type": "code",
   "execution_count": 7,
   "id": "884cc9d6-85bc-4752-acb6-fc12b1ee095b",
   "metadata": {},
   "outputs": [
    {
     "name": "stdout",
     "output_type": "stream",
     "text": [
      "i_true_cnt = 415\n",
      "accuracy = 0.83\n"
     ]
    }
   ],
   "source": [
    "from collections import OrderedDict\n",
    "from redis_connector import redis_connector\n",
    "from job_allocator import job_allocator\n",
    "\n",
    "rcon = redis_connector()\n",
    "\n",
    "def get_cluster_frame_result(total_frames):\n",
    "    \n",
    "    i_true_cnt = 0\n",
    "    for frame_idx in range(total_frames):\n",
    "        od = rcon.hgetall(f'vnv:edge:advanced:cluster_frame:{frame_idx:04d}')\n",
    "        \n",
    "        try:\n",
    "            #print(f'{frame_idx} ... {od}')\n",
    "            if od[b'is_true'] == b'True':\n",
    "                i_true_cnt += 1\n",
    "        except:\n",
    "            pass\n",
    "        \n",
    "    true_ratio = i_true_cnt/total_frames\n",
    "    print(f'i_true_cnt = {i_true_cnt}')\n",
    "    print(f'accuracy = {true_ratio}')\n",
    "    rcon.hmset('vnv:edge:advanced:stat', \n",
    "               {'i_true_cnt':i_true_cnt,\n",
    "                'accuracy':true_ratio\n",
    "               }\n",
    "    )\n",
    "\n",
    "get_cluster_frame_result(500)"
   ]
  },
  {
   "cell_type": "code",
   "execution_count": null,
   "id": "d3ce7638-bff2-4064-af69-452b4cfb4287",
   "metadata": {},
   "outputs": [],
   "source": []
  }
 ],
 "metadata": {
  "kernelspec": {
   "display_name": "dl4cv",
   "language": "python",
   "name": "dl4cv"
  },
  "language_info": {
   "codemirror_mode": {
    "name": "ipython",
    "version": 3
   },
   "file_extension": ".py",
   "mimetype": "text/x-python",
   "name": "python",
   "nbconvert_exporter": "python",
   "pygments_lexer": "ipython3",
   "version": "3.8.10"
  }
 },
 "nbformat": 4,
 "nbformat_minor": 5
}
